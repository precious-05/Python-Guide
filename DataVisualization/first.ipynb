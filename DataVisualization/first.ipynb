{
 "cells": [
  {
   "cell_type": "markdown",
   "metadata": {},
   "source": [
    "##### ``Why we need Data Visualization and what is Data Visualization``\n",
    "- We need data visualization because human brain can process information easily when it is in pictorial or graph form. \n",
    "- Example: If a person is running his busines in Pakistan in different Cities. Suppose his business has good sales in Islamabad and Lahore. Now if he finds this sales using numbers then it will be difficult for him to understand because there is a lot of data, a lot of customers data.\n",
    "- So it becomes difficult to detect that in which city there is the top most sale using numbers. But it will be easy to detect using the chart. such as making a bar graph. In the bar graph if the bar of Islamabad is larger than the bar of Karachi then it will be very easy to understand that the sales in Islamabad is good. Human brain will easily capture this because of colors, size e.t.c"
   ]
  },
  {
   "cell_type": "code",
   "execution_count": 2,
   "metadata": {},
   "outputs": [],
   "source": [
    "import pandas as pd\n",
    "import matplotlib.pyplot as plt"
   ]
  }
 ],
 "metadata": {
  "kernelspec": {
   "display_name": "Python 3",
   "language": "python",
   "name": "python3"
  },
  "language_info": {
   "codemirror_mode": {
    "name": "ipython",
    "version": 3
   },
   "file_extension": ".py",
   "mimetype": "text/x-python",
   "name": "python",
   "nbconvert_exporter": "python",
   "pygments_lexer": "ipython3",
   "version": "3.12.4"
  }
 },
 "nbformat": 4,
 "nbformat_minor": 2
}
