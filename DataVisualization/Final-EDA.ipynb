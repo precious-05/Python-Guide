{
 "cells": [
  {
   "cell_type": "markdown",
   "metadata": {},
   "source": [
    "#### **Exploratory Data Analysis**"
   ]
  },
  {
   "cell_type": "code",
   "execution_count": null,
   "metadata": {},
   "outputs": [],
   "source": [
    "import pandas as pd\n",
    "import matplotlib.pyplot as plt\n",
    "import seaborn as sns\n",
    "df=pd.read_csv('C:\\\\Users\\\\Hp\\\\Desktop\\\\learning\\\\Python-Guide\\\\practicePandas\\\\thyroid2(2).csv')\n",
    "df1=pd.read_csv('C:\\\\Users\\\\Hp\\\\Desktop\\\\learning\\\\Python-Guide\\\\practicePandas\\\\Thyroid_Diff.csv')"
   ]
  },
  {
   "cell_type": "code",
   "execution_count": null,
   "metadata": {},
   "outputs": [],
   "source": [
    "#df1['Physical Examination'].unique()"
   ]
  },
  {
   "cell_type": "code",
   "execution_count": null,
   "metadata": {},
   "outputs": [],
   "source": [
    "# During EDA code will generate different warnings so lets disable all the warnings\n",
    "import warnings\n",
    "warnings.filterwarnings('ignore')"
   ]
  },
  {
   "cell_type": "markdown",
   "metadata": {},
   "source": [
    "#### **Display Top 5 Rows of the Dataset**"
   ]
  },
  {
   "cell_type": "code",
   "execution_count": null,
   "metadata": {},
   "outputs": [],
   "source": [
    "df.head()"
   ]
  },
  {
   "cell_type": "markdown",
   "metadata": {},
   "source": [
    "#### **Display Last 5 Rows of the Dataset**"
   ]
  },
  {
   "cell_type": "code",
   "execution_count": null,
   "metadata": {},
   "outputs": [],
   "source": [
    "df.tail()"
   ]
  },
  {
   "cell_type": "code",
   "execution_count": null,
   "metadata": {},
   "outputs": [],
   "source": [
    "#---------------------------------------------------------- Understanding Eaxh Column --------------------------------------------------------------------\n",
    "# Age: age of the patient\n",
    "\n",
    "# Gender: Male/Female\n",
    "\n",
    "# Smoking: Current smoking situation of patient\n",
    "\n",
    "# Hx Smoking: Smoking history of patient (did he/she ever did smoking)\n",
    "\n",
    "# Hx Radiothreapy: Did patient ever had radiotherapy \n",
    "\n",
    "# Thyroid Function: Normal/Abnormal Functioning of Thyroid gland\n",
    "                       # We use the terms clinical and subclinical to describe the presence or absence of noticeable symptoms:\n",
    "                       # Euthyroid/Normal thyroid: Means normal thyroid function. The thyroid is producing the right amount of hormones.\n",
    "                      #Clinical Hyperthyroidism: The thyroid produces too much hormone, causing noticeable symptoms (like weight loss, rapid heartbeat).\n",
    "                     #Subclinical Hypothyroidism: Thyroid function is slightly low, but without obvious symptoms. \n",
    "                    # Blood tests may show mild abnormalities, but the person feels fine\n",
    " \n",
    "## Physical Examination: Single nodular goiter-left: A single lump or nodule on the left side of the thyroid gland.\n",
    "                         #Multinodular goiter: Multiple nodules or lumps in the thyroid gland.\n",
    "                          #Single nodular goiter-right: A single lump or nodule on the right side of the thyroid gland.\n",
    "                           #Normal: No detectable abnormalities in the thyroid gland.\n",
    "                           #Diffuse goiter: An enlarged thyroid gland with a uniform increase in size, without distinct nodules.\n",
    " \n",
    " # Adenopathy (swelling of lymph nodes), these values represent the presence, location, or extent of lymph node involvement:\n",
    "              #No: No lymph node involvement.\n",
    "              #Right: Lymph nodes involved on the right side of the body.\n",
    "              #Left: Lymph nodes involved on the left side of the body.\n",
    "              #Bilateral: Lymph nodes involved on both sides of the body.\n",
    "              #Extensive: Widespread lymph node involvement.\n",
    "              #Posterior: Lymph nodes involved in the posterior (back) region.\n",
    " \n",
    " \n",
    " \n",
    "                    \n",
    "# pathology: A special type of thyroid cancer which is identified through the samples of biospy.\n",
    "           # Biospy-- Doctors draw the tissue sample from the suspective/effective part to determine wether the part is cancerous,\n",
    "           # If so then what is nature of this cancer   \n",
    "           #Micropapillary: A very small form of papillary thyroid cancer, usually less than 1 cm in size.     \n",
    "           # Papillary: The most common type of thyroid cancer, tends to grow slowly and often has a  (good prognosis--> high chance for recovery)       \n",
    "           # Follicular: A less common type of thyroid cancer, can spread to other parts of the body like the lungs or bones.               \n",
    "           # Hurthle cell: A subtype of follicular thyroid cancer, characterized by larger, distinct cells. It can be more aggressive than typical follicular cancer.    \n",
    "           \n",
    "# Focality:       0 for 'Uni-Focal' (single tumor)      -----        1 for 'Multi-Focal' (multiple tumors)\n",
    "\n",
    "#Risk: 'Low', 'Intermediate', 'High'\n",
    "\n",
    "# T\tN M\t-- T(How big the cancerous tumor is such as T1=small, T2=large, T3=Grown nearby, T4=Very large even surounded nearby organs)\n",
    "        #--N(Wether the cancer spread to the nearby lymph nodes(part of immune system found throughout the body))\n",
    "        #N0= No cancer in nearby lymph node , N1= spread to small no of lymph nodes, N2= spread to more lymph nodes\n",
    "        #--M(Wether the cancer has spread to overall body bparts which are far from the original tumor)\n",
    "        # M0 cancer has not spread to distant body parts\n",
    "        # M1 cancer has spread to distant body parts\n",
    "        \n",
    "#Stage: Cancer stage\n",
    "\n",
    "# Response : Indeterminate: The response is unclear or not enough information is available to determine the outcome.         \n",
    "            # Excellent: The outcome is very favorable or successful, indicating a complete positive response.       \n",
    "# Structural Incomplete: The response is incomplete in terms of the structural or physical aspects; some parts may not have been fully resolved.\n",
    "# Biochemical Incomplete: The response is incomplete in terms of biochemical markers or lab results, indicating some biochemical abnormalities remain.\n",
    "        "
   ]
  }
 ],
 "metadata": {
  "kernelspec": {
   "display_name": "Python 3",
   "language": "python",
   "name": "python3"
  },
  "language_info": {
   "codemirror_mode": {
    "name": "ipython",
    "version": 3
   },
   "file_extension": ".py",
   "mimetype": "text/x-python",
   "name": "python",
   "nbconvert_exporter": "python",
   "pygments_lexer": "ipython3",
   "version": "3.12.4"
  }
 },
 "nbformat": 4,
 "nbformat_minor": 2
}
