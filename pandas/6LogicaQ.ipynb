{
 "cells": [
  {
   "cell_type": "markdown",
   "metadata": {},
   "source": [
    "#### Question # 6\n",
    "- Given an array of integers, return indices of the two numbers such that they add up to a specific target.\n",
    "- Example: input=[2,7,11,15] ,target=9\n",
    "- The two numbers are 2 and 7, so the solution should return their indices [0, 1].\n",
    "- Solution Tips:\n",
    "- Use a dictionary to store the difference between the target and the current number as you iterate through the array.\n",
    "- If the current number exists in the dictionary, you have found the two numbers.\n",
    "- Return the indices of these two numbers.\n"
   ]
  },
  {
   "cell_type": "code",
   "execution_count": 8,
   "metadata": {},
   "outputs": [
    {
     "name": "stdout",
     "output_type": "stream",
     "text": [
      "[0, 1]\n"
     ]
    }
   ],
   "source": [
    "def two_sum(nums, target):\n",
    "    for i in range(len(nums)):\n",
    "        for j in range(i + 1, len(nums)):\n",
    "            if nums[i] + nums[j] == target:\n",
    "                return [i, j]\n",
    "    return []\n",
    "\n",
    "# Example usage:\n",
    "nums = [2, 7, 11, 15]\n",
    "target = 9\n",
    "result = two_sum(nums, target)\n",
    "print(result)  # Output will be [0, 1]\n"
   ]
  },
  {
   "cell_type": "code",
   "execution_count": null,
   "metadata": {},
   "outputs": [],
   "source": [
    "def two_sum(nums, target):\n",
    "    # Step 1: Create a dictionary to store numbers and their indices.\n",
    "    num_map = {}\n",
    "\n",
    "    # Step 2: Add each number and its index to the dictionary.\n",
    "    for i, num in enumerate(nums):\n",
    "        num_map[num] = i\n",
    "\n",
    "    # Step 3: Check for each number, if its complement exists in the dictionary.\n",
    "    for i, num in enumerate(nums):\n",
    "        complement = target - num\n",
    "        # Ensure the complement is not the number itself.\n",
    "        if complement in num_map and num_map[complement] != i:\n",
    "            # Step 4: If the complement exists, the indices are returned.\n",
    "            return [i, num_map[complement]]\n",
    "\n",
    "    # Step 5: If no two numbers sum up to the target, return an empty list.\n",
    "    return []\n",
    "\n",
    "# Example usage:\n",
    "nums = [2, 7, 11, 15]\n",
    "target = 9\n",
    "result = two_sum(nums, target)\n",
    "print(result)  # Output will be [0, 1]\n"
   ]
  },
  {
   "cell_type": "markdown",
   "metadata": {},
   "source": []
  },
  {
   "cell_type": "code",
   "execution_count": 11,
   "metadata": {},
   "outputs": [
    {
     "name": "stdout",
     "output_type": "stream",
     "text": [
      "['abc', 'bac', 'bca', 'acb', 'cab', 'cba']\n"
     ]
    }
   ],
   "source": [
    "def permute(word):\n",
    "    if len(word) == 1:\n",
    "        return [word]  # Base case: If the word has only one character, return it as the only permutation.\n",
    "    \n",
    "    permutations = permute(word[1:])  # Recursive call: Get permutations of the remaining part of the string.\n",
    "    character = word[0]  # Take the first character to insert into each of the permutations.\n",
    "    \n",
    "    result = []\n",
    "    for p in permutations:\n",
    "        for i in range(len(p) + 1):\n",
    "            result.append(p[:i] + character + p[i:])  # Insert the character into every possible position in each permutation.\n",
    "    \n",
    "    return result  # Return the list of all permutations.\n",
    "\n",
    "word='abc'\n",
    "sol=permute(word)\n",
    "print(sol)"
   ]
  },
  {
   "cell_type": "markdown",
   "metadata": {},
   "source": []
  },
  {
   "cell_type": "code",
   "execution_count": null,
   "metadata": {},
   "outputs": [],
   "source": [
    "def product_except_self(nums):\n",
    "    n = len(nums)\n",
    "    \n",
    "    # Initialize the output array with 1s\n",
    "    output = [1] * n\n",
    "    \n",
    "    # First pass: calculate the product of all elements to the left of each element\n",
    "    left_product = 1\n",
    "    for i in range(n):\n",
    "        output[i] = left_product\n",
    "        left_product *= nums[i]\n",
    "    \n",
    "    # Second pass: calculate the product of all elements to the right of each element\n",
    "    right_product = 1\n",
    "    for i in range(n-1, -1, -1):\n",
    "        output[i] *= right_product\n",
    "        right_product *= nums[i]\n",
    "    \n",
    "    return output\n",
    "\n",
    "# Example usage\n",
    "input_array = [1, 2, 3, 4]\n",
    "output_array = product_except_self(input_array)\n",
    "print(\"Output:\", output_array)\n"
   ]
  },
  {
   "cell_type": "markdown",
   "metadata": {},
   "source": []
  },
  {
   "cell_type": "code",
   "execution_count": null,
   "metadata": {},
   "outputs": [],
   "source": [
    "def find_missing_number(nums):\n",
    "    n = len(nums)\n",
    "    \n",
    "    # Calculate the expected sum of the first n natural numbers\n",
    "    expected_sum = n * (n + 1) // 2\n",
    "    \n",
    "    # Calculate the actual sum of the array\n",
    "    actual_sum = sum(nums)\n",
    "    \n",
    "    # The missing number is the difference between the expected sum and the actual sum\n",
    "    missing_number = expected_sum - actual_sum\n",
    "    \n",
    "    return missing_number\n",
    "\n",
    "# Example usage\n",
    "input_array = [3, 0, 1]\n",
    "missing_number = find_missing_number(input_array)\n",
    "print(\"The missing number is:\", missing_number)\n"
   ]
  }
 ],
 "metadata": {
  "kernelspec": {
   "display_name": "Python 3",
   "language": "python",
   "name": "python3"
  },
  "language_info": {
   "codemirror_mode": {
    "name": "ipython",
    "version": 3
   },
   "file_extension": ".py",
   "mimetype": "text/x-python",
   "name": "python",
   "nbconvert_exporter": "python",
   "pygments_lexer": "ipython3",
   "version": "3.12.4"
  }
 },
 "nbformat": 4,
 "nbformat_minor": 2
}
