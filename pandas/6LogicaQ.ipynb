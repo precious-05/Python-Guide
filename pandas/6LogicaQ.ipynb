{
 "cells": [
  {
   "cell_type": "markdown",
   "metadata": {},
   "source": [
    "#### Question # 6\n",
    "- Given an array of integers, return indices of the two numbers such that they add up to a specific target.\n",
    "- Example: input=[2,7,11,15] ,target=9\n",
    "- The two numbers are 2 and 7, so the solution should return their indices [0, 1].\n",
    "- Solution Tips:\n",
    "- Use a dictionary to store the difference between the target and the current number as you iterate through the array.\n",
    "- If the current number exists in the dictionary, you have found the two numbers.\n",
    "- Return the indices of these two numbers.\n"
   ]
  },
  {
   "cell_type": "code",
   "execution_count": 35,
   "metadata": {},
   "outputs": [
    {
     "name": "stdout",
     "output_type": "stream",
     "text": [
      "[0, 1]\n"
     ]
    }
   ],
   "source": [
    "import numpy as np\n",
    "#Using Brute Force Approach\n",
    "def solution(arr,target):\n",
    "  \n",
    "    for i in range(0,len(arr)-1,1):\n",
    "            if arr[i]+arr[i+1]==target:\n",
    "                #arr[0]+arr[0+1]==9\n",
    "                return [i,i+1]\n",
    "    return[]\n",
    "\n",
    "arr=np.array([2,7,11,15])\n",
    "target=9\n",
    "idx=solution(arr,target)\n",
    "print(idx)"
   ]
  },
  {
   "cell_type": "code",
   "execution_count": 37,
   "metadata": {},
   "outputs": [
    {
     "name": "stdout",
     "output_type": "stream",
     "text": [
      "[0, 1]\n"
     ]
    }
   ],
   "source": [
    "import numpy as np\n",
    "\n",
    "def solution(arr, target):\n",
    "    num_to_index = {}  # Dictionary to store the difference and its index\n",
    "    for i, num in enumerate(arr):\n",
    "        diff = target - num\n",
    "        if diff in num_to_index:\n",
    "            return [num_to_index[diff], i]\n",
    "        num_to_index[num] = i\n",
    "    return []\n",
    "\n",
    "arr = np.array([2, 7, 11, 15])\n",
    "target = 9\n",
    "idx = solution(arr, target)\n",
    "print(idx)\n"
   ]
  }
 ],
 "metadata": {
  "kernelspec": {
   "display_name": "Python 3",
   "language": "python",
   "name": "python3"
  },
  "language_info": {
   "codemirror_mode": {
    "name": "ipython",
    "version": 3
   },
   "file_extension": ".py",
   "mimetype": "text/x-python",
   "name": "python",
   "nbconvert_exporter": "python",
   "pygments_lexer": "ipython3",
   "version": "3.12.4"
  }
 },
 "nbformat": 4,
 "nbformat_minor": 2
}
