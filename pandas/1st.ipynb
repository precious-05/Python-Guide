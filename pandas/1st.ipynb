{
 "cells": [
  {
   "cell_type": "markdown",
   "metadata": {},
   "source": [
    "What is pandas?\n",
    "The name pandas has the reference to both \" Panel data and \"python data analysis\" and was created by mckinney in 2008\n",
    "> usef for working with data sets\n",
    "> It has functions for analyzing , aleaning , exploring , and manipulating data\n",
    "> Read and write data structures and different formats: csv , JSON , ZIP, XML e.t.c\n",
    "\n",
    "\n",
    "\n",
    "Why we dont work directly with Excel Sheets?\n",
    "> Excel does not allow filtering to the data or if we try this the process is too slow\n",
    "> It it not possible to work on a very large amount of data in Excel thats why we use pandas\n",
    ">"
   ]
  },
  {
   "cell_type": "markdown",
   "metadata": {},
   "source": [
    " What is Data Analysis? How to perform data analysis using python? Role of pandas in data analysis. \n",
    " Example: Today we have a large amount of data Such as there are 5000 students in the college all of them have different type od data in which their is name, father name, numbers, every year marks sheet. All this data is very useful which play an important role.    \n",
    "\n",
    " Other example: Whatsapp, Facebook have their own data server in which all our data or activities we perform is stored. What they do from this data. They perform daat analysis.\n",
    " Analysis means that the useful data or the missing things in the data we handle all these things. After attaining useful data whatever we want to work process with that data we do. All this process is done in data analysis and the one who perfoms this work is known as data scientist.\n",
    "\n",
    " Data scientist do: Performing the analysis, and from raw data extracting the useful data\n",
    "\n",
    "\n",
    " Data Analysis Includes:\n",
    " > Data Cleaning\n",
    " > Extracting useful data\n",
    " > Transferring\n",
    " > Modeling\n",
    " > Viulization\n",
    "\n",
    " We can perform data analysis from 2 wyas\n",
    " 1: Data visualization : We visualize that how our useful data looks graphically\n",
    " \n",
    "\n",
    " Python Libraries for Data Analysis:\n",
    " > Numpy\n",
    " > statsmodel\n",
    " > matplotlib : Data visualization\n",
    " > seaborn : Data Visualization\n",
    " > pandas : Data Modification or clarification\n",
    " > SciPy\n",
    " > SickitiLearn"
   ]
  },
  {
   "cell_type": "markdown",
   "metadata": {},
   "source": [
    "# Pandas data structures\n",
    "1. Series (1-dimensional labeled array of values)     We can combine 2 series and make 1 data frame\n",
    "2. DataFrames (2-Dimensional data structure with coloums, much like a table )\n",
    "3. Panel (A panel is 3D container of the data)"
   ]
  },
  {
   "cell_type": "markdown",
   "metadata": {},
   "source": [
    "# Importance of pandas in python\n",
    "> It allows to analyze big data and make conclusions based on statistical theories\n",
    "> It can clean messy data sets and make them readable and relevant\n",
    "> Easy handling of (missing data represented as NaN) in floating point as well as non-floating point data\n",
    "> Size mutability: columns can be deleted and inserted from DataFrame and higher dimensional objects\n",
    "> Data set merging and joining: Flexible Reshaping & Pivoting of data sets prove time series functionality"
   ]
  },
  {
   "cell_type": "markdown",
   "metadata": {},
   "source": [
    "# Series data structure\n",
    "1. It is a 1D array capable of storing various daat types"
   ]
  },
  {
   "cell_type": "code",
   "execution_count": null,
   "metadata": {},
   "outputs": [],
   "source": [
    "#Data Structure in python pandas\n",
    "#pandas provide 3 data structures for processing data such as Series & DataFrame and Panel\n",
    "#If we have formes list/array/dictionary we want to convert them in pandas data structure\n",
    "#Then we use pandas data structures\n",
    "# All these data structures convert according to dimension\n",
    "#Such as they convert in the form of Excel Sheet\n",
    "#In this way to clarify data & to analyze data becomes easy\n",
    "import numpy as np\n",
    "import pandas as pd\n",
    "dict={\n",
    "    \"Name\":[\"Alice\",\"Merry\",\"Trump\",\"Merry\"],\n",
    "     \n",
    "}\n",
    "df=pd.Series(dict)\n",
    "print(df)\n",
    "\n",
    "\n"
   ]
  },
  {
   "cell_type": "code",
   "execution_count": null,
   "metadata": {},
   "outputs": [],
   "source": [
    "import pandas as pd\n",
    "import numpy as np\n",
    "s = pd.Series([1, 3, 5, None ,np.nan, 6, 8])  #None: Minimal and fixed memory usage. Represents the absence of value.\n",
    "print(s)\n",
    "\n",
    "#both np.nan and None serve the purpose of indicating missing or undefined data, but they are used in different contexts:\n",
    "\n",
    "#np.nan: Specifically used in numerical computations and arrays (e.g., NumPy arrays) to represent missing values. \n",
    "# It is compatible with mathematical operations and functions designed to handle numerical data.\n",
    "#None: A general-purpose placeholder in Python, used to represent missing or undefined values in non-numerical contexts or objects. \n",
    "# It is often used in lists, dictionaries, and other data structures where numerical operations are not relevant."
   ]
  },
  {
   "cell_type": "markdown",
   "metadata": {},
   "source": [
    "Reading CSV , JSON , EXCEL Files \n"
   ]
  },
  {
   "cell_type": "code",
   "execution_count": 1,
   "metadata": {},
   "outputs": [
    {
     "name": "stdout",
     "output_type": "stream",
     "text": [
      "     Age Gender Smoking Hx Smoking  ...   M Stage                Response  \\\n",
      "0     27      F      No         No  ...  M0     I           Indeterminate   \n",
      "1     34      F      No        Yes  ...  M0     I               Excellent   \n",
      "2     30      F      No         No  ...  M0     I               Excellent   \n",
      "3     62      F      No         No  ...  M0     I               Excellent   \n",
      "4     62      F      No         No  ...  M0     I               Excellent   \n",
      "..   ...    ...     ...        ...  ...  ..   ...                     ...   \n",
      "378   72      M     Yes        Yes  ...  M1   IVB  Biochemical Incomplete   \n",
      "379   81      M     Yes         No  ...  M1   IVB   Structural Incomplete   \n",
      "380   72      M     Yes        Yes  ...  M1   IVB   Structural Incomplete   \n",
      "381   61      M     Yes        Yes  ...  M0   IVA   Structural Incomplete   \n",
      "382   67      M     Yes         No  ...  M0   IVA   Structural Incomplete   \n",
      "\n",
      "    Recurred  \n",
      "0         No  \n",
      "1         No  \n",
      "2         No  \n",
      "3         No  \n",
      "4         No  \n",
      "..       ...  \n",
      "378      Yes  \n",
      "379      Yes  \n",
      "380      Yes  \n",
      "381      Yes  \n",
      "382      Yes  \n",
      "\n",
      "[383 rows x 17 columns]\n",
      "\n",
      "Current display settings:\n",
      "Max Rows: 200\n",
      "Max Columns: 8\n"
     ]
    },
    {
     "data": {
      "text/plain": [
       "'When you use print(pd.options.display.max_rows), it shows the current setting for the maximum number of rows Pandas will \\n display by default. This setting helps you understand how many rows will be shown in the output when you print a DataFrame, \\n without using the to_string() method.\\nIn my system the number is 60, which means that if the DataFrame contains more than 60 rows, \\nthe print(df) statement will return only the headers and the first and last 5 rows.'"
      ]
     },
     "execution_count": 1,
     "metadata": {},
     "output_type": "execute_result"
    }
   ],
   "source": [
    "\n",
    "#print(rd.to_string())\n",
    "#use to_string() to print the entire DataFrame\n",
    "#If you have a large DataFrame with many rows, Pandas will only return the first 5 rows, and the last 5 rows\n",
    "#You can check your system's maximum rows with the pd.options.display.max_rows statement.\n",
    "import pandas as pd\n",
    "\n",
    "# Read the CSV file\n",
    "rd = pd.read_csv('Thyroid_Diff.csv')\n",
    "\n",
    "# Set display options\n",
    "pd.set_option('display.max_rows', 200)       # Display up to 100 rows\n",
    "pd.set_option('display.max_columns',8)     # Display up to 40 columns\n",
    "\n",
    "# Print the DataFrame\n",
    "print(rd)\n",
    "\n",
    "# Print the current settings to verify\n",
    "print(\"\\nCurrent display settings:\")\n",
    "print(\"Max Rows:\", pd.options.display.max_rows)\n",
    "print(\"Max Columns:\", pd.options.display.max_columns)\n",
    "\n",
    "\n",
    "\n",
    "\n",
    "\"\"\"When you use print(pd.options.display.max_rows), it shows the current setting for the maximum number of rows Pandas will \n",
    " display by default. This setting helps you understand how many rows will be shown in the output when you print a DataFrame, \n",
    " without using the to_string() method.\n",
    "In my system the number is 60, which means that if the DataFrame contains more than 60 rows, \n",
    "the print(df) statement will return only the headers and the first and last 5 rows.\"\"\""
   ]
  },
  {
   "cell_type": "code",
   "execution_count": null,
   "metadata": {},
   "outputs": [],
   "source": [
    "#Reading Excel File\n",
    "import pandas as pd\n",
    "#Loading the excel file\n",
    "df=pd.read_excel('funeng.xlsx')\n",
    "print(df.to_string())\n"
   ]
  },
  {
   "cell_type": "code",
   "execution_count": null,
   "metadata": {},
   "outputs": [],
   "source": [
    "#Reading Excel File with xls format\n",
    "import pandas as pd\n",
    "#Loading the excel file\n",
    "dff=pd.read_excel('Cs girls programming Assgnments List.xls')\n",
    "print(dff.to_string())\n"
   ]
  },
  {
   "cell_type": "markdown",
   "metadata": {},
   "source": [
    "# What is JSON \n",
    "> JSON stands for JavaScript Object Notation.\n",
    "> It's a lightweight format for storing and exchanging data.\n",
    "> JSON Format: Uses text to represent data structures like objects and arrays.\n",
    "\n",
    "\n",
    "When to Use JSON:\n",
    "1. Data Exchange:\n",
    "\n",
    ">web APIs: JSON is commonly used to send data between a client (like a web browser) and a server. \n",
    "\n",
    "2. Integration: When integrating different applications or services that need to share data.\n",
    "\n",
    "Example: Integration of a Weather API with a Mobile App\n",
    "Scenario:\n",
    "You have a mobile app that provides weather forecasts. To get the weather data, your app needs to fetch information from a weather service API. The weather service API provides the data in JSON format.\n",
    "\n",
    "**How It Works:**\n",
    "\n",
    "Mobile App Requests Data:\n",
    "\n",
    "The mobile app makes an HTTP request to the weather service API to get the latest weather information.\n",
    "Weather Service Responds:\n",
    "\n",
    "The weather service API responds with weather data in JSON format.\n",
    "App Processes JSON Data:\n",
    "\n",
    "The mobile app parses the JSON data and displays the weather information to the user.\n",
    "\n",
    " parsing means analyzing and converting data from one format (JSON) into a usable format ( a dictionary or object)\n",
    "\n",
    "3. Configuration Files:\n",
    "\n",
    "> Settings: Many applications use JSON files to store configuration settings because it’s easy to read and write programmatically.\n",
    ">  Example: VS Code stores its settings and configurations in JSON format ....  File Name: settings.json\n",
    "\n",
    "\n",
    "4. Storing Data Programmatically:\n",
    "Serialization: JSON can be used to serialize complex data structures (like dictionaries or lists in Python) to be stored or transmitted.\n",
    "\n",
    "In the context of JSON, it means taking complex Python objects like dictionaries or lists and converting them into a JSON string. \n",
    "\n",
    "This JSON string can be saved to a file or sent over a network. \n",
    "\n",
    "Later, you can deserialize (convert back) the JSON string into the original Python object\n",
    "\n",
    "\n",
    "5. Why JSON for Settings?\n",
    "\n",
    "> Human-Readable: JSON is easy to read and edit by humans.\n",
    "\n",
    "> Structured Format: It provides a structured way to represent configuration data in a key-value format.\n",
    "\n",
    "> Programmatic Access: Applications can easily read from and write to JSON files programmatically, making it convenient for both developers and end-users to adjust settings.\n"
   ]
  },
  {
   "cell_type": "code",
   "execution_count": null,
   "metadata": {},
   "outputs": [],
   "source": [
    "#Reading JSON File\n",
    "import pandas as pd\n",
    "\n",
    "js = pd.read_json('sample.json')\n",
    "\n",
    "print(js.to_string()) "
   ]
  },
  {
   "cell_type": "code",
   "execution_count": null,
   "metadata": {},
   "outputs": [],
   "source": [
    "import pandas as pd\n",
    "df=pd.read_csv('bankdata.csv')\n",
    "print(df.to_string())\n"
   ]
  }
 ],
 "metadata": {
  "kernelspec": {
   "display_name": "Python 3",
   "language": "python",
   "name": "python3"
  },
  "language_info": {
   "codemirror_mode": {
    "name": "ipython",
    "version": 3
   },
   "file_extension": ".py",
   "mimetype": "text/x-python",
   "name": "python",
   "nbconvert_exporter": "python",
   "pygments_lexer": "ipython3",
   "version": "3.12.4"
  }
 },
 "nbformat": 4,
 "nbformat_minor": 2
}
