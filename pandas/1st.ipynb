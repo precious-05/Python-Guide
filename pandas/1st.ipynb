{
 "cells": [
  {
   "cell_type": "markdown",
   "metadata": {},
   "source": [
    "What is pandas?\n",
    "The name pandas has the reference to both \" Panel data and \"python data analysis\" and was created by mckinney in 2008\n",
    "> usef for working with data sets\n",
    "> It has functions for analyzing , aleaning , exploring , and manipulating data\n",
    "> Read and write data structures and different formats: csv , JSON , ZIP, XML e.t.c\n",
    "\n",
    "\n",
    "\n",
    "Why we dont work directly with Excel Sheets?\n",
    "> Excel does not allow filtering to the data or if we try this the process is too slow\n",
    "> It it not possible to work on a very large amount of data in Excel thats why we use pandas\n",
    ">"
   ]
  },
  {
   "cell_type": "markdown",
   "metadata": {},
   "source": [
    " What is Data Analysis? How to perform data analysis using python? Role of pandas in data analysis. \n",
    " Example: Today we have a large amount of data Such as there are 5000 students in the college all of them have different type od data in which their is name, father name, numbers, every year marks sheet. All this data is very useful which play an important role.    \n",
    "\n",
    " Other example: Whatsapp, Facebook have their own data server in which all our data or activities we perform is stored. What they do from this data. They perform daat analysis.\n",
    " Analysis means that the useful data or the missing things in the data we handle all these things. After attaining useful data whatever we want to work process with that data we do. All this process is done in data analysis and the one who perfoms this work is known as data scientist.\n",
    "\n",
    " Data scientist do: Performing the analysis, and from raw data extracting the useful data\n",
    "\n",
    "\n",
    " Data Analysis Includes:\n",
    " > Data Cleaning\n",
    " > Extracting useful data\n",
    " > Transferring\n",
    " > Modeling\n",
    " > Viulization\n",
    "\n",
    " We can perform data analysis from 2 wyas\n",
    " 1: Data visualization : We visualize that how our useful data looks graphically\n",
    " \n",
    "\n",
    " Python Libraries for Data Analysis:\n",
    " > Numpy\n",
    " > statsmodel\n",
    " > matplotlib : Data visualization\n",
    " > seaborn : Data Visualization\n",
    " > pandas : Data Modification or clarification\n",
    " > SciPy\n",
    " > SickitiLearn"
   ]
  },
  {
   "cell_type": "markdown",
   "metadata": {},
   "source": [
    "# Pandas data structures\n",
    "1. Series (1-dimensional labeled array of values)     We can combine 2 series and make 1 data frame\n",
    "2. DataFrames (2-Dimensional data structure with coloums, much like a table )\n",
    "3. Panel (A panel is 3D container of the data)"
   ]
  },
  {
   "cell_type": "markdown",
   "metadata": {},
   "source": [
    "# Importance of pandas in python\n",
    "> It allows to analyze big data and make conclusions based on statistical theories\n",
    "> It can clean messy data sets and make them readable and relevant\n",
    "> Easy handling of (missing data represented as NaN) in floating point as well as non-floating point data\n",
    "> Size mutability: columns can be deleted and inserted from DataFrame and higher dimensional objects\n",
    "> Data set merging and joining: Flexible Reshaping & Pivoting of data sets prove time series functionality"
   ]
  },
  {
   "cell_type": "markdown",
   "metadata": {},
   "source": [
    "# Series data structure\n",
    "1. It is a 1D array capable of storing various daat types"
   ]
  },
  {
   "cell_type": "code",
   "execution_count": 18,
   "metadata": {},
   "outputs": [
    {
     "name": "stdout",
     "output_type": "stream",
     "text": [
      "Name    [Alice, Merry, Trump, Merey]\n",
      "Age                 [42, 22, 76, 27]\n",
      "dtype: object\n"
     ]
    }
   ],
   "source": [
    "#Data Structure in python pandas\n",
    "#pandas provide 3 data structures for processing data such as Series & DataFrame and Panel\n",
    "#If we have formes list/array/dictionary we want to convert them in pandas data structure\n",
    "#Then we use pandas data structures\n",
    "# All these data structures convert according to dimension\n",
    "#Such as they convert in the form of Excel Sheet\n",
    "#In this way to clarify data & to analyze data becomes easy\n",
    "import numpy as np\n",
    "import pandas as pd\n",
    "dict={\n",
    "    \"Name\":[\"Alice\",\"Merry\",\"Trump\",\"Merry\"],\n",
    "     \"Age\":[42,22,76,27]\n",
    "}\n",
    "df=pd.Series(dict)\n",
    "print(df)\n",
    "\n",
    "\n"
   ]
  },
  {
   "cell_type": "code",
   "execution_count": 7,
   "metadata": {},
   "outputs": [
    {
     "name": "stdout",
     "output_type": "stream",
     "text": [
      "0    1.0\n",
      "1    3.0\n",
      "2    5.0\n",
      "3    NaN\n",
      "4    NaN\n",
      "5    6.0\n",
      "6    8.0\n",
      "dtype: float64\n"
     ]
    }
   ],
   "source": [
    "import pandas as pd\n",
    "import numpy as np\n",
    "s = pd.Series([1, 3, 5, None ,np.nan, 6, 8])  #None: Minimal and fixed memory usage. Represents the absence of value.\n",
    "print(s)\n",
    "\n",
    "#both np.nan and None serve the purpose of indicating missing or undefined data, but they are used in different contexts:\n",
    "\n",
    "#np.nan: Specifically used in numerical computations and arrays (e.g., NumPy arrays) to represent missing values. \n",
    "# It is compatible with mathematical operations and functions designed to handle numerical data.\n",
    "#None: A general-purpose placeholder in Python, used to represent missing or undefined values in non-numerical contexts or objects. \n",
    "# It is often used in lists, dictionaries, and other data structures where numerical operations are not relevant."
   ]
  },
  {
   "cell_type": "code",
   "execution_count": 1,
   "metadata": {},
   "outputs": [
    {
     "data": {
      "text/html": [
       "<div>\n",
       "<style scoped>\n",
       "    .dataframe tbody tr th:only-of-type {\n",
       "        vertical-align: middle;\n",
       "    }\n",
       "\n",
       "    .dataframe tbody tr th {\n",
       "        vertical-align: top;\n",
       "    }\n",
       "\n",
       "    .dataframe thead th {\n",
       "        text-align: right;\n",
       "    }\n",
       "</style>\n",
       "<table border=\"1\" class=\"dataframe\">\n",
       "  <thead>\n",
       "    <tr style=\"text-align: right;\">\n",
       "      <th></th>\n",
       "      <th>A</th>\n",
       "      <th>B</th>\n",
       "      <th>C</th>\n",
       "      <th>D</th>\n",
       "    </tr>\n",
       "  </thead>\n",
       "  <tbody>\n",
       "    <tr>\n",
       "      <th>2013-01-01</th>\n",
       "      <td>-0.198909</td>\n",
       "      <td>0.441152</td>\n",
       "      <td>-0.716523</td>\n",
       "      <td>0.008104</td>\n",
       "    </tr>\n",
       "    <tr>\n",
       "      <th>2013-01-02</th>\n",
       "      <td>-2.186497</td>\n",
       "      <td>-0.237304</td>\n",
       "      <td>-0.628743</td>\n",
       "      <td>-1.249361</td>\n",
       "    </tr>\n",
       "    <tr>\n",
       "      <th>2013-01-03</th>\n",
       "      <td>-0.840994</td>\n",
       "      <td>1.179462</td>\n",
       "      <td>-0.944129</td>\n",
       "      <td>1.391384</td>\n",
       "    </tr>\n",
       "    <tr>\n",
       "      <th>2013-01-04</th>\n",
       "      <td>-0.142687</td>\n",
       "      <td>0.542194</td>\n",
       "      <td>1.031702</td>\n",
       "      <td>-1.384350</td>\n",
       "    </tr>\n",
       "    <tr>\n",
       "      <th>2013-01-05</th>\n",
       "      <td>0.039769</td>\n",
       "      <td>0.914168</td>\n",
       "      <td>0.927195</td>\n",
       "      <td>0.911204</td>\n",
       "    </tr>\n",
       "    <tr>\n",
       "      <th>2013-01-06</th>\n",
       "      <td>1.924915</td>\n",
       "      <td>1.147805</td>\n",
       "      <td>-0.291145</td>\n",
       "      <td>-0.421028</td>\n",
       "    </tr>\n",
       "  </tbody>\n",
       "</table>\n",
       "</div>"
      ],
      "text/plain": [
       "                   A         B         C         D\n",
       "2013-01-01 -0.198909  0.441152 -0.716523  0.008104\n",
       "2013-01-02 -2.186497 -0.237304 -0.628743 -1.249361\n",
       "2013-01-03 -0.840994  1.179462 -0.944129  1.391384\n",
       "2013-01-04 -0.142687  0.542194  1.031702 -1.384350\n",
       "2013-01-05  0.039769  0.914168  0.927195  0.911204\n",
       "2013-01-06  1.924915  1.147805 -0.291145 -0.421028"
      ]
     },
     "execution_count": 1,
     "metadata": {},
     "output_type": "execute_result"
    }
   ],
   "source": [
    "import numpy as np\n",
    "import pandas as pd\n",
    "dates = pd.date_range(\"20130101\", periods=6)\n",
    "\n",
    "dates\n",
    "\n",
    "\n",
    "\n",
    "df = pd.DataFrame(np.random.randn(6, 4), index=dates, columns=list(\"ABCD\"))\n",
    "\n",
    "df\n",
    "\n",
    "         "
   ]
  }
 ],
 "metadata": {
  "kernelspec": {
   "display_name": "Python 3",
   "language": "python",
   "name": "python3"
  },
  "language_info": {
   "codemirror_mode": {
    "name": "ipython",
    "version": 3
   },
   "file_extension": ".py",
   "mimetype": "text/x-python",
   "name": "python",
   "nbconvert_exporter": "python",
   "pygments_lexer": "ipython3",
   "version": "3.12.4"
  }
 },
 "nbformat": 4,
 "nbformat_minor": 2
}
