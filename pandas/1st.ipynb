{
 "cells": [
  {
   "cell_type": "markdown",
   "metadata": {},
   "source": [
    " What is Data Analysis? How to perform data analysis using python? Role of pandas in data analysis. \n",
    " Example: Today we have a large amount of data Such as there are 5000 students in the college all of them have different type od data in which their is name, father name, numbers, every year marks sheet. All this data is very useful which play an important role.    \n",
    "\n",
    " Other example: Whatsapp, Facebook have their own data server in which all our data or activities we perform is stored. What they do from this data. They perform daat analysis.\n",
    " Analysis means that the useful data or the missing things in the data we handle all these things. After attaining useful data whatever we want to work process with that data we do. All this process is done in data analysis and the one who perfoms this work is known as data scientist.\n",
    "\n",
    " Data scientist do: Performing the analysis, and from raw data extracting the useful data\n",
    "\n",
    "\n",
    " Data Analysis Includes:\n",
    " > Data Cleaning\n",
    " > Extracting useful data\n",
    " > Transferring\n",
    " > Modeling\n",
    " > Viulization\n",
    "\n",
    " We can perform data analysis from 2 wyas\n",
    " 1: Data visualization : We visualize that how our useful data looks graphically\n",
    " \n",
    "\n",
    " Python Libraries for Data Analysis:\n",
    " > Numpy\n",
    " > statsmodel\n",
    " > matplotlib : Data visualization\n",
    " > seaborn : Data Visualization\n",
    " > pandas : Data Modification or clarification\n",
    " > SciPy\n",
    " > SickitiLearn"
   ]
  }
 ],
 "metadata": {
  "language_info": {
   "name": "python"
  }
 },
 "nbformat": 4,
 "nbformat_minor": 2
}
