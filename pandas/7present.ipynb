{
 "cells": [
  {
   "cell_type": "markdown",
   "metadata": {},
   "source": [
    "**Introduction to Pandas**\n",
    "\n",
    "- Why we need to use pandas if we can analyze data through excel?\n",
    "\n",
    "- As we ananlyze our data in excel (Analyzing data in Excel means examining and interpreting data using tools and functions to find patterns, trends, and insights)\n",
    "\n",
    "-  2 Example: Analyzing a company's data on losses and profits over time helps identify trends, such as whether profits are increasing or losses are decreasing. This analysis can guide decisions on how to improve financial performance\n",
    "\n",
    "- 3 Example: Analyzing data on the number of students enrolled in a course over time helps identify trends, such as whether enrollment is increasing     decreasing. This analysis can guide decisions on how to improve course offerings\n",
    "\n",
    "- 4 Example: Analyzing data on the number of customers who have purchased a product over time helps identify trends, such as whether sales are increasing or decreasing. \n",
    "- This analysis can guide decisions on how to improve marketing strategies\n",
    "\n",
    "**What is problem with excel then ? If we can analyze data in excel too?**\n",
    "  1. *The main problem with excel is that While Excel is powerful for many tasks, its programmatic capabilities are limited compared to Python*\n",
    "  *VBA is available, but it's generally considered more complex and less versatile than Python and pandas for data manipulation*\n",
    "  *Visual Basic for Applications. It's a programming language developed by Microsoft that is used for automation and scripting within Microsoft Office applications, such as Excel, Word, and Access.*\n",
    "\n",
    "  2. *Another problem is that Excel is not designed for large-scale data analysis. \n",
    "     *It can become slow and unresponsive when dealing with large datasets*\n",
    "     *We can't do much with excel when we have large data sets*\n",
    "\n",
    "\n",
    "\n",
    "\n",
    "**Benefits of Using Pandas**\n",
    "1. *Pandas is a powerful and flexible library for data manipulation and analysis in Python*\n",
    "\n",
    "2. *We can read columns and bring them to data frames. Such as if we have following data in rows and columns of excel sheet.\n",
    "    1. Name---------------Subject----------T.Marks-----Obt.Marks\n",
    "    2. Alice--------------English------------100 ------------80\n",
    "    3. Merry--------------English------------100-------------88\n",
    "    4. Katherine----------English------------100-------------88\n",
    "\n",
    "*Pandas read this data and put it in RAM and after that we perform analysis. ( & we know that Accessing data from RAM is faster than accessing from disc.)Thats why the computation speeds-up.*\n",
    "\n",
    "*Pandas is designed for large-scale data analysis and can handle massive datasets with ease*\n",
    "\n",
    "*Pandas provides data structures and functions to efficiently handle structured data, including tabular data such as  spreadsheets and SQL tables, and time series data*\n",
    "\n",
    "*Pandas is highly extensible and can be used in conjunction with other popular data science libraries in  Python, such as NumPy, Matplotlib, and Scikit-learn*\n",
    "\n",
    "*Pandas is highly scalable and can handle large datasets with ease*\n",
    "\n",
    "\n",
    "**\"scalable\" means that pandas can handle large datasets more efficiently than Excel. Pandas is designed to manage and process large volumes of data effectively. It provides better performance and more memory management features, which makes it suitable for handling big data and complex analyses that might be cumbersome in Excel. However, for extremely large datasets, even pandas might need additional tools or approaches, such as using Dask or integrating with databases.**"
   ]
  },
  {
   "cell_type": "markdown",
   "metadata": {},
   "source": [
    "# Pandas Data Structures\n",
    "> Primarily theer are 2 types of data structures in pandas\n",
    "\n",
    "**Series:** A one-dimensional labeled array that can hold any data type. It represents a single column or row of data.\n",
    "          --> A Pandas Series is like a column in a table\n",
    "\n",
    "**DataFrame:** A two-dimensional labeled array with columns that can hold different data types. It represents a tabular structure with rows and columns, similar to a spreadsheet.\n",
    "\n",
    "\n",
    "**Labled Array**\n",
    "*A labeled array is an array where each element is associated with a unique label or index, which can be customized (e.g., strings, dates) rather than just integers starting from 0. This allows for more flexible and meaningful data access compared to arrays with fixed integer indices as in Numpy arrays*"
   ]
  },
  {
   "cell_type": "code",
   "execution_count": 8,
   "metadata": {},
   "outputs": [
    {
     "name": "stdout",
     "output_type": "stream",
     "text": [
      "0    1\n",
      "1    8\n",
      "2    3\n",
      "3    4\n",
      "4    5\n",
      "dtype: int64\n",
      "\n",
      "8\n",
      "\n",
      "hundred      100\n",
      "2-Hundred    200\n",
      "3-Hundred    300\n",
      "4-Hundred    400\n",
      "5-Hundred    500\n",
      "dtype: int64\n",
      "\n",
      "500\n"
     ]
    }
   ],
   "source": [
    "#Creating a Simple Pandas Series from a List\n",
    "import pandas as pd\n",
    "L=[1,8,3,4,5]\n",
    "sr=pd.Series(L)\n",
    "print(f\"{sr}\\n\")\n",
    "#If nothing else is specified, the values are labeled with their index number. First value has index 0, \n",
    "# second value has index 1 etc. This label can be used to access a specified value.\n",
    "print(sr[1])\n",
    "\n",
    "#We Can Create Our Own Lables using index Argument\n",
    "\n",
    "L2=[100,200,300,400,500]\n",
    "s=pd.Series(L2,index=['hundred','2-Hundred','3-Hundred','4-Hundred','5-Hundred'])\n",
    "print(f\"\\n{s}\\n\") \n",
    "#Accessing the value using its lable\n",
    "print(s['5-Hundred'])\n"
   ]
  },
  {
   "cell_type": "markdown",
   "metadata": {},
   "source": [
    "**Using Key-Value Object (Dictionary) when creating a series**"
   ]
  },
  {
   "cell_type": "code",
   "execution_count": 9,
   "metadata": {},
   "outputs": [
    {
     "name": "stdout",
     "output_type": "stream",
     "text": [
      "Monday       22\n",
      "Tuesday      25\n",
      "Wednesday    23\n",
      "Thursday     45\n",
      "Friday       26\n",
      "dtype: int64\n",
      "\n",
      " 45\n"
     ]
    }
   ],
   "source": [
    "import pandas as pd\n",
    "temperature=pd.Series({\n",
    "    \"Monday\": 22, \n",
    "    \"Tuesday\": 25,\n",
    "    \"Wednesday\": 23, \n",
    "    \"Thursday\": 45, \n",
    "    \"Friday\": 26\n",
    "})\n",
    "print(temperature)\n",
    "\n",
    "print(f\"\\n {temperature[\"Thursday\"]}\")\n",
    "\n",
    "\n",
    "#In a Series, keys of the dictionary become the labels.. Each value in the Series is associated with a unique index label.\n",
    "# In contrast, in a DataFrame, the keys are the column names.\n"
   ]
  },
  {
   "cell_type": "markdown",
   "metadata": {},
   "source": [
    "# Creating DataFrames\n",
    "*Data sets in Pandas are usually multi-dimensional tables, called DataFrames.*\n",
    "> *Pandas DataFrame is a 2 dimensional data structure, like a 2 dimensional array, or a table with rows and columns.*\n",
    "\n",
    "> *Series is like a column, a DataFrame is the whole table.*\n",
    "\n",
    "**In a dictionary used to create a pandas DataFrame, the keys represent the column names.**\n",
    "**The values associated with these keys are the data that populate the columns of the DataFrame.**"
   ]
  },
  {
   "cell_type": "code",
   "execution_count": 10,
   "metadata": {},
   "outputs": [
    {
     "name": "stdout",
     "output_type": "stream",
     "text": [
      "   Prices  Sales\n",
      "0    1000    100\n",
      "1    1000    100\n",
      "\n",
      "\n",
      "Prices    int64\n",
      "Sales     int64\n",
      "dtype: object\n"
     ]
    }
   ],
   "source": [
    "#Creating DataFrames using 2 Series\n",
    "import pandas as pd # type: ignore\n",
    "product={\n",
    "   \"Prices\":1000,\n",
    "   \"Sales\": 100\n",
    "}\n",
    "\n",
    "#Loading the data in data frame\n",
    "Df=pd.DataFrame(product,index=[0,1])\n",
    "print(Df)\n",
    "print(\"\\n\")\n",
    "#The attribute to check dtype of dataframe is \"dtypes\" not \"dtype\"\n",
    "print(Df.dtypes)"
   ]
  },
  {
   "cell_type": "markdown",
   "metadata": {},
   "source": [
    "### Locate Rows\n",
    "> loc attribute is used to return one or more specified rows\n",
    "\n",
    "> Using .iloc\n",
    "\n",
    "> .loc uses labels (index names) to select data.\n",
    "\n",
    "> .iloc uses integer positions (index positions) to select data.\n",
    "\n",
    "**loc:**\n",
    "> Access Rows: Primarily used to access rows and columns by labels.\n",
    "\n",
    "> **Boolean Indexing:** Can be used with boolean conditions to filter rows.\n",
    "\n",
    "> **Slicing:** Supports slicing based on labels. For example, Df.loc['A':'C'] selects rows from label 'A' to 'C'.\n",
    "\n",
    "### Boolean indexing \n",
    "> It is a method to filter data based on conditions that evaluate to True or False.\n",
    "### Integer-Based: Filtering based on integer values.\n",
    "> Example: df[df['Age'] > 30]\n",
    "### String-Based: Filtering based on string values or patterns.\n",
    "> Example: df[df['Name'].str.startswith('A')]\n",
    "\n",
    "### Mixed Data Types: Combining multiple conditions involving different data types.\n",
    "> Example: df[(df['Age'] > 30) & (df['Name'].str.contains('a'))]\n",
    "\n",
    "\n",
    "**.iloc:**\n",
    "> Access Rows and Columns: Used to access rows and columns by integer positions.\n",
    "\n",
    "> **Slicing:** Supports slicing based on integer positions.\n",
    "> For example, Df.iloc[0:3] selects rows from position 0 to 2 \n",
    "\n"
   ]
  },
  {
   "cell_type": "code",
   "execution_count": 11,
   "metadata": {},
   "outputs": [
    {
     "name": "stdout",
     "output_type": "stream",
     "text": [
      "Prices    666000\n",
      "Sales        666\n",
      "Name: 3, dtype: int64\n",
      "\n",
      "\n",
      "   Prices  Sales\n",
      "0    1000    100\n",
      "2  400000    400\n",
      "3  666000    666\n"
     ]
    }
   ],
   "source": [
    "import pandas as pd\n",
    "product2={\n",
    "   \"Prices\":[1000,200000,400000,666000,376666],\n",
    "   \"Sales\": [100,200,400,666,376]\n",
    "}\n",
    "\n",
    "#Loading the data in data frame\n",
    "Df=pd.DataFrame(product2)\n",
    "#It will return a pandas series\n",
    "print(Df.loc[3])\n",
    "\n",
    "print(\"\\n\")\n",
    "#It will return a DataFrame\n",
    "print(Df.loc[[0,2,3]])\n",
    "\n",
    "\n",
    "#In a DataFrame: print(df[0]) gives an error because you cannot use integer indexing directly to access columns or rows\n",
    "# We should use .loc or .iloc for accessing rows or columns.\n",
    "# In a Series: print(sr[0]) works because Series allows direct integer indexing to access elements.\n"
   ]
  },
  {
   "cell_type": "markdown",
   "metadata": {},
   "source": [
    "> .loc can use boolean indexing.\n",
    "\n",
    ">  Boolean indexing allows us to filter rows based on conditions"
   ]
  },
  {
   "cell_type": "code",
   "execution_count": 12,
   "metadata": {},
   "outputs": [
    {
     "name": "stdout",
     "output_type": "stream",
     "text": [
      "Using .loc with boolean indexing:\n",
      "   Prices  Sales\n",
      "B  200000    200\n",
      "C  400000    400\n",
      "D  666000    666\n",
      "E  376666    376\n"
     ]
    }
   ],
   "source": [
    "import pandas as pd\n",
    "\n",
    "# Create a dictionary\n",
    "product2 = {\n",
    "    \"Prices\": [1000, 200000, 400000, 666000, 376666],\n",
    "    \"Sales\": [100, 200, 400, 666, 376]\n",
    "}\n",
    "\n",
    "# Load the data into a DataFrame with custom index labels\n",
    "Df = pd.DataFrame(product2, index=['A', 'B', 'C', 'D', 'E'])\n",
    "\n",
    "# Boolean indexing example: Select rows where the Prices are greater than 100000\n",
    "print(\"Using .loc with boolean indexing:\")\n",
    "print(Df.loc[Df['Prices'] > 100000])\n"
   ]
  },
  {
   "cell_type": "code",
   "execution_count": 13,
   "metadata": {},
   "outputs": [
    {
     "name": "stdout",
     "output_type": "stream",
     "text": [
      "               Name Department\n",
      "EmployeeID                    \n",
      "101           Alice         HR\n",
      "102             Bob    Finance\n",
      "103         Charlie         IT\n",
      "104           David  Marketing\n"
     ]
    }
   ],
   "source": [
    "import pandas as pd  # type: ignore\n",
    "\n",
    "#Scenario: You have a DataFrame of employee records, and you want to access data based on specific labels (like employee IDs or names).\n",
    "data = {\n",
    "    \"EmployeeID\": [101, 102, 103, 104],\n",
    "    \"Name\": [\"Alice\", \"Bob\", \"Charlie\", \"David\"],\n",
    "    \"Department\": [\"HR\", \"Finance\", \"IT\", \"Marketing\"]\n",
    "}\n",
    "df = pd.DataFrame(data)\n",
    "\n",
    "# Accessing data by label using .loc (requires EmployeeID to be set as index)\n",
    "df = df.set_index(\"EmployeeID\")  # Temporary set EmployeeID as index\n",
    "\n",
    "print(df.loc[101:105])  # Fetches data for employee with ID 103\n"
   ]
  },
  {
   "cell_type": "code",
   "execution_count": 14,
   "metadata": {},
   "outputs": [
    {
     "name": "stdout",
     "output_type": "stream",
     "text": [
      "         Date  Sales\n",
      "0  2024-01-01    500\n",
      "1  2024-01-02    600\n",
      "2  2024-01-03    700\n"
     ]
    }
   ],
   "source": [
    "import pandas as pd\n",
    "#Scenario: You have a DataFrame of daily sales data and you want to access data based on integer-based positions (e.g., the first 5 days of data).\n",
    "#.iloc is beneficial when you need to access rows and columns by their integer positions, which is useful for tasks such as slicing \n",
    "# data or selecting specific rows and columns by their index positions in a zero-based index system.\n",
    "# Creating a DataFrame of daily sales\n",
    "data = {\n",
    "    \"Date\": [\"2024-01-01\", \"2024-01-02\", \"2024-01-03\", \"2024-01-04\", \"2024-01-05\"],\n",
    "    \"Sales\": [500, 600, 700, 800, 900]\n",
    "}\n",
    "df = pd.DataFrame(data)\n",
    "\n",
    "#Accessing rows by integer position using .iloc\n",
    "print(df.iloc[0:3])  # Fetches data for the first 3 rows\n"
   ]
  }
 ],
 "metadata": {
  "kernelspec": {
   "display_name": "Python 3",
   "language": "python",
   "name": "python3"
  },
  "language_info": {
   "codemirror_mode": {
    "name": "ipython",
    "version": 3
   },
   "file_extension": ".py",
   "mimetype": "text/x-python",
   "name": "python",
   "nbconvert_exporter": "python",
   "pygments_lexer": "ipython3",
   "version": "3.12.4"
  }
 },
 "nbformat": 4,
 "nbformat_minor": 2
}
