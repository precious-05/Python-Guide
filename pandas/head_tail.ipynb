{
 "cells": [
  {
   "cell_type": "code",
   "execution_count": null,
   "metadata": {},
   "outputs": [],
   "source": [
    "#head\n",
    "#If we want the top most data \n",
    "#Example we have the data from year 2000-2021 But we want only the data from 2000-2005 So what we can do?\n",
    "# Here we can perform slicing too but more easy way to do this is to use head() function\n",
    "\n",
    "\n",
    "#tail\n",
    "#For xample if i want the covid data only from year 2019-2021\n",
    "# This can be done using tail"
   ]
  },
  {
   "cell_type": "code",
   "execution_count": null,
   "metadata": {},
   "outputs": [],
   "source": [
    "#Example code\n",
    "import pandas as pd\n",
    "import numpy as np\n",
    "List=[2001,2002,2003,2004,2005,2006,2007]\n",
    "s=pd.Series(List,index=[\"year1\",\"year2\",\"year3\",\"year4\",\"year5\",\"year6\",\"year7\"])\n",
    "print(s)\n",
    "\n",
    "print(\"\\n\")\n",
    "#if we want to fetch the above 3 records only then we will use head() function\n",
    "print(s.head(3))\n",
    "\n",
    "#If we give a bigger value here like 400   so our data is smaller than this range so now wha will happen\n",
    "#Lets take an example\n",
    "#You go to a shop and ask him that you want 60 packets of noodles but shop keeper say that now he has only 10 all others are sold\n",
    "#So what you will do you will ask him \"okay\" give me those 10 only\n",
    "#Same is the case here i have given the larger value here but it is showing the whole data whatever it has\n",
    "print(s.head(60))\n",
    "\n",
    "print(\"\\n\")\n",
    "#If we write only head without specifying the value then by default it fetches 1st 5 data\n",
    "print(s.head())\n",
    "\n",
    "#but if our series ahs data less than  then it will retuen how much data the dataset has\n",
    "#example:\n",
    "print(\"\\n\")\n",
    "e=pd.Series([1,2,3])\n",
    "print(e.head())\n",
    "\n",
    "\n"
   ]
  },
  {
   "cell_type": "code",
   "execution_count": 13,
   "metadata": {},
   "outputs": [
    {
     "name": "stdout",
     "output_type": "stream",
     "text": [
      "\n",
      "\n",
      "year5    2005\n",
      "year6    2006\n",
      "year7    2007\n",
      "dtype: int64\n",
      "\n",
      "\n",
      "year1    2001\n",
      "year2    2002\n",
      "year3    2003\n",
      "year4    2004\n",
      "year5    2005\n",
      "year6    2006\n",
      "year7    2007\n",
      "dtype: int64\n",
      "\n",
      "\n",
      "year3    2003\n",
      "year4    2004\n",
      "year5    2005\n",
      "year6    2006\n",
      "year7    2007\n",
      "dtype: int64\n",
      "\n",
      "\n",
      "0    1\n",
      "1    2\n",
      "2    3\n",
      "dtype: int64\n"
     ]
    }
   ],
   "source": [
    "#Note: All the above rules are applied to the tail() function too\n",
    "\n",
    "import pandas as pd\n",
    "import numpy as np\n",
    "List=[2001,2002,2003,2004,2005,2006,2007]\n",
    "s=pd.Series(List,index=[\"year1\",\"year2\",\"year3\",\"year4\",\"year5\",\"year6\",\"year7\"])\n",
    "#print(s)\n",
    "\n",
    "print(\"\\n\")\n",
    "\n",
    "print(s.tail(3))\n",
    "\n",
    "print(\"\\n\")\n",
    "\n",
    "\n",
    "print(s.tail(60))\n",
    "\n",
    "print(\"\\n\")\n",
    "print(s.tail())\n",
    "\n",
    "\n",
    "print(\"\\n\")\n",
    "e=pd.Series([1,2,3])\n",
    "print(e.tail())"
   ]
  }
 ],
 "metadata": {
  "kernelspec": {
   "display_name": "Python 3",
   "language": "python",
   "name": "python3"
  },
  "language_info": {
   "codemirror_mode": {
    "name": "ipython",
    "version": 3
   },
   "file_extension": ".py",
   "mimetype": "text/x-python",
   "name": "python",
   "nbconvert_exporter": "python",
   "pygments_lexer": "ipython3",
   "version": "3.12.4"
  }
 },
 "nbformat": 4,
 "nbformat_minor": 2
}
