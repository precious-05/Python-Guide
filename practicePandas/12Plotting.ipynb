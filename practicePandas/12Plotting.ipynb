{
 "cells": [
  {
   "cell_type": "markdown",
   "metadata": {},
   "source": [
    "- Pandas - Data Correlations\n",
    "- The corr() method calculates the relationship between each column in your data set.\n",
    "- The corr() method ignores \"not numeric\" columns.\n",
    "\n",
    "\n",
    "**The Result of the corr() method is a table with a lot of numbers that represents how well the relationship is between two columns.**\n",
    "\n",
    "\n",
    "- What is a good correlation? It depends on the use, but I think it is safe to say you have to have at least 0.6 (or -0.6) to call it a good correlation.\n",
    "\n",
    "#### Perfect Correlation:\n",
    "- We can see that \"Duration\" and \"Duration\" got the number 1.000000, which makes sense, each column always has a perfect relationship with itself.\n",
    "\n",
    "#### Good Correlation:\n",
    "- \"Duration\" and \"Calories\" got a 0.922721 correlation, which is a very good correlation, and we can predict that the longer you work out, the more calories you burn, and the other way around: if you burned a lot of calories, you probably had a long work out.\n",
    "\n",
    "#### Bad Correlation:\n",
    "- \"Duration\" and \"Maxpulse\" got a 0.009403 correlation, which is a very bad correlation, meaning that we can not predict the max pulse by just looking at the duration of the work out, and vice versa."
   ]
  },
  {
   "cell_type": "code",
   "execution_count": 1,
   "metadata": {},
   "outputs": [
    {
     "ename": "NameError",
     "evalue": "name 'thyroid_data' is not defined",
     "output_type": "error",
     "traceback": [
      "\u001b[1;31m---------------------------------------------------------------------------\u001b[0m",
      "\u001b[1;31mNameError\u001b[0m                                 Traceback (most recent call last)",
      "Cell \u001b[1;32mIn[1], line 3\u001b[0m\n\u001b[0;32m      1\u001b[0m \u001b[38;5;66;03m# Manual encoding based on ordinal relationship\u001b[39;00m\n\u001b[0;32m      2\u001b[0m risk_mapping \u001b[38;5;241m=\u001b[39m {\u001b[38;5;124m'\u001b[39m\u001b[38;5;124mlow\u001b[39m\u001b[38;5;124m'\u001b[39m: \u001b[38;5;241m1\u001b[39m, \u001b[38;5;124m'\u001b[39m\u001b[38;5;124mmedium\u001b[39m\u001b[38;5;124m'\u001b[39m: \u001b[38;5;241m2\u001b[39m, \u001b[38;5;124m'\u001b[39m\u001b[38;5;124mhigh\u001b[39m\u001b[38;5;124m'\u001b[39m: \u001b[38;5;241m3\u001b[39m}\n\u001b[1;32m----> 3\u001b[0m thyroid_data[\u001b[38;5;124m'\u001b[39m\u001b[38;5;124mRisk\u001b[39m\u001b[38;5;124m'\u001b[39m] \u001b[38;5;241m=\u001b[39m \u001b[43mthyroid_data\u001b[49m[\u001b[38;5;124m'\u001b[39m\u001b[38;5;124mRisk\u001b[39m\u001b[38;5;124m'\u001b[39m]\u001b[38;5;241m.\u001b[39mmap(risk_mapping)\n\u001b[0;32m      5\u001b[0m \u001b[38;5;66;03m# Now calculate the correlation and plot\u001b[39;00m\n\u001b[0;32m      6\u001b[0m correlation \u001b[38;5;241m=\u001b[39m thyroid_data[[\u001b[38;5;124m'\u001b[39m\u001b[38;5;124mRisk\u001b[39m\u001b[38;5;124m'\u001b[39m, \u001b[38;5;124m'\u001b[39m\u001b[38;5;124mRecurred\u001b[39m\u001b[38;5;124m'\u001b[39m]]\u001b[38;5;241m.\u001b[39mcorr()\n",
      "\u001b[1;31mNameError\u001b[0m: name 'thyroid_data' is not defined"
     ]
    }
   ],
   "source": [
    "# Manual encoding based on ordinal relationship\n",
    "risk_mapping = {'low': 1, 'medium': 2, 'high': 3}\n",
    "thyroid_data['Risk'] = thyroid_data['Risk'].map(risk_mapping)\n",
    "\n",
    "# Now calculate the correlation and plot\n",
    "correlation = thyroid_data[['Risk', 'Recurred']].corr()\n",
    "print(correlation)       \n",
    "thyroid_data.plot(kind='scatter', x='Risk', y='Recurred')\n",
    "plt.show()"
   ]
  },
  {
   "cell_type": "code",
   "execution_count": null,
   "metadata": {},
   "outputs": [],
   "source": [
    "\n",
    "# Assuming thyroid_data is already factorized and contains numeric columns\n",
    "#x = thyroid_data['Risk']\n",
    "#y = thyroid_data['Recurred']\n",
    "\n",
    "# Calculate the correlation coefficient\n",
    "#correlation_value = x.corr(y)\n",
    "\n",
    "# Create a scatter plot\n",
    "#plt.scatter(x, y)\n",
    "\n",
    "# Annotate the plot with the correlation value\n",
    "#plt.title(f'Scatter Plot of Risk vs. Recurred\\nCorrelation: {correlation_value:.2f}')\n",
    "#plt.xlabel('Risk')\n",
    "#plt.ylabel('Recurred')\n",
    "\n",
    "# Show the plot\n",
    "#plt.show()"
   ]
  },
  {
   "cell_type": "code",
   "execution_count": null,
   "metadata": {},
   "outputs": [
    {
     "data": {
      "text/plain": [
       "0      1\n",
       "1      1\n",
       "2      1\n",
       "3      1\n",
       "4      1\n",
       "      ..\n",
       "378    3\n",
       "379    3\n",
       "380    3\n",
       "381    3\n",
       "382    3\n",
       "Name: Risk, Length: 383, dtype: int64"
      ]
     },
     "execution_count": 7,
     "metadata": {},
     "output_type": "execute_result"
    }
   ],
   "source": [
    "import pandas as pd\n",
    "import matplotlib.pyplot as plt\n",
    "\n",
    "# Load the data\n",
    "thyroid_data = pd.read_csv('Thyroid_Diff.csv')\n",
    "\n",
    "# Factorize the 'Risk' column and adjust the values to start from 1\n",
    "risk_labels, risk_uniques = pd.factorize(thyroid_data['Risk'])\n",
    "#risk_labels\n",
    "#risk_uniques\n",
    "thyroid_data['Risk'] = risk_labels + 1  # Shift values to start from 1\n",
    "\n",
    "# Factorize the 'Recurred' column and ensure it only has values 0 and 1\n",
    "recurred_labels, recurred_uniques = pd.factorize(thyroid_data['Recurred'])\n",
    "thyroid_data['Recurred'] = recurred_labels  # Assumes 'Recurred' is already binary\n",
    "thyroid_data['Risk']\n",
    "\n",
    "# Print the modified DataFrame to verify\n",
    "#print(thyroid_data[['Risk', 'Recurred']].to_string())\n",
    "\n",
    "# Scatter plot\n",
    "#x = thyroid_data['Risk']\n",
    "#y = thyroid_data['Recurred']\n",
    "\n",
    "#plt.scatter(x, y)\n",
    "#plt.xlabel('Risk')\n",
    "#plt.ylabel('Recurred')\n",
    "#plt.title('Risk vs Recurred')\n",
    "#plt.show()\n"
   ]
  }
 ],
 "metadata": {
  "kernelspec": {
   "display_name": "Python 3",
   "language": "python",
   "name": "python3"
  },
  "language_info": {
   "codemirror_mode": {
    "name": "ipython",
    "version": 3
   },
   "file_extension": ".py",
   "mimetype": "text/x-python",
   "name": "python",
   "nbconvert_exporter": "python",
   "pygments_lexer": "ipython3",
   "version": "3.12.4"
  }
 },
 "nbformat": 4,
 "nbformat_minor": 2
}
