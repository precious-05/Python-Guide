{
 "cells": [
  {
   "cell_type": "markdown",
   "metadata": {},
   "source": [
    "### **Filtering data from Series**"
   ]
  },
  {
   "cell_type": "code",
   "execution_count": null,
   "metadata": {},
   "outputs": [],
   "source": [
    "import pandas as pd\n",
    "s1=pd.Series([1001,4004,2002,3000,45645,5,6,7])\n",
    "print(s1!=1000)\n",
    "#relational operator always provide a boolean answer in True/False\n",
    "#We dont want the output in boolean we want filtered data based on the condition"
   ]
  },
  {
   "cell_type": "code",
   "execution_count": null,
   "metadata": {},
   "outputs": [],
   "source": [
    "print(s1[s1>1000])\n",
    "#[s1>1000]  contains the boolean values such as in above cell"
   ]
  },
  {
   "cell_type": "markdown",
   "metadata": {},
   "source": [
    "### **Sorting data in Series**"
   ]
  },
  {
   "cell_type": "code",
   "execution_count": null,
   "metadata": {},
   "outputs": [],
   "source": [
    "srt=s1.sort_values()\n",
    "print(srt)"
   ]
  },
  {
   "cell_type": "code",
   "execution_count": null,
   "metadata": {},
   "outputs": [],
   "source": [
    "srt=s1.sort_values(ascending=False)\n",
    "print(srt)"
   ]
  },
  {
   "cell_type": "markdown",
   "metadata": {},
   "source": [
    "## **Part # 2**\n",
    "- without using loc and iloc"
   ]
  },
  {
   "cell_type": "code",
   "execution_count": null,
   "metadata": {},
   "outputs": [],
   "source": [
    "heart=pd.read_csv('heart-disease.csv')\n",
    "#Female patients having cholestrol > 200\n",
    "heart"
   ]
  },
  {
   "cell_type": "markdown",
   "metadata": {},
   "source": [
    "### Boolean masking"
   ]
  },
  {
   "cell_type": "code",
   "execution_count": null,
   "metadata": {},
   "outputs": [],
   "source": [
    "mask=(heart['sex']==1)  &  (heart['chol']>200)\n",
    "fltr2=heart[mask]\n",
    "fltr2\n"
   ]
  },
  {
   "cell_type": "markdown",
   "metadata": {},
   "source": [
    "## Without using boolean masking"
   ]
  },
  {
   "cell_type": "code",
   "execution_count": null,
   "metadata": {},
   "outputs": [],
   "source": [
    "fltr2=heart[(heart['sex']==1)  &  (heart['chol']>200)]\n",
    "fltr2\n",
    "\n"
   ]
  },
  {
   "cell_type": "code",
   "execution_count": null,
   "metadata": {},
   "outputs": [],
   "source": [
    "fltr3=fltr2['sex'].value_counts()\n",
    "fltr3"
   ]
  },
  {
   "cell_type": "code",
   "execution_count": null,
   "metadata": {},
   "outputs": [],
   "source": [
    "#male patient having hifh cholestrol level\n",
    "fltr_male=heart[(heart['sex']==0) & (heart['chol']>200)]\n",
    "fltr_male"
   ]
  },
  {
   "cell_type": "code",
   "execution_count": null,
   "metadata": {},
   "outputs": [],
   "source": [
    "fltr_male_count=fltr_male['sex'].value_counts()\n",
    "fltr_male_count"
   ]
  },
  {
   "cell_type": "code",
   "execution_count": null,
   "metadata": {},
   "outputs": [],
   "source": [
    "#Cholestrol of the patients having age>70\n",
    "Age_=heart[heart['age']>70][['chol','age']]     #Age_['chol']  works the same if we write it separately\n",
    "Age_\n",
    "#AGE.value_counts()"
   ]
  },
  {
   "cell_type": "markdown",
   "metadata": {},
   "source": [
    "### _Filtering and Ordering by Alex the Analyst_"
   ]
  },
  {
   "cell_type": "code",
   "execution_count": null,
   "metadata": {},
   "outputs": [],
   "source": [
    "import pandas as pd\n",
    "df=pd.read_excel(\"C:/Users/Hp/Desktop/learning/Python-Guide/pandas/world_population_file.xlsx\")\n",
    "df"
   ]
  },
  {
   "cell_type": "code",
   "execution_count": null,
   "metadata": {},
   "outputs": [],
   "source": [
    "# Filtering based on columns\n",
    "df[df[\"Rank\"]<=10][\"Rank\"]"
   ]
  },
  {
   "cell_type": "code",
   "execution_count": null,
   "metadata": {},
   "outputs": [],
   "source": [
    "#Filtering bades on columns\n",
    "specific_countries=['Bangladesh','Brazil']\n",
    "df[df['Country'].isin(specific_countries)] #[['Capital','2022 Population','2020 Population']]"
   ]
  },
  {
   "cell_type": "code",
   "execution_count": null,
   "metadata": {},
   "outputs": [],
   "source": [
    "#df.loc[0:16:1,\"Rank\":\"1980 Population\":1]"
   ]
  },
  {
   "cell_type": "code",
   "execution_count": null,
   "metadata": {},
   "outputs": [],
   "source": [
    "#Filtering based on Columns\n",
    "df[df['Country'].str.contains(\"United\")]#[['Country','Capital','2022 Population','2020 Population']]"
   ]
  },
  {
   "cell_type": "code",
   "execution_count": null,
   "metadata": {},
   "outputs": [],
   "source": [
    "# Now we also have to do the filteration based on the rows \n",
    "# As the index is in integers which is not good for filtering rows using loc so 1st lets change the index\n",
    "# But i am creating a new data frame bcz i will have to use the original dataframe later so i dont want the changes permanently\n",
    "df2=df.set_index('Country')\n",
    "df2\n"
   ]
  },
  {
   "cell_type": "code",
   "execution_count": null,
   "metadata": {},
   "outputs": [],
   "source": [
    "df2.filter(items=['Continent','CCA3'],axis=1)"
   ]
  },
  {
   "cell_type": "code",
   "execution_count": null,
   "metadata": {},
   "outputs": [],
   "source": [
    "# Filtering the row using filter function\n",
    "df2.filter(items=[\"Zimbabwe\",\"Zambia\"],axis=0)  # [[\"Rank\",\"Capital\"]]"
   ]
  },
  {
   "cell_type": "code",
   "execution_count": null,
   "metadata": {},
   "outputs": [],
   "source": [
    "#using like attribute in filter function\n",
    "df2.filter(like=\"United\",axis=0)\n",
    "\n"
   ]
  },
  {
   "cell_type": "code",
   "execution_count": null,
   "metadata": {},
   "outputs": [],
   "source": [
    "df2.loc[\"United States\"]"
   ]
  },
  {
   "cell_type": "code",
   "execution_count": null,
   "metadata": {},
   "outputs": [],
   "source": [
    "df2.iloc[3]"
   ]
  },
  {
   "cell_type": "code",
   "execution_count": null,
   "metadata": {},
   "outputs": [],
   "source": [
    "df.head(3)"
   ]
  },
  {
   "cell_type": "markdown",
   "metadata": {},
   "source": [
    "### Filtering using Query"
   ]
  },
  {
   "cell_type": "code",
   "execution_count": null,
   "metadata": {},
   "outputs": [],
   "source": [
    "df3 = df.query(\"Country == 'Pakistan' & Capital == 'Islamabad' \")\n",
    "df3"
   ]
  },
  {
   "cell_type": "code",
   "execution_count": null,
   "metadata": {},
   "outputs": [],
   "source": [
    "# Verifying that if query worked accurately\n",
    "df4=df[(df[\"Country\"] == 'Pakistan') & (df[\"Capital\"] == 'Islamabad')]\n",
    "df4"
   ]
  },
  {
   "cell_type": "markdown",
   "metadata": {},
   "source": [
    "### _Ordering the data_"
   ]
  },
  {
   "cell_type": "code",
   "execution_count": null,
   "metadata": {},
   "outputs": [],
   "source": [
    "# As we kept our original data \n",
    "#df[df.Rank<10].sort_values(by=['Rank','Country'])[['Rank','Country','Capital','2022 Population','2020 Population']]\n",
    "#Sort k by attribute mein agar list pass kren to jo Column name pehle likha jata hai ussi ki base pr sorting hti hai 2nd ka koi effect ni prta\n",
    "# Fo understanding run above line and below line too\n",
    "#df[df.Rank<10].sort_values(by=['Country','Rank'])[['Rank','Country','Capital','2022 Population','2020 Population']]\n",
    "\n",
    "df[df.Rank<10].sort_values(by=['Continent','Rank'],ascending=[False,False])[['Rank','Country','Continent','Capital','2022 Population','2020 Population']]"
   ]
  },
  {
   "cell_type": "markdown",
   "metadata": {},
   "source": [
    "### _Understand the working of str with methods in pandas_\n",
    "- .str is like a tool that helps you apply string-related functions to each text item in your data.\n",
    "- Without .str, pandas wouldn't know you're trying to work with the text inside the data.\n",
    "- It's like giving pandas a heads-up: \"Hey, treat this as a string, and apply this operation to every piece of text here.\"\n",
    "- Without .str, pandas tries to treat the Series or DataFrame as a whole rather than focusing on each string inside it.\n",
    "- With .str, pandas knows you're working with the text data inside and applies the string method to each element individually."
   ]
  },
  {
   "cell_type": "code",
   "execution_count": null,
   "metadata": {},
   "outputs": [],
   "source": [
    "import pandas as pd\n",
    "\n",
    "# Sample data\n",
    "data = pd.Series(['John Smith', 'Jane Doe', 'John Doe'])\n",
    "\n",
    "# Attempting to replace \"John\" without .str\n",
    "data_updated = data.replace('John', 'Johnny')\n",
    "print(data_updated)"
   ]
  }
 ],
 "metadata": {
  "kernelspec": {
   "display_name": "Python 3",
   "language": "python",
   "name": "python3"
  },
  "language_info": {
   "codemirror_mode": {
    "name": "ipython",
    "version": 3
   },
   "file_extension": ".py",
   "mimetype": "text/x-python",
   "name": "python",
   "nbconvert_exporter": "python",
   "pygments_lexer": "ipython3",
   "version": "3.12.4"
  }
 },
 "nbformat": 4,
 "nbformat_minor": 2
}
