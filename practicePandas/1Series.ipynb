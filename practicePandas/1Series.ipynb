{
 "cells": [
  {
   "cell_type": "markdown",
   "metadata": {},
   "source": [
    "### Pandas (panel data system) Python Library\n",
    "- Used for data analysis\n",
    "- Allows to perform data manipulation\n",
    "### Data Manipulation\n",
    "Data manipulation ka matlab hai data ko modify, arrange, aur process karna taake woh zyada useful aur meaningful ban sake. Simple words mein, yeh process data ko aise tarike se change karna hai ki usse behtar insights mil sakein.\n",
    "**Example:**\n",
    "- Socho tumhare paas ek list hai jismein students ke marks hain: [85, 92, 78, 90, 88]\n",
    "- Sorting: Ap is list ko ascending order mein arrange kar sakte ho, taake tumhe highest aur lowest marks dikhai de:[78, 85, 88, 90, 92]\n",
    "- Filtering: Ap sirf un students ke marks dekhna chahte ho jo 85 se zyada hain:[92, 90, 88]\n",
    "- Aggregation: Ap marks ka average nikalna chahte ho, taake tum dekh sako ki students ka overall performance kaisa hai:  Average marks = (85 + 92 + 78 + 90 + 88) / 5 = 86.6"
   ]
  },
  {
   "cell_type": "markdown",
   "metadata": {},
   "source": [
    "## Series\n",
    "- 1 Dimensional\n",
    "- Homogeneous data\n",
    "- Size immutable\n",
    "- Values of data are Mutable"
   ]
  },
  {
   "cell_type": "code",
   "execution_count": 616,
   "metadata": {},
   "outputs": [],
   "source": [
    "import pandas as pd\n",
    "#List=[1,2,3,4,5]\n",
    "#s=pd.Series(List)\n",
    "#print(s)"
   ]
  },
  {
   "cell_type": "code",
   "execution_count": 617,
   "metadata": {},
   "outputs": [
    {
     "name": "stdout",
     "output_type": "stream",
     "text": [
      "0     10\n",
      "1      9\n",
      "2     37\n",
      "3     96\n",
      "4    874\n",
      "dtype: int64\n"
     ]
    }
   ],
   "source": [
    "#Creating a Series using List/tuple\n",
    "#k=[1,2,3,4,5]   #List\n",
    "k=(10,9,37,96,874)  #tuple\n",
    "Ser=pd.Series(k)\n",
    "print(Ser)"
   ]
  },
  {
   "cell_type": "code",
   "execution_count": 618,
   "metadata": {},
   "outputs": [
    {
     "name": "stdout",
     "output_type": "stream",
     "text": [
      "0    1.0\n",
      "1    2.0\n",
      "2    3.4\n",
      "3    4.5\n",
      "dtype: float64\n"
     ]
    }
   ],
   "source": [
    "#Homogeneous ka ye mtlb hai k ye sbko ek nazar se dkhega agr hm alg type ka data de den to\n",
    "check=[1,2,3.4,4.5]\n",
    "sr=pd.Series(check)\n",
    "print(sr)"
   ]
  },
  {
   "cell_type": "code",
   "execution_count": 619,
   "metadata": {},
   "outputs": [
    {
     "name": "stdout",
     "output_type": "stream",
     "text": [
      "0         1\n",
      "1         2\n",
      "2       3.4\n",
      "3       4.5\n",
      "4     Alina\n",
      "5    Kaneez\n",
      "dtype: object\n"
     ]
    }
   ],
   "source": [
    "check2=[1,2,3.4,4.5,'Alina','Kaneez']\n",
    "sr2=pd.Series(check2)\n",
    "print(sr2)"
   ]
  },
  {
   "cell_type": "code",
   "execution_count": 620,
   "metadata": {},
   "outputs": [
    {
     "name": "stdout",
     "output_type": "stream",
     "text": [
      "ID         78.0\n",
      "Age        18.0\n",
      "Marks      33.0\n",
      "Average    55.6\n",
      "dtype: float64\n",
      "\n",
      "78.0\n",
      "18.0\n"
     ]
    },
    {
     "name": "stderr",
     "output_type": "stream",
     "text": [
      "C:\\Users\\Hp\\AppData\\Local\\Temp\\ipykernel_13412\\2196631047.py:10: FutureWarning: Series.__getitem__ treating keys as positions is deprecated. In a future version, integer keys will always be treated as labels (consistent with DataFrame behavior). To access a value by position, use `ser.iloc[pos]`\n",
      "  print(Ser2[0])\n"
     ]
    }
   ],
   "source": [
    "#using dictionary\n",
    "dict={\"ID\": 78,\n",
    "      \"Age\": 18,\n",
    "      \"Marks\":33,\n",
    "      \"Average\":55.6\n",
    "      }\n",
    "Ser2=pd.Series(dict) \n",
    "print(Ser2)\n",
    "print()\n",
    "print(Ser2[0])\n",
    "print(Ser2[\"Age\"])\n",
    "#It will consider the keys as the indexes\n",
    "#,index=[\"Series\",\"Series2\"]   so while working with dictionaries this will give NaN values\n",
    "#Because the indexes are already considered which are keys in the dictionaries"
   ]
  },
  {
   "cell_type": "code",
   "execution_count": 621,
   "metadata": {},
   "outputs": [
    {
     "name": "stdout",
     "output_type": "stream",
     "text": [
      "orange    1\n",
      "Banana    2\n",
      "Apple     3\n",
      "dtype: int64\n"
     ]
    }
   ],
   "source": [
    "List=(1,2,3)\n",
    "Ser3=pd.Series(List,index=[\"orange\",\"Banana\",\"Apple\"])\n",
    "print(Ser3)"
   ]
  },
  {
   "cell_type": "code",
   "execution_count": 622,
   "metadata": {},
   "outputs": [
    {
     "name": "stdout",
     "output_type": "stream",
     "text": [
      "orange    100\n",
      "Banana    100\n",
      "Apple     100\n",
      "dtype: int64\n"
     ]
    }
   ],
   "source": [
    "Ser4=pd.Series(100,index=[\"orange\",\"Banana\",\"Apple\"])\n",
    "print(Ser4)"
   ]
  },
  {
   "cell_type": "code",
   "execution_count": 623,
   "metadata": {},
   "outputs": [
    {
     "name": "stdout",
     "output_type": "stream",
     "text": [
      "orange    0\n",
      "Banana    1\n",
      "Apple     2\n",
      "dtype: int64\n",
      "1\n",
      "\n",
      "1\n",
      "\n",
      "Apple     2\n",
      "Banana    1\n",
      "orange    0\n",
      "dtype: int64\n"
     ]
    },
    {
     "name": "stderr",
     "output_type": "stream",
     "text": [
      "C:\\Users\\Hp\\AppData\\Local\\Temp\\ipykernel_13412\\1466878640.py:5: FutureWarning: Series.__getitem__ treating keys as positions is deprecated. In a future version, integer keys will always be treated as labels (consistent with DataFrame behavior). To access a value by position, use `ser.iloc[pos]`\n",
      "  print(Ser5[1])\n"
     ]
    }
   ],
   "source": [
    "Ser5=pd.Series(range(0,3,1),index=[\"orange\",\"Banana\",\"Apple\"])\n",
    "print(Ser5)\n",
    "\n",
    "# The values can be fetched from actual indexing as well as lable index\n",
    "print(Ser5[1])\n",
    "print()\n",
    "print(Ser5[\"Banana\"])\n",
    "print()\n",
    "\n",
    "\n",
    "print(Ser5[::-1])"
   ]
  },
  {
   "cell_type": "code",
   "execution_count": 624,
   "metadata": {},
   "outputs": [
    {
     "name": "stdout",
     "output_type": "stream",
     "text": [
      "Age        18.0\n",
      "Marks      33.0\n",
      "Average    55.6\n",
      "dtype: float64\n",
      "\n",
      "Age      18.0\n",
      "Marks    33.0\n",
      "dtype: float64\n",
      "Average    55.6\n",
      "Marks      33.0\n",
      "Age        18.0\n",
      "ID         78.0\n",
      "dtype: float64\n"
     ]
    }
   ],
   "source": [
    "#In slicing if we have the actual indexes then last is not included but in labeling it is not happened\n",
    "print(Ser2[\"Age\":\"Average\"])\n",
    "print()\n",
    "print(Ser2[1:3])\n",
    "print(Ser2[::-1])"
   ]
  },
  {
   "cell_type": "code",
   "execution_count": 625,
   "metadata": {},
   "outputs": [
    {
     "name": "stdout",
     "output_type": "stream",
     "text": [
      "ID         78.0\n",
      "Age        18.0\n",
      "Marks      33.0\n",
      "Average    55.6\n",
      "dtype: float64\n"
     ]
    }
   ],
   "source": [
    "#Deletion/Drop\n",
    "Ser2.drop(\"Average\")\n",
    "print(Ser2)\n"
   ]
  },
  {
   "cell_type": "code",
   "execution_count": 626,
   "metadata": {},
   "outputs": [
    {
     "name": "stdout",
     "output_type": "stream",
     "text": [
      "ID       78.0\n",
      "Age      18.0\n",
      "Marks    33.0\n",
      "dtype: float64\n"
     ]
    }
   ],
   "source": [
    "Ser2.drop(\"Average\",inplace=True)\n",
    "print(Ser2)"
   ]
  },
  {
   "cell_type": "code",
   "execution_count": 627,
   "metadata": {},
   "outputs": [
    {
     "data": {
      "text/plain": [
       "1      9\n",
       "0     10\n",
       "2     37\n",
       "3     96\n",
       "4    874\n",
       "dtype: int64"
      ]
     },
     "execution_count": 627,
     "metadata": {},
     "output_type": "execute_result"
    }
   ],
   "source": [
    "#Sorting\n",
    "Ser.sort_values()"
   ]
  },
  {
   "cell_type": "code",
   "execution_count": 628,
   "metadata": {},
   "outputs": [
    {
     "data": {
      "text/plain": [
       "4    874\n",
       "3     96\n",
       "2     37\n",
       "0     10\n",
       "1      9\n",
       "dtype: int64"
      ]
     },
     "execution_count": 628,
     "metadata": {},
     "output_type": "execute_result"
    }
   ],
   "source": [
    "Ser.sort_values(ascending=False)"
   ]
  },
  {
   "cell_type": "code",
   "execution_count": 629,
   "metadata": {},
   "outputs": [
    {
     "name": "stdout",
     "output_type": "stream",
     "text": [
      "2     37\n",
      "3     96\n",
      "4    874\n",
      "dtype: int64\n"
     ]
    }
   ],
   "source": [
    "#Filtering\n",
    "print(Ser[Ser>10])"
   ]
  },
  {
   "cell_type": "code",
   "execution_count": 630,
   "metadata": {},
   "outputs": [
    {
     "name": "stdout",
     "output_type": "stream",
     "text": [
      "Series([], dtype: int64)\n",
      "0    10\n",
      "dtype: int64\n"
     ]
    }
   ],
   "source": [
    "print(Ser[Ser==100])\n",
    "print(Ser[Ser==10])"
   ]
  },
  {
   "cell_type": "code",
   "execution_count": 631,
   "metadata": {},
   "outputs": [
    {
     "name": "stdout",
     "output_type": "stream",
     "text": [
      "Index(['orange', 'Banana', 'Apple'], dtype='object')\n",
      "3\n",
      "1\n",
      "3\n",
      "False\n",
      "False\n",
      "3\n"
     ]
    }
   ],
   "source": [
    "print(Ser5.index)\n",
    "print(Ser5.shape[0])\n",
    "print(Ser5.ndim)\n",
    "print(Ser5.size)\n",
    "print(Ser5.empty)\n",
    "print(Ser5.hasnans) #ek b value null hgi to ans True ayga\n",
    "print(len(Ser5))\n",
    "\n"
   ]
  },
  {
   "cell_type": "markdown",
   "metadata": {},
   "source": [
    "### For Series the dictionary keys are the indexes but for Dataframe the dictionary keys are the column lables\n",
    "\n",
    "\n",
    "- For a Series: The dictionary keys become the index of the Series, and the corresponding values become the data in the Series.\n",
    "\n",
    "- For a DataFrame: The dictionary keys become the column labels (headers), and the corresponding values (which are typically lists, arrays, or another Series) become the data under those columns."
   ]
  }
 ],
 "metadata": {
  "kernelspec": {
   "display_name": "Python 3",
   "language": "python",
   "name": "python3"
  },
  "language_info": {
   "codemirror_mode": {
    "name": "ipython",
    "version": 3
   },
   "file_extension": ".py",
   "mimetype": "text/x-python",
   "name": "python",
   "nbconvert_exporter": "python",
   "pygments_lexer": "ipython3",
   "version": "3.12.4"
  }
 },
 "nbformat": 4,
 "nbformat_minor": 2
}
