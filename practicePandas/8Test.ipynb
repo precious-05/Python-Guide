{
 "cells": [
  {
   "cell_type": "markdown",
   "metadata": {},
   "source": [
    "#1. Read dataset\n",
    "\n",
    "#2. Describe the Dataset\n",
    "\n",
    "#3, Select Column \"Sex\", and find how many male \"0\" and female \"1\"\n",
    "\n",
    "#4, then find how many male and females between age 30-50\n",
    "\n",
    "#5, Find Cholesterol level (normal range <200), need to find how many male/female patient have high cholesterol level between age 30-50"
   ]
  },
  {
   "cell_type": "code",
   "execution_count": null,
   "metadata": {},
   "outputs": [],
   "source": [
    "import pandas as pd \n",
    "data=pd.read_csv('heart-disease.csv')"
   ]
  },
  {
   "cell_type": "code",
   "execution_count": null,
   "metadata": {},
   "outputs": [],
   "source": [
    "data.describe()"
   ]
  },
  {
   "cell_type": "code",
   "execution_count": null,
   "metadata": {},
   "outputs": [],
   "source": [
    "s_count=data['sex'].value_counts()\n",
    "print(s_count)"
   ]
  },
  {
   "cell_type": "code",
   "execution_count": null,
   "metadata": {},
   "outputs": [],
   "source": [
    "age_lim=data[(data['age']>=30) & (data['age']<=50)]\n",
    "#print(age_lim.to_string())\n",
    "#age_lim['sex']\n",
    "#print(age_lim['sex'].value_counts())"
   ]
  },
  {
   "cell_type": "code",
   "execution_count": null,
   "metadata": {},
   "outputs": [],
   "source": [
    "cholstrol=data[(data['age']>=30) & (data['age']<=50) & (data['chol']>=200) ]\n",
    "print(cholstrol['sex'].value_counts())"
   ]
  },
  {
   "cell_type": "markdown",
   "metadata": {},
   "source": []
  }
 ],
 "metadata": {
  "kernelspec": {
   "display_name": "Python 3",
   "language": "python",
   "name": "python3"
  },
  "language_info": {
   "codemirror_mode": {
    "name": "ipython",
    "version": 3
   },
   "file_extension": ".py",
   "mimetype": "text/x-python",
   "name": "python",
   "nbconvert_exporter": "python",
   "pygments_lexer": "ipython3",
   "version": "3.12.4"
  }
 },
 "nbformat": 4,
 "nbformat_minor": 2
}
