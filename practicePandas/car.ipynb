{
 "cells": [
  {
   "cell_type": "code",
   "execution_count": null,
   "metadata": {},
   "outputs": [],
   "source": [
    "\"\"\"import pandas as pd\n",
    "Car=pd.read_csv('car-sales-extended.csv')\n",
    "fltr1=Car[(Car['Price']>=10000) & (Car['Price']<=15000)]\n",
    "fltr2=Car[(Car['Price']>=15000) & (Car['Price']<=20000)]\n",
    "comb=pd.concat([fltr1,fltr2])\n",
    "srt=comb.sort_values(by='Price')\n",
    "srt2=srt[['Make','Colour','Price']]\n",
    "print(srt2.to_string())\"\"\""
   ]
  },
  {
   "cell_type": "markdown",
   "metadata": {},
   "source": [
    "Task:\n",
    "Suppose that A Person have 20000$ in his wallet and he want to buy a car ..\n",
    "\n",
    "Perform some steps on the given Dataset, you have to recommend him Car Model List with Color, which suit him in his budget .. \n",
    "\n",
    "Check for these Ranges (10000-15000, 15000-20000)\n",
    "\n",
    "USE GROUP BY And Filter Function and Sort Function"
   ]
  },
  {
   "cell_type": "code",
   "execution_count": null,
   "metadata": {},
   "outputs": [],
   "source": [
    "\n",
    "import pandas as pd\n",
    "Car=pd.read_csv('car-sales-extended.csv')\n",
    "filter_1=Car[(Car['Price']>=10000) & (Car['Price']<=15000 )]\n",
    "filter_2=Car[(Car['Price']>=15000) & (Car['Price']<=20000)]\n",
    "combine=pd.concat([filter_1,filter_2])\n",
    "final=combine.filter(items=['Make','Price','Colour'],axis=1)\n",
    "final_sort=final.sort_values(by='Price')\n",
    "print(final_sort)\n"
   ]
  },
  {
   "cell_type": "code",
   "execution_count": null,
   "metadata": {},
   "outputs": [],
   "source": [
    "\n"
   ]
  }
 ],
 "metadata": {
  "kernelspec": {
   "display_name": "Python 3",
   "language": "python",
   "name": "python3"
  },
  "language_info": {
   "codemirror_mode": {
    "name": "ipython",
    "version": 3
   },
   "file_extension": ".py",
   "mimetype": "text/x-python",
   "name": "python",
   "nbconvert_exporter": "python",
   "pygments_lexer": "ipython3",
   "version": "3.12.4"
  }
 },
 "nbformat": 4,
 "nbformat_minor": 2
}
