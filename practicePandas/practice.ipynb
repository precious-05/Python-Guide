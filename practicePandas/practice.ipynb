{
 "cells": [
  {
   "cell_type": "code",
   "execution_count": null,
   "metadata": {},
   "outputs": [],
   "source": [
    "import pandas as pd # type : ignore\n",
    "dataset='Thyroid_Diff.csv'\n",
    "Thyroid=pd.read_csv(dataset)"
   ]
  },
  {
   "cell_type": "code",
   "execution_count": null,
   "metadata": {},
   "outputs": [],
   "source": [
    "print(Thyroid.to_string())"
   ]
  },
  {
   "cell_type": "code",
   "execution_count": null,
   "metadata": {},
   "outputs": [],
   "source": [
    "Thyroid['patient_id']=20\n",
    "print(Thyroid.to_string())"
   ]
  },
  {
   "cell_type": "code",
   "execution_count": null,
   "metadata": {},
   "outputs": [],
   "source": [
    "List=[]\n",
    "for id in range(1150,1150+50*len(Thyroid),50):\n",
    "    List.append(id)\n",
    "Thyroid['patient_id']=List "
   ]
  },
  {
   "cell_type": "code",
   "execution_count": null,
   "metadata": {},
   "outputs": [],
   "source": [
    "#if inplace is true it modifies an existing dataframe and returns nothing so no need to assign it to any variable\n",
    "# if inplace is False it returns a copy of dataframe object with performed operations without modifying existing dataframe\n",
    "\n",
    "Thyroid.set_index('patient_id',inplace=True)\n",
    "#Thyroid=Thyroid.set_index('patient_id',inplace=False)\n",
    "#Thyroid2=Thyroid.set_index('patient_id',inplace=False)\n",
    "\n",
    "#It returns the copy of DataFrame object with performed operations without modifying the existing DataFrame\n",
    "#Thats why it is needed to assign to original dataframe or we can assign it to a new variable \n",
    "#By default inplace=False\n",
    "\n",
    "print(Thyroid.to_string())"
   ]
  },
  {
   "cell_type": "code",
   "execution_count": null,
   "metadata": {},
   "outputs": [],
   "source": [
    "Thyroid.head(25)"
   ]
  },
  {
   "cell_type": "code",
   "execution_count": null,
   "metadata": {},
   "outputs": [],
   "source": [
    "Thyroid.tail(10)"
   ]
  },
  {
   "cell_type": "code",
   "execution_count": null,
   "metadata": {},
   "outputs": [],
   "source": [
    "len(Thyroid.index)\n",
    "#len(Thyroid)"
   ]
  },
  {
   "cell_type": "code",
   "execution_count": null,
   "metadata": {},
   "outputs": [],
   "source": [
    "Thyroid.index.size"
   ]
  },
  {
   "cell_type": "code",
   "execution_count": null,
   "metadata": {},
   "outputs": [],
   "source": [
    "Thyroid.columns.size"
   ]
  },
  {
   "cell_type": "code",
   "execution_count": null,
   "metadata": {},
   "outputs": [],
   "source": [
    "print(Thyroid.index.to_list())\n",
    "#.tolist(): Converts the Index object to a regular Python list if we want a list format.\n",
    " #If we just want to print the column/row names directly, we can use df.columns without .tolist().\n",
    "  #.tolist() is used to convert pandas objects (like Index/Rows, Series, or columns) into Python lists.\n",
    "   #It helps in making data compatible with other parts of a Python program, simplifies manipulation, and improves readability and debugging."
   ]
  },
  {
   "cell_type": "code",
   "execution_count": null,
   "metadata": {},
   "outputs": [],
   "source": [
    "Thyroid.columns.to_list()\n",
    "#to list method converts the python objects such as series , columns, rows/index into regular python list\n"
   ]
  },
  {
   "cell_type": "code",
   "execution_count": null,
   "metadata": {},
   "outputs": [],
   "source": [
    "print(Thyroid.shape[0])\n",
    "print(Thyroid.shape[1])\n",
    "print(Thyroid.shape)\n",
    "\n",
    "#In NumPy, shape is an attribute of an array that returns a tuple. This tuple contains the sizes of each dimension of the array. \n",
    "#For example, if you have a 2D array with 3 rows and 4 columns, shape would be (3, 4), which is a tuple.\n",
    "#For a Series, shape gives a tuple with a single element (number of elements)."
   ]
  },
  {
   "cell_type": "code",
   "execution_count": null,
   "metadata": {},
   "outputs": [],
   "source": [
    "Thyroid.index[2]"
   ]
  },
  {
   "cell_type": "code",
   "execution_count": null,
   "metadata": {},
   "outputs": [],
   "source": [
    "Thyroid['Focality'].index[1]\n",
    "\n",
    "#The 1st row index in the Focality column of thyroid dataset"
   ]
  },
  {
   "cell_type": "code",
   "execution_count": null,
   "metadata": {},
   "outputs": [],
   "source": [
    "#Example to understand the shape\n",
    "#Remember the shape attribute used in numpy shape,re_shape  :)\n",
    "data={\n",
    "    'Name':\"Alina\",\n",
    "    'Age': 19\n",
    "}\n",
    "\n",
    "ser=pd.Series(data)\n",
    "print(ser.shape[0])\n",
    "print()\n",
    "print()\n",
    "print(ser.shape)"
   ]
  },
  {
   "cell_type": "code",
   "execution_count": null,
   "metadata": {},
   "outputs": [],
   "source": [
    "Thyroid.count()"
   ]
  },
  {
   "cell_type": "code",
   "execution_count": 80,
   "metadata": {},
   "outputs": [
    {
     "data": {
      "text/plain": [
       "np.int64(383)"
      ]
     },
     "execution_count": 80,
     "metadata": {},
     "output_type": "execute_result"
    }
   ],
   "source": [
    "Thyroid['Age'].count()"
   ]
  },
  {
   "cell_type": "code",
   "execution_count": 84,
   "metadata": {},
   "outputs": [
    {
     "data": {
      "text/plain": [
       "Age                     383\n",
       "Gender                  383\n",
       "Smoking                 383\n",
       "Hx Smoking              383\n",
       "Hx Radiothreapy         383\n",
       "Thyroid Function        383\n",
       "Physical Examination    383\n",
       "Adenopathy              383\n",
       "Pathology               383\n",
       "Focality                383\n",
       "Risk                    383\n",
       "T                       383\n",
       "N                       383\n",
       "M                       383\n",
       "Stage                   383\n",
       "Response                383\n",
       "Recurred                383\n",
       "dtype: int64"
      ]
     },
     "execution_count": 84,
     "metadata": {},
     "output_type": "execute_result"
    }
   ],
   "source": [
    "Thyroid.count()"
   ]
  },
  {
   "cell_type": "code",
   "execution_count": 88,
   "metadata": {},
   "outputs": [
    {
     "name": "stdout",
     "output_type": "stream",
     "text": [
      "Age\n",
      "31    22\n",
      "27    13\n",
      "30    12\n",
      "33    12\n",
      "40    12\n",
      "26    12\n",
      "35    12\n",
      "28    12\n",
      "29    11\n",
      "34    11\n",
      "38    11\n",
      "51    10\n",
      "62    10\n",
      "37    10\n",
      "32    10\n",
      "21     9\n",
      "36     9\n",
      "42     9\n",
      "41     9\n",
      "44     9\n",
      "24     8\n",
      "56     8\n",
      "52     8\n",
      "45     7\n",
      "25     7\n",
      "67     7\n",
      "23     6\n",
      "22     6\n",
      "43     6\n",
      "20     6\n",
      "60     6\n",
      "50     6\n",
      "46     5\n",
      "49     4\n",
      "55     4\n",
      "48     4\n",
      "63     4\n",
      "80     3\n",
      "58     3\n",
      "53     3\n",
      "59     3\n",
      "17     3\n",
      "61     3\n",
      "73     3\n",
      "68     3\n",
      "72     3\n",
      "54     3\n",
      "75     2\n",
      "70     2\n",
      "39     2\n",
      "81     2\n",
      "57     2\n",
      "71     2\n",
      "19     2\n",
      "47     2\n",
      "76     1\n",
      "69     1\n",
      "66     1\n",
      "18     1\n",
      "65     1\n",
      "79     1\n",
      "15     1\n",
      "82     1\n",
      "64     1\n",
      "78     1\n"
     ]
    }
   ],
   "source": [
    "print(Thyroid['Age'].value_counts().to_string())"
   ]
  },
  {
   "cell_type": "code",
   "execution_count": 85,
   "metadata": {},
   "outputs": [
    {
     "data": {
      "text/plain": [
       "Age                     65\n",
       "Gender                   2\n",
       "Smoking                  2\n",
       "Hx Smoking               2\n",
       "Hx Radiothreapy          2\n",
       "Thyroid Function         5\n",
       "Physical Examination     5\n",
       "Adenopathy               6\n",
       "Pathology                4\n",
       "Focality                 2\n",
       "Risk                     3\n",
       "T                        7\n",
       "N                        3\n",
       "M                        2\n",
       "Stage                    5\n",
       "Response                 4\n",
       "Recurred                 2\n",
       "dtype: int64"
      ]
     },
     "execution_count": 85,
     "metadata": {},
     "output_type": "execute_result"
    }
   ],
   "source": [
    "#count(): Can be used on both DataFrames and Series. For DataFrames, it returns counts of non-null values for each column or row. \n",
    "# For Series, it returns the count of non-null values.\n",
    "#value_counts(): Used only on Series to return a Series with the counts of unique values.\n",
    "\n",
    "Thyroid.nunique()"
   ]
  },
  {
   "cell_type": "code",
   "execution_count": 86,
   "metadata": {},
   "outputs": [
    {
     "data": {
      "text/plain": [
       "65"
      ]
     },
     "execution_count": 86,
     "metadata": {},
     "output_type": "execute_result"
    }
   ],
   "source": [
    "Thyroid['Age'].nunique()"
   ]
  },
  {
   "cell_type": "markdown",
   "metadata": {},
   "source": [
    "## nunique() tells you how many distinct values are in the column, while value_counts() tells you the frequency of each unique value.\n",
    "\n",
    "### Remove Confusions directly in this part"
   ]
  },
  {
   "cell_type": "code",
   "execution_count": 92,
   "metadata": {},
   "outputs": [
    {
     "name": "stdout",
     "output_type": "stream",
     "text": [
      "Age                     65\n",
      "Gender                   2\n",
      "Smoking                  2\n",
      "Hx Smoking               2\n",
      "Hx Radiothreapy          2\n",
      "Thyroid Function         5\n",
      "Physical Examination     5\n",
      "Adenopathy               6\n",
      "Pathology                4\n",
      "Focality                 2\n",
      "Risk                     3\n",
      "T                        7\n",
      "N                        3\n",
      "M                        2\n",
      "Stage                    5\n",
      "Response                 4\n",
      "Recurred                 2\n",
      "dtype: int64\n",
      "\n",
      "\n",
      "\n",
      "\n",
      "Age  Gender  Smoking  Hx Smoking  Hx Radiothreapy  Thyroid Function             Physical Examination         Adenopathy  Pathology       Focality     Risk          T    N    M   Stage  Response       Recurred\n",
      "26   F       No       No          No               Euthyroid                    Multinodular goiter          No          Papillary       Uni-Focal    Low           T2   N0   M0  I      Excellent      No          4\n",
      "32   F       No       No          No               Euthyroid                    Single nodular goiter-right  No          Papillary       Uni-Focal    Low           T2   N0   M0  I      Excellent      No          3\n",
      "36   F       No       No          No               Euthyroid                    Single nodular goiter-right  No          Micropapillary  Uni-Focal    Low           T1a  N0   M0  I      Excellent      No          2\n",
      "29   F       No       No          No               Euthyroid                    Single nodular goiter-right  No          Papillary       Uni-Focal    Low           T1b  N0   M0  I      Excellent      No          2\n",
      "35   F       No       No          No               Euthyroid                    Single nodular goiter-right  No          Papillary       Uni-Focal    Low           T1b  N0   M0  I      Excellent      No          2\n",
      "                                                                                                                                                                                                                   ..\n",
      "20   F       No       No          No               Euthyroid                    Single nodular goiter-right  No          Micropapillary  Uni-Focal    Low           T1a  N0   M0  I      Excellent      No          1\n",
      "22   F       No       No          No               Subclinical Hyperthyroidism  Single nodular goiter-right  No          Papillary       Uni-Focal    Low           T1b  N0   M0  I      Excellent      No          1\n",
      "     M       No       No          No               Euthyroid                    Multinodular goiter          No          Papillary       Multi-Focal  Low           T1b  N0   M0  I      Excellent      No          1\n",
      "23   F       No       No          No               Clinical Hyperthyroidism     Single nodular goiter-left   No          Papillary       Uni-Focal    Low           T1b  N0   M0  I      Excellent      No          1\n",
      "17   F       No       No          No               Euthyroid                    Multinodular goiter          Right       Papillary       Uni-Focal    Intermediate  T2   N1b  M0  I      Indeterminate  No          1\n",
      "Name: count, Length: 364, dtype: int64\n"
     ]
    }
   ],
   "source": [
    "print(Thyroid.nunique())\n",
    "print()\n",
    "print()\n",
    "print()\n",
    "print()\n",
    "print(Thyroid.value_counts())"
   ]
  },
  {
   "cell_type": "code",
   "execution_count": 95,
   "metadata": {},
   "outputs": [
    {
     "name": "stdout",
     "output_type": "stream",
     "text": [
      "65\n",
      "\n",
      "\n",
      "\n",
      "\n",
      "65\n",
      "\n",
      "\n",
      "\n",
      "\n",
      "Age\n",
      "31    22\n",
      "27    13\n",
      "30    12\n",
      "33    12\n",
      "40    12\n",
      "      ..\n",
      "79     1\n",
      "15     1\n",
      "82     1\n",
      "64     1\n",
      "78     1\n",
      "Name: count, Length: 65, dtype: int64\n"
     ]
    }
   ],
   "source": [
    "print(Thyroid.Age.nunique())\n",
    "print()\n",
    "print()\n",
    "print()\n",
    "print()\n",
    "\n",
    "print(len(Thyroid.Age.value_counts()))\n",
    "\n",
    "print()\n",
    "print()\n",
    "print()\n",
    "print()\n",
    "\n",
    "\n",
    "print(Thyroid.Age.value_counts())"
   ]
  }
 ],
 "metadata": {
  "kernelspec": {
   "display_name": "Python 3",
   "language": "python",
   "name": "python3"
  },
  "language_info": {
   "codemirror_mode": {
    "name": "ipython",
    "version": 3
   },
   "file_extension": ".py",
   "mimetype": "text/x-python",
   "name": "python",
   "nbconvert_exporter": "python",
   "pygments_lexer": "ipython3",
   "version": "3.12.4"
  }
 },
 "nbformat": 4,
 "nbformat_minor": 2
}
