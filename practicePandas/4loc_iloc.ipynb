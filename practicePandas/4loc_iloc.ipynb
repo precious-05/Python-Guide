{
 "cells": [
  {
   "cell_type": "code",
   "execution_count": null,
   "metadata": {},
   "outputs": [],
   "source": [
    "import pandas as pd\n",
    "data=pd.read_csv('car-sales-extended.csv')\n",
    "data"
   ]
  },
  {
   "cell_type": "code",
   "execution_count": null,
   "metadata": {},
   "outputs": [],
   "source": [
    "data.set_index('Make',inplace=True)\n",
    "data"
   ]
  },
  {
   "cell_type": "markdown",
   "metadata": {},
   "source": [
    "#### _Accessing columns without loc/iloc_"
   ]
  },
  {
   "cell_type": "code",
   "execution_count": null,
   "metadata": {},
   "outputs": [],
   "source": [
    "print(data.Colour)\n",
    "print()\n",
    "print()\n",
    "print(data[['Doors','Colour']])"
   ]
  },
  {
   "cell_type": "code",
   "execution_count": null,
   "metadata": {},
   "outputs": [],
   "source": [
    "print(data['Colour']['Toyota'])\n",
    "          #Key:Value\n",
    "print()\n",
    "print()\n",
    "print(data['Colour'][['BMW','Toyota']])\n",
    "        #Key:Values"
   ]
  },
  {
   "cell_type": "markdown",
   "metadata": {},
   "source": [
    "- We have seen the following\n",
    "- How to access the value of a Single column\n",
    "- How to access the values of multiple columns\n",
    "\n",
    " **'We have not discussed about accessing the rows anywhere'**\n",
    " - we use loc/iloc for accessing the rows and columns\n",
    "\n",
    "#### Example\n",
    " - Access a single row by label\n",
    "   - row = data.loc['row_label']\n",
    "\n",
    "- Access multiple rows by labels\n",
    "  - rows = data.loc[['label1', 'label2']]\n",
    "\n",
    "- Access specific rows and columns by label\n",
    "  - specific_data = data.loc['row_label', 'column_name']\n"
   ]
  },
  {
   "cell_type": "code",
   "execution_count": null,
   "metadata": {},
   "outputs": [],
   "source": [
    "#Df.loc[startRow:endRow,startColoum:endColumn]\n",
    "#print(data['Honda'])  This will give error bcz accessing the rows without loc\n",
    "#print(data.loc['Honda'])\n",
    "print(data.loc[['Honda','BMW']])"
   ]
  },
  {
   "cell_type": "markdown",
   "metadata": {},
   "source": [
    "#### Example without using .loc"
   ]
  },
  {
   "cell_type": "code",
   "execution_count": null,
   "metadata": {},
   "outputs": [],
   "source": [
    "\n",
    "# Create a DataFrame\n",
    "data = {\n",
    "    \"Prices\": [1000, 200000, 400000, 666000, 376666],\n",
    "    \"Sales\": [100, 200, 400, 666, 376]\n",
    "}\n",
    "df = pd.DataFrame(data, index=['A', 'B', 'C', 'D', 'E'])\n",
    "\n",
    "# Filter rows where Prices are greater than 100000\n",
    "filtered_df = df[df['Prices'] > 100000]\n",
    "print(\"Filtered rows without .loc:\")\n",
    "print(filtered_df)\n"
   ]
  },
  {
   "cell_type": "markdown",
   "metadata": {},
   "source": [
    "#### Example using .loc"
   ]
  },
  {
   "cell_type": "code",
   "execution_count": null,
   "metadata": {},
   "outputs": [],
   "source": [
    "import pandas as pd\n",
    "\n",
    "# Create a DataFrame\n",
    "data = {\n",
    "    \"Prices\": [1000, 200000, 400000, 666000, 376666],\n",
    "    \"Sales\": [100, 200, 400, 666, 376]\n",
    "}\n",
    "df = pd.DataFrame(data, index=['A', 'B', 'C', 'D', 'E'])\n",
    "\n",
    "# Filter rows where Prices are greater than 100000 and select only the 'Sales' column\n",
    "filtered_df = df.loc[df['Prices'] > 100000, 'Sales']\n",
    "print(\"Filtered rows with .loc, selecting only 'Sales' column:\")\n",
    "print(filtered_df)\n"
   ]
  }
 ],
 "metadata": {
  "kernelspec": {
   "display_name": "Python 3",
   "language": "python",
   "name": "python3"
  },
  "language_info": {
   "codemirror_mode": {
    "name": "ipython",
    "version": 3
   },
   "file_extension": ".py",
   "mimetype": "text/x-python",
   "name": "python",
   "nbconvert_exporter": "python",
   "pygments_lexer": "ipython3",
   "version": "3.12.4"
  }
 },
 "nbformat": 4,
 "nbformat_minor": 2
}
