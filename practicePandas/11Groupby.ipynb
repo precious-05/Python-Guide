{
 "cells": [
  {
   "cell_type": "code",
   "execution_count": null,
   "metadata": {},
   "outputs": [],
   "source": [
    "# Groupby is gonna group togethar the values in a column and display them all on the same row and it allows to perform aggregate function on those groupings\n",
    "import pandas as pd\n",
    "df=pd.read_csv('Flavors.csv')\n",
    "df"
   ]
  },
  {
   "cell_type": "code",
   "execution_count": null,
   "metadata": {},
   "outputs": [],
   "source": [
    "# As the Flavor has all the unique values so we are not grouping on its basis\n",
    "group_by_frame=df.groupby('Base Flavor').mean(numeric_only=True)\n",
    "group_by_frame"
   ]
  },
  {
   "cell_type": "code",
   "execution_count": null,
   "metadata": {},
   "outputs": [],
   "source": [
    "group_by_frame=df.groupby('Base Flavor').sum(numeric_only=True)\n",
    "group_by_frame"
   ]
  },
  {
   "cell_type": "code",
   "execution_count": null,
   "metadata": {},
   "outputs": [],
   "source": [
    "group_by_frame=df.groupby('Base Flavor').count()\n",
    "group_by_frame"
   ]
  },
  {
   "cell_type": "code",
   "execution_count": null,
   "metadata": {},
   "outputs": [],
   "source": [
    "group_by_frame=df.groupby('Base Flavor').min()\n",
    "group_by_frame"
   ]
  },
  {
   "cell_type": "code",
   "execution_count": null,
   "metadata": {},
   "outputs": [],
   "source": [
    "group_by_frame=df.groupby('Base Flavor').max()\n",
    "group_by_frame"
   ]
  },
  {
   "cell_type": "code",
   "execution_count": null,
   "metadata": {},
   "outputs": [],
   "source": [
    "group_by_frame=df.groupby('Base Flavor').agg({'Flavor Rating':['mean','max','count','sum']})\n",
    "group_by_frame"
   ]
  },
  {
   "cell_type": "code",
   "execution_count": null,
   "metadata": {},
   "outputs": [],
   "source": [
    "group_by_frame=df.groupby('Base Flavor').agg({'Flavor Rating':['mean','max','count','sum'], \"Texture Rating\":['mean','max','count','sum']})\n",
    "group_by_frame"
   ]
  },
  {
   "cell_type": "markdown",
   "metadata": {},
   "source": [
    "#### Grouping on multiple columns"
   ]
  },
  {
   "cell_type": "code",
   "execution_count": null,
   "metadata": {},
   "outputs": [],
   "source": [
    "df"
   ]
  },
  {
   "cell_type": "code",
   "execution_count": null,
   "metadata": {},
   "outputs": [],
   "source": [
    "df.groupby(['Base Flavor','Liked']).mean(numeric_only=True)"
   ]
  },
  {
   "cell_type": "code",
   "execution_count": null,
   "metadata": {},
   "outputs": [],
   "source": [
    "df.groupby(['Base Flavor','Liked']).agg({'Flavor Rating':['mean','max','count','sum'], \"Texture Rating\":['mean','max','count','sum']})"
   ]
  },
  {
   "cell_type": "code",
   "execution_count": null,
   "metadata": {},
   "outputs": [],
   "source": [
    "df.groupby('Base Flavor').describe() # It is just a generalized function showing summary"
   ]
  },
  {
   "cell_type": "markdown",
   "metadata": {},
   "source": [
    "### _Practice Groupby_"
   ]
  },
  {
   "cell_type": "code",
   "execution_count": 6,
   "metadata": {},
   "outputs": [
    {
     "data": {
      "text/html": [
       "<div>\n",
       "<style scoped>\n",
       "    .dataframe tbody tr th:only-of-type {\n",
       "        vertical-align: middle;\n",
       "    }\n",
       "\n",
       "    .dataframe tbody tr th {\n",
       "        vertical-align: top;\n",
       "    }\n",
       "\n",
       "    .dataframe thead th {\n",
       "        text-align: right;\n",
       "    }\n",
       "</style>\n",
       "<table border=\"1\" class=\"dataframe\">\n",
       "  <thead>\n",
       "    <tr style=\"text-align: right;\">\n",
       "      <th></th>\n",
       "      <th>Rank</th>\n",
       "      <th>Peak</th>\n",
       "      <th>Title</th>\n",
       "      <th>video_game</th>\n",
       "      <th>game_pub</th>\n",
       "      <th>Date</th>\n",
       "      <th>gross</th>\n",
       "      <th>Distributor</th>\n",
       "      <th>Format</th>\n",
       "    </tr>\n",
       "  </thead>\n",
       "  <tbody>\n",
       "    <tr>\n",
       "      <th>0</th>\n",
       "      <td>1</td>\n",
       "      <td>1</td>\n",
       "      <td>Warcraft</td>\n",
       "      <td>Warcraft</td>\n",
       "      <td>Blizzard Entertainment</td>\n",
       "      <td>2016-06-10</td>\n",
       "      <td>439048914</td>\n",
       "      <td>Universal Pictures</td>\n",
       "      <td>Live-action</td>\n",
       "    </tr>\n",
       "    <tr>\n",
       "      <th>1</th>\n",
       "      <td>2</td>\n",
       "      <td>2</td>\n",
       "      <td>Detective Pikachu</td>\n",
       "      <td>Detective Pikachu and Pokémon</td>\n",
       "      <td>Nintendo, The Pokémon Company</td>\n",
       "      <td>2019-05-10</td>\n",
       "      <td>433230304</td>\n",
       "      <td>Warner Bros. Pictures</td>\n",
       "      <td>Live-action/animated</td>\n",
       "    </tr>\n",
       "    <tr>\n",
       "      <th>2</th>\n",
       "      <td>3</td>\n",
       "      <td>2</td>\n",
       "      <td>Rampage</td>\n",
       "      <td>Rampage</td>\n",
       "      <td>Midway Games</td>\n",
       "      <td>2018-04-13</td>\n",
       "      <td>428028233</td>\n",
       "      <td>Warner Bros. Pictures</td>\n",
       "      <td>Live-action</td>\n",
       "    </tr>\n",
       "    <tr>\n",
       "      <th>3</th>\n",
       "      <td>4</td>\n",
       "      <td>4</td>\n",
       "      <td>Sonic the Hedgehog 2</td>\n",
       "      <td>Sonic the Hedgehog</td>\n",
       "      <td>Sega</td>\n",
       "      <td>2022-04-08</td>\n",
       "      <td>404372904</td>\n",
       "      <td>Paramount Pictures</td>\n",
       "      <td>Live-action/animated</td>\n",
       "    </tr>\n",
       "    <tr>\n",
       "      <th>4</th>\n",
       "      <td>5</td>\n",
       "      <td>4</td>\n",
       "      <td>Uncharted</td>\n",
       "      <td>Uncharted</td>\n",
       "      <td>Sony Interactive Entertainment</td>\n",
       "      <td>2022-02-18</td>\n",
       "      <td>401748820</td>\n",
       "      <td>Sony Pictures Releasing</td>\n",
       "      <td>Live-action</td>\n",
       "    </tr>\n",
       "  </tbody>\n",
       "</table>\n",
       "</div>"
      ],
      "text/plain": [
       "   Rank  Peak                 Title                     video_game  \\\n",
       "0     1     1              Warcraft                       Warcraft   \n",
       "1     2     2     Detective Pikachu  Detective Pikachu and Pokémon   \n",
       "2     3     2               Rampage                        Rampage   \n",
       "3     4     4  Sonic the Hedgehog 2             Sonic the Hedgehog   \n",
       "4     5     4             Uncharted                      Uncharted   \n",
       "\n",
       "                         game_pub        Date      gross  \\\n",
       "0          Blizzard Entertainment  2016-06-10  439048914   \n",
       "1   Nintendo, The Pokémon Company  2019-05-10  433230304   \n",
       "2                    Midway Games  2018-04-13  428028233   \n",
       "3                            Sega  2022-04-08  404372904   \n",
       "4  Sony Interactive Entertainment  2022-02-18  401748820   \n",
       "\n",
       "               Distributor                Format  \n",
       "0       Universal Pictures           Live-action  \n",
       "1    Warner Bros. Pictures  Live-action/animated  \n",
       "2    Warner Bros. Pictures           Live-action  \n",
       "3       Paramount Pictures  Live-action/animated  \n",
       "4  Sony Pictures Releasing           Live-action  "
      ]
     },
     "execution_count": 6,
     "metadata": {},
     "output_type": "execute_result"
    }
   ],
   "source": [
    "import pandas as pd\n",
    "df2=pd.read_csv('highest_gross_video_game_films.csv')\n",
    "df2.head()\n"
   ]
  },
  {
   "cell_type": "code",
   "execution_count": 11,
   "metadata": {},
   "outputs": [
    {
     "data": {
      "text/html": [
       "<div>\n",
       "<style scoped>\n",
       "    .dataframe tbody tr th:only-of-type {\n",
       "        vertical-align: middle;\n",
       "    }\n",
       "\n",
       "    .dataframe tbody tr th {\n",
       "        vertical-align: top;\n",
       "    }\n",
       "\n",
       "    .dataframe thead th {\n",
       "        text-align: right;\n",
       "    }\n",
       "</style>\n",
       "<table border=\"1\" class=\"dataframe\">\n",
       "  <thead>\n",
       "    <tr style=\"text-align: right;\">\n",
       "      <th></th>\n",
       "      <th>Rank</th>\n",
       "      <th>Peak</th>\n",
       "      <th>Title</th>\n",
       "      <th>video_game</th>\n",
       "      <th>game_pub</th>\n",
       "      <th>Date</th>\n",
       "      <th>gross</th>\n",
       "      <th>Distributor</th>\n",
       "      <th>Format</th>\n",
       "      <th>Year</th>\n",
       "      <th>Month</th>\n",
       "    </tr>\n",
       "  </thead>\n",
       "  <tbody>\n",
       "    <tr>\n",
       "      <th>0</th>\n",
       "      <td>1</td>\n",
       "      <td>1</td>\n",
       "      <td>Warcraft</td>\n",
       "      <td>Warcraft</td>\n",
       "      <td>Blizzard Entertainment</td>\n",
       "      <td>10</td>\n",
       "      <td>439048914</td>\n",
       "      <td>Universal Pictures</td>\n",
       "      <td>Live-action</td>\n",
       "      <td>2016</td>\n",
       "      <td>06</td>\n",
       "    </tr>\n",
       "    <tr>\n",
       "      <th>1</th>\n",
       "      <td>2</td>\n",
       "      <td>2</td>\n",
       "      <td>Detective Pikachu</td>\n",
       "      <td>Detective Pikachu and Pokémon</td>\n",
       "      <td>Nintendo, The Pokémon Company</td>\n",
       "      <td>10</td>\n",
       "      <td>433230304</td>\n",
       "      <td>Warner Bros. Pictures</td>\n",
       "      <td>Live-action/animated</td>\n",
       "      <td>2019</td>\n",
       "      <td>05</td>\n",
       "    </tr>\n",
       "    <tr>\n",
       "      <th>2</th>\n",
       "      <td>3</td>\n",
       "      <td>2</td>\n",
       "      <td>Rampage</td>\n",
       "      <td>Rampage</td>\n",
       "      <td>Midway Games</td>\n",
       "      <td>13</td>\n",
       "      <td>428028233</td>\n",
       "      <td>Warner Bros. Pictures</td>\n",
       "      <td>Live-action</td>\n",
       "      <td>2018</td>\n",
       "      <td>04</td>\n",
       "    </tr>\n",
       "    <tr>\n",
       "      <th>3</th>\n",
       "      <td>4</td>\n",
       "      <td>4</td>\n",
       "      <td>Sonic the Hedgehog 2</td>\n",
       "      <td>Sonic the Hedgehog</td>\n",
       "      <td>Sega</td>\n",
       "      <td>08</td>\n",
       "      <td>404372904</td>\n",
       "      <td>Paramount Pictures</td>\n",
       "      <td>Live-action/animated</td>\n",
       "      <td>2022</td>\n",
       "      <td>04</td>\n",
       "    </tr>\n",
       "    <tr>\n",
       "      <th>4</th>\n",
       "      <td>5</td>\n",
       "      <td>4</td>\n",
       "      <td>Uncharted</td>\n",
       "      <td>Uncharted</td>\n",
       "      <td>Sony Interactive Entertainment</td>\n",
       "      <td>18</td>\n",
       "      <td>401748820</td>\n",
       "      <td>Sony Pictures Releasing</td>\n",
       "      <td>Live-action</td>\n",
       "      <td>2022</td>\n",
       "      <td>02</td>\n",
       "    </tr>\n",
       "  </tbody>\n",
       "</table>\n",
       "</div>"
      ],
      "text/plain": [
       "   Rank  Peak                 Title                     video_game  \\\n",
       "0     1     1              Warcraft                       Warcraft   \n",
       "1     2     2     Detective Pikachu  Detective Pikachu and Pokémon   \n",
       "2     3     2               Rampage                        Rampage   \n",
       "3     4     4  Sonic the Hedgehog 2             Sonic the Hedgehog   \n",
       "4     5     4             Uncharted                      Uncharted   \n",
       "\n",
       "                         game_pub Date      gross              Distributor  \\\n",
       "0          Blizzard Entertainment   10  439048914       Universal Pictures   \n",
       "1   Nintendo, The Pokémon Company   10  433230304    Warner Bros. Pictures   \n",
       "2                    Midway Games   13  428028233    Warner Bros. Pictures   \n",
       "3                            Sega   08  404372904       Paramount Pictures   \n",
       "4  Sony Interactive Entertainment   18  401748820  Sony Pictures Releasing   \n",
       "\n",
       "                 Format  Year Month  \n",
       "0           Live-action  2016    06  \n",
       "1  Live-action/animated  2019    05  \n",
       "2           Live-action  2018    04  \n",
       "3  Live-action/animated  2022    04  \n",
       "4           Live-action  2022    02  "
      ]
     },
     "execution_count": 11,
     "metadata": {},
     "output_type": "execute_result"
    }
   ],
   "source": [
    "df2[['Year','Month','Date']]=df2['Date'].str.split('-',n=2,expand=True)\n",
    "df2.head()"
   ]
  }
 ],
 "metadata": {
  "kernelspec": {
   "display_name": "Python 3",
   "language": "python",
   "name": "python3"
  },
  "language_info": {
   "codemirror_mode": {
    "name": "ipython",
    "version": 3
   },
   "file_extension": ".py",
   "mimetype": "text/x-python",
   "name": "python",
   "nbconvert_exporter": "python",
   "pygments_lexer": "ipython3",
   "version": "3.12.4"
  }
 },
 "nbformat": 4,
 "nbformat_minor": 2
}
