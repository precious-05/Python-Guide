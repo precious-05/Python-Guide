{
 "cells": [
  {
   "cell_type": "code",
   "execution_count": 402,
   "metadata": {},
   "outputs": [
    {
     "data": {
      "text/html": [
       "<div>\n",
       "<style scoped>\n",
       "    .dataframe tbody tr th:only-of-type {\n",
       "        vertical-align: middle;\n",
       "    }\n",
       "\n",
       "    .dataframe tbody tr th {\n",
       "        vertical-align: top;\n",
       "    }\n",
       "\n",
       "    .dataframe thead th {\n",
       "        text-align: right;\n",
       "    }\n",
       "</style>\n",
       "<table border=\"1\" class=\"dataframe\">\n",
       "  <thead>\n",
       "    <tr style=\"text-align: right;\">\n",
       "      <th></th>\n",
       "      <th>Rank</th>\n",
       "      <th>Peak</th>\n",
       "      <th>Title</th>\n",
       "      <th>video_game</th>\n",
       "      <th>game_pub</th>\n",
       "      <th>Date</th>\n",
       "      <th>gross</th>\n",
       "      <th>Distributor</th>\n",
       "      <th>Format</th>\n",
       "    </tr>\n",
       "  </thead>\n",
       "  <tbody>\n",
       "    <tr>\n",
       "      <th>0</th>\n",
       "      <td>1</td>\n",
       "      <td>1</td>\n",
       "      <td>Warcraft</td>\n",
       "      <td>Warcraft</td>\n",
       "      <td>Blizzard Entertainment</td>\n",
       "      <td>2016-06-10</td>\n",
       "      <td>439048914</td>\n",
       "      <td>Universal Pictures</td>\n",
       "      <td>Live-action</td>\n",
       "    </tr>\n",
       "    <tr>\n",
       "      <th>1</th>\n",
       "      <td>2</td>\n",
       "      <td>2</td>\n",
       "      <td>Detective Pikachu</td>\n",
       "      <td>Detective Pikachu and Pokémon</td>\n",
       "      <td>Nintendo, The Pokémon Company</td>\n",
       "      <td>2019-05-10</td>\n",
       "      <td>433230304</td>\n",
       "      <td>Warner Bros. Pictures</td>\n",
       "      <td>Live-action/animated</td>\n",
       "    </tr>\n",
       "    <tr>\n",
       "      <th>2</th>\n",
       "      <td>3</td>\n",
       "      <td>2</td>\n",
       "      <td>Rampage</td>\n",
       "      <td>Rampage</td>\n",
       "      <td>Midway Games</td>\n",
       "      <td>2018-04-13</td>\n",
       "      <td>428028233</td>\n",
       "      <td>Warner Bros. Pictures</td>\n",
       "      <td>Live-action</td>\n",
       "    </tr>\n",
       "    <tr>\n",
       "      <th>3</th>\n",
       "      <td>4</td>\n",
       "      <td>4</td>\n",
       "      <td>Sonic the Hedgehog 2</td>\n",
       "      <td>Sonic the Hedgehog</td>\n",
       "      <td>Sega</td>\n",
       "      <td>2022-04-08</td>\n",
       "      <td>404372904</td>\n",
       "      <td>Paramount Pictures</td>\n",
       "      <td>Live-action/animated</td>\n",
       "    </tr>\n",
       "    <tr>\n",
       "      <th>4</th>\n",
       "      <td>5</td>\n",
       "      <td>4</td>\n",
       "      <td>Uncharted</td>\n",
       "      <td>Uncharted</td>\n",
       "      <td>Sony Interactive Entertainment</td>\n",
       "      <td>2022-02-18</td>\n",
       "      <td>401748820</td>\n",
       "      <td>Sony Pictures Releasing</td>\n",
       "      <td>Live-action</td>\n",
       "    </tr>\n",
       "  </tbody>\n",
       "</table>\n",
       "</div>"
      ],
      "text/plain": [
       "   Rank  Peak                 Title                     video_game  \\\n",
       "0     1     1              Warcraft                       Warcraft   \n",
       "1     2     2     Detective Pikachu  Detective Pikachu and Pokémon   \n",
       "2     3     2               Rampage                        Rampage   \n",
       "3     4     4  Sonic the Hedgehog 2             Sonic the Hedgehog   \n",
       "4     5     4             Uncharted                      Uncharted   \n",
       "\n",
       "                         game_pub        Date      gross  \\\n",
       "0          Blizzard Entertainment  2016-06-10  439048914   \n",
       "1   Nintendo, The Pokémon Company  2019-05-10  433230304   \n",
       "2                    Midway Games  2018-04-13  428028233   \n",
       "3                            Sega  2022-04-08  404372904   \n",
       "4  Sony Interactive Entertainment  2022-02-18  401748820   \n",
       "\n",
       "               Distributor                Format  \n",
       "0       Universal Pictures           Live-action  \n",
       "1    Warner Bros. Pictures  Live-action/animated  \n",
       "2    Warner Bros. Pictures           Live-action  \n",
       "3       Paramount Pictures  Live-action/animated  \n",
       "4  Sony Pictures Releasing           Live-action  "
      ]
     },
     "execution_count": 402,
     "metadata": {},
     "output_type": "execute_result"
    }
   ],
   "source": [
    "import pandas as pd\n",
    "df=pd.read_csv('highest_gross_video_game_films.csv')\n",
    "#df.shape\n",
    "#df\n",
    "df.head()"
   ]
  },
  {
   "cell_type": "code",
   "execution_count": 403,
   "metadata": {},
   "outputs": [],
   "source": [
    "df[['Year','Month','Date']]=df['Date'].str.split(\"-\",n=2,expand=True)\n",
    "#df.head(20)"
   ]
  },
  {
   "cell_type": "code",
   "execution_count": 404,
   "metadata": {},
   "outputs": [
    {
     "data": {
      "text/plain": [
       "array([2016, 2019, 2018, 2022, 2010, 2020, 2017, 2001, 2012, 2014, 1998,\n",
       "       2003, 2007, 1999, 2004, 1995, 2002, 1994, 2006, 2008, 2021, 2015,\n",
       "       2000, 2011, 2005, 1997, 2009, 1993])"
      ]
     },
     "execution_count": 404,
     "metadata": {},
     "output_type": "execute_result"
    }
   ],
   "source": [
    "df['Year']=df['Year'].astype(int)\n",
    "df['Year'].unique()\n",
    "#df['Year'].nunique()"
   ]
  },
  {
   "cell_type": "code",
   "execution_count": 405,
   "metadata": {},
   "outputs": [
    {
     "data": {
      "text/plain": [
       "Rank            int64\n",
       "Peak            int64\n",
       "Title          object\n",
       "video_game     object\n",
       "game_pub       object\n",
       "Date           object\n",
       "gross           int64\n",
       "Distributor    object\n",
       "Format         object\n",
       "Year            int64\n",
       "Month          object\n",
       "dtype: object"
      ]
     },
     "execution_count": 405,
     "metadata": {},
     "output_type": "execute_result"
    }
   ],
   "source": [
    "df.dtypes"
   ]
  },
  {
   "cell_type": "code",
   "execution_count": 406,
   "metadata": {},
   "outputs": [],
   "source": [
    "#How to use lambada\n",
    "x=lambda x: x+100\n",
    "       #x parameter, x+100 is return statement\n",
    "#print(x(10))\n"
   ]
  },
  {
   "cell_type": "code",
   "execution_count": 407,
   "metadata": {},
   "outputs": [],
   "source": [
    "# if the movie is released after 2017 then movie is new else movie is old we will do this using Lambda Function\n",
    "def movie_type(Year):\n",
    "    if Year>2017:\n",
    "        return 'New Movie'\n",
    "    else:\n",
    "        return \"Old movie\""
   ]
  },
  {
   "cell_type": "code",
   "execution_count": 408,
   "metadata": {},
   "outputs": [
    {
     "data": {
      "text/html": [
       "<div>\n",
       "<style scoped>\n",
       "    .dataframe tbody tr th:only-of-type {\n",
       "        vertical-align: middle;\n",
       "    }\n",
       "\n",
       "    .dataframe tbody tr th {\n",
       "        vertical-align: top;\n",
       "    }\n",
       "\n",
       "    .dataframe thead th {\n",
       "        text-align: right;\n",
       "    }\n",
       "</style>\n",
       "<table border=\"1\" class=\"dataframe\">\n",
       "  <thead>\n",
       "    <tr style=\"text-align: right;\">\n",
       "      <th></th>\n",
       "      <th>Year</th>\n",
       "      <th>Movie Type</th>\n",
       "    </tr>\n",
       "  </thead>\n",
       "  <tbody>\n",
       "    <tr>\n",
       "      <th>0</th>\n",
       "      <td>2016</td>\n",
       "      <td>Old movie</td>\n",
       "    </tr>\n",
       "    <tr>\n",
       "      <th>1</th>\n",
       "      <td>2019</td>\n",
       "      <td>New Movie</td>\n",
       "    </tr>\n",
       "    <tr>\n",
       "      <th>2</th>\n",
       "      <td>2018</td>\n",
       "      <td>New Movie</td>\n",
       "    </tr>\n",
       "    <tr>\n",
       "      <th>3</th>\n",
       "      <td>2022</td>\n",
       "      <td>New Movie</td>\n",
       "    </tr>\n",
       "    <tr>\n",
       "      <th>4</th>\n",
       "      <td>2022</td>\n",
       "      <td>New Movie</td>\n",
       "    </tr>\n",
       "    <tr>\n",
       "      <th>5</th>\n",
       "      <td>2016</td>\n",
       "      <td>Old movie</td>\n",
       "    </tr>\n",
       "    <tr>\n",
       "      <th>6</th>\n",
       "      <td>2010</td>\n",
       "      <td>Old movie</td>\n",
       "    </tr>\n",
       "    <tr>\n",
       "      <th>7</th>\n",
       "      <td>2020</td>\n",
       "      <td>New Movie</td>\n",
       "    </tr>\n",
       "    <tr>\n",
       "      <th>8</th>\n",
       "      <td>2017</td>\n",
       "      <td>Old movie</td>\n",
       "    </tr>\n",
       "    <tr>\n",
       "      <th>9</th>\n",
       "      <td>2010</td>\n",
       "      <td>Old movie</td>\n",
       "    </tr>\n",
       "  </tbody>\n",
       "</table>\n",
       "</div>"
      ],
      "text/plain": [
       "   Year Movie Type\n",
       "0  2016  Old movie\n",
       "1  2019  New Movie\n",
       "2  2018  New Movie\n",
       "3  2022  New Movie\n",
       "4  2022  New Movie\n",
       "5  2016  Old movie\n",
       "6  2010  Old movie\n",
       "7  2020  New Movie\n",
       "8  2017  Old movie\n",
       "9  2010  Old movie"
      ]
     },
     "execution_count": 408,
     "metadata": {},
     "output_type": "execute_result"
    }
   ],
   "source": [
    "#Applying lambda to year column\n",
    "use_apply= df['Year'].apply(lambda year: movie_type(year))\n",
    "                            #passing all years in the function as argument\n",
    "#use_apply\n",
    "df['Movie Type']=use_apply\n",
    "df[['Year','Movie Type']].head(10)\n"
   ]
  },
  {
   "cell_type": "code",
   "execution_count": 409,
   "metadata": {},
   "outputs": [
    {
     "data": {
      "text/html": [
       "<div>\n",
       "<style scoped>\n",
       "    .dataframe tbody tr th:only-of-type {\n",
       "        vertical-align: middle;\n",
       "    }\n",
       "\n",
       "    .dataframe tbody tr th {\n",
       "        vertical-align: top;\n",
       "    }\n",
       "\n",
       "    .dataframe thead th {\n",
       "        text-align: right;\n",
       "    }\n",
       "</style>\n",
       "<table border=\"1\" class=\"dataframe\">\n",
       "  <thead>\n",
       "    <tr style=\"text-align: right;\">\n",
       "      <th></th>\n",
       "      <th>Rank</th>\n",
       "      <th>Peak</th>\n",
       "      <th>Title</th>\n",
       "      <th>video_game</th>\n",
       "      <th>game_pub</th>\n",
       "      <th>Date</th>\n",
       "      <th>gross</th>\n",
       "      <th>Distributor</th>\n",
       "      <th>Format</th>\n",
       "      <th>Year</th>\n",
       "      <th>Month</th>\n",
       "      <th>Movie Type</th>\n",
       "    </tr>\n",
       "  </thead>\n",
       "  <tbody>\n",
       "    <tr>\n",
       "      <th>0</th>\n",
       "      <td>1</td>\n",
       "      <td>1</td>\n",
       "      <td>Warcraft</td>\n",
       "      <td>Warcraft</td>\n",
       "      <td>Blizzard Entertainment</td>\n",
       "      <td>10</td>\n",
       "      <td>439048914</td>\n",
       "      <td>Universal Pictures</td>\n",
       "      <td>Live-action</td>\n",
       "      <td>2016</td>\n",
       "      <td>06</td>\n",
       "      <td>Old movie</td>\n",
       "    </tr>\n",
       "    <tr>\n",
       "      <th>1</th>\n",
       "      <td>2</td>\n",
       "      <td>2</td>\n",
       "      <td>Detective Pikachu</td>\n",
       "      <td>Detective Pikachu and Pokémon</td>\n",
       "      <td>Nintendo, The Pokémon Company</td>\n",
       "      <td>10</td>\n",
       "      <td>433230304</td>\n",
       "      <td>Warner Bros. Pictures</td>\n",
       "      <td>Live-action/animated</td>\n",
       "      <td>2019</td>\n",
       "      <td>05</td>\n",
       "      <td>New Movie</td>\n",
       "    </tr>\n",
       "    <tr>\n",
       "      <th>2</th>\n",
       "      <td>3</td>\n",
       "      <td>2</td>\n",
       "      <td>Rampage</td>\n",
       "      <td>Rampage</td>\n",
       "      <td>Midway Games</td>\n",
       "      <td>13</td>\n",
       "      <td>428028233</td>\n",
       "      <td>Warner Bros. Pictures</td>\n",
       "      <td>Live-action</td>\n",
       "      <td>2018</td>\n",
       "      <td>04</td>\n",
       "      <td>New Movie</td>\n",
       "    </tr>\n",
       "    <tr>\n",
       "      <th>3</th>\n",
       "      <td>4</td>\n",
       "      <td>4</td>\n",
       "      <td>Sonic the Hedgehog 2</td>\n",
       "      <td>Sonic the Hedgehog</td>\n",
       "      <td>Sega</td>\n",
       "      <td>08</td>\n",
       "      <td>404372904</td>\n",
       "      <td>Paramount Pictures</td>\n",
       "      <td>Live-action/animated</td>\n",
       "      <td>2022</td>\n",
       "      <td>04</td>\n",
       "      <td>New Movie</td>\n",
       "    </tr>\n",
       "    <tr>\n",
       "      <th>4</th>\n",
       "      <td>5</td>\n",
       "      <td>4</td>\n",
       "      <td>Uncharted</td>\n",
       "      <td>Uncharted</td>\n",
       "      <td>Sony Interactive Entertainment</td>\n",
       "      <td>18</td>\n",
       "      <td>401748820</td>\n",
       "      <td>Sony Pictures Releasing</td>\n",
       "      <td>Live-action</td>\n",
       "      <td>2022</td>\n",
       "      <td>02</td>\n",
       "      <td>New Movie</td>\n",
       "    </tr>\n",
       "  </tbody>\n",
       "</table>\n",
       "</div>"
      ],
      "text/plain": [
       "   Rank  Peak                 Title                     video_game  \\\n",
       "0     1     1              Warcraft                       Warcraft   \n",
       "1     2     2     Detective Pikachu  Detective Pikachu and Pokémon   \n",
       "2     3     2               Rampage                        Rampage   \n",
       "3     4     4  Sonic the Hedgehog 2             Sonic the Hedgehog   \n",
       "4     5     4             Uncharted                      Uncharted   \n",
       "\n",
       "                         game_pub Date      gross              Distributor  \\\n",
       "0          Blizzard Entertainment   10  439048914       Universal Pictures   \n",
       "1   Nintendo, The Pokémon Company   10  433230304    Warner Bros. Pictures   \n",
       "2                    Midway Games   13  428028233    Warner Bros. Pictures   \n",
       "3                            Sega   08  404372904       Paramount Pictures   \n",
       "4  Sony Interactive Entertainment   18  401748820  Sony Pictures Releasing   \n",
       "\n",
       "                 Format  Year Month Movie Type  \n",
       "0           Live-action  2016    06  Old movie  \n",
       "1  Live-action/animated  2019    05  New Movie  \n",
       "2           Live-action  2018    04  New Movie  \n",
       "3  Live-action/animated  2022    04  New Movie  \n",
       "4           Live-action  2022    02  New Movie  "
      ]
     },
     "execution_count": 409,
     "metadata": {},
     "output_type": "execute_result"
    }
   ],
   "source": [
    "df.head(5)"
   ]
  },
  {
   "cell_type": "markdown",
   "metadata": {},
   "source": [
    "#### Part#2"
   ]
  },
  {
   "cell_type": "code",
   "execution_count": 410,
   "metadata": {},
   "outputs": [
    {
     "data": {
      "text/html": [
       "<div>\n",
       "<style scoped>\n",
       "    .dataframe tbody tr th:only-of-type {\n",
       "        vertical-align: middle;\n",
       "    }\n",
       "\n",
       "    .dataframe tbody tr th {\n",
       "        vertical-align: top;\n",
       "    }\n",
       "\n",
       "    .dataframe thead th {\n",
       "        text-align: right;\n",
       "    }\n",
       "</style>\n",
       "<table border=\"1\" class=\"dataframe\">\n",
       "  <thead>\n",
       "    <tr style=\"text-align: right;\">\n",
       "      <th></th>\n",
       "      <th>Order ID</th>\n",
       "      <th>Product</th>\n",
       "      <th>Quantity Ordered</th>\n",
       "      <th>Price Each</th>\n",
       "      <th>Order Date</th>\n",
       "      <th>Purchase Address</th>\n",
       "    </tr>\n",
       "  </thead>\n",
       "  <tbody>\n",
       "    <tr>\n",
       "      <th>0</th>\n",
       "      <td>176558</td>\n",
       "      <td>USB-C Charging Cable</td>\n",
       "      <td>2</td>\n",
       "      <td>11.95</td>\n",
       "      <td>04/19/19 08:46</td>\n",
       "      <td>917 1st St, Dallas, TX 75001</td>\n",
       "    </tr>\n",
       "    <tr>\n",
       "      <th>1</th>\n",
       "      <td>NaN</td>\n",
       "      <td>NaN</td>\n",
       "      <td>NaN</td>\n",
       "      <td>NaN</td>\n",
       "      <td>NaN</td>\n",
       "      <td>NaN</td>\n",
       "    </tr>\n",
       "    <tr>\n",
       "      <th>2</th>\n",
       "      <td>176559</td>\n",
       "      <td>Bose SoundSport Headphones</td>\n",
       "      <td>1</td>\n",
       "      <td>99.99</td>\n",
       "      <td>04/07/19 22:30</td>\n",
       "      <td>682 Chestnut St, Boston, MA 02215</td>\n",
       "    </tr>\n",
       "    <tr>\n",
       "      <th>3</th>\n",
       "      <td>176560</td>\n",
       "      <td>Google Phone</td>\n",
       "      <td>1</td>\n",
       "      <td>600</td>\n",
       "      <td>04/12/19 14:38</td>\n",
       "      <td>669 Spruce St, Los Angeles, CA 90001</td>\n",
       "    </tr>\n",
       "    <tr>\n",
       "      <th>4</th>\n",
       "      <td>176560</td>\n",
       "      <td>Wired Headphones</td>\n",
       "      <td>1</td>\n",
       "      <td>11.99</td>\n",
       "      <td>04/12/19 14:38</td>\n",
       "      <td>669 Spruce St, Los Angeles, CA 90001</td>\n",
       "    </tr>\n",
       "  </tbody>\n",
       "</table>\n",
       "</div>"
      ],
      "text/plain": [
       "  Order ID                     Product Quantity Ordered Price Each  \\\n",
       "0   176558        USB-C Charging Cable                2      11.95   \n",
       "1      NaN                         NaN              NaN        NaN   \n",
       "2   176559  Bose SoundSport Headphones                1      99.99   \n",
       "3   176560                Google Phone                1        600   \n",
       "4   176560            Wired Headphones                1      11.99   \n",
       "\n",
       "       Order Date                      Purchase Address  \n",
       "0  04/19/19 08:46          917 1st St, Dallas, TX 75001  \n",
       "1             NaN                                   NaN  \n",
       "2  04/07/19 22:30     682 Chestnut St, Boston, MA 02215  \n",
       "3  04/12/19 14:38  669 Spruce St, Los Angeles, CA 90001  \n",
       "4  04/12/19 14:38  669 Spruce St, Los Angeles, CA 90001  "
      ]
     },
     "execution_count": 410,
     "metadata": {},
     "output_type": "execute_result"
    }
   ],
   "source": [
    "import pandas as pd\n",
    "import numpy as np\n",
    "dff=pd.read_csv('all_data.csv')\n",
    "dff.head()\n"
   ]
  },
  {
   "cell_type": "code",
   "execution_count": 411,
   "metadata": {},
   "outputs": [],
   "source": [
    "#dff.dtypes\n",
    "dff['Price Each']=pd.to_numeric(dff['Price Each'],errors='coerce')\n",
    "dff['Quantity Ordered']=pd.to_numeric(dff['Quantity Ordered'],errors='coerce')"
   ]
  },
  {
   "cell_type": "code",
   "execution_count": 412,
   "metadata": {},
   "outputs": [
    {
     "data": {
      "text/plain": [
       "0          3.456877\n",
       "1               NaN\n",
       "2          9.999500\n",
       "3         24.494897\n",
       "4          3.462658\n",
       "            ...    \n",
       "186845     1.729162\n",
       "186846    26.457513\n",
       "186847    26.457513\n",
       "186848    19.493332\n",
       "186849     3.456877\n",
       "Name: Price Each, Length: 186850, dtype: float64"
      ]
     },
     "execution_count": 412,
     "metadata": {},
     "output_type": "execute_result"
    }
   ],
   "source": [
    "# Apply function can be applied to a dataframe or a series object\n",
    "# 1st way of using apply function is to use it with built-in functions\n",
    "# Example using the numpy sqrt() function\n",
    "dff['Price Each']=dff['Price Each'].apply(np.sqrt)\n",
    "dff['Price Each']"
   ]
  },
  {
   "cell_type": "code",
   "execution_count": 413,
   "metadata": {},
   "outputs": [
    {
     "data": {
      "text/plain": [
       "0     3.456877\n",
       "1          NaN\n",
       "2     9.999500\n",
       "3    24.494897\n",
       "4     3.462658\n",
       "5     3.462658\n",
       "6     3.456877\n",
       "7     9.999500\n",
       "8     3.456877\n",
       "9    41.231056\n",
       "Name: Price Each, dtype: float64"
      ]
     },
     "execution_count": 413,
     "metadata": {},
     "output_type": "execute_result"
    }
   ],
   "source": [
    "dff['Price Each']=dff['Price Each'].apply(np.mean)\n",
    "dff['Price Each'].head(10)"
   ]
  },
  {
   "cell_type": "code",
   "execution_count": 414,
   "metadata": {},
   "outputs": [
    {
     "data": {
      "text/plain": [
       "Price Each          9.686721\n",
       "Quantity Ordered    1.124383\n",
       "dtype: float64"
      ]
     },
     "execution_count": 414,
     "metadata": {},
     "output_type": "execute_result"
    }
   ],
   "source": [
    "ex_1=dff[['Price Each','Quantity Ordered']].apply(np.mean,axis=1)  #,axis=1\n",
    "ex_1"
   ]
  },
  {
   "cell_type": "code",
   "execution_count": 415,
   "metadata": {},
   "outputs": [
    {
     "data": {
      "text/plain": [
       "Price Each\n",
       "1.729162     1.502689\n",
       "1.959592     1.343004\n",
       "3.456877     1.094599\n",
       "3.462658     1.088709\n",
       "3.866523     1.071983\n",
       "9.999500     1.009906\n",
       "10.487612    1.006828\n",
       "12.247040    1.005728\n",
       "12.247449    1.007203\n",
       "17.320508    1.003958\n",
       "19.493332    1.002912\n",
       "19.748164    1.002247\n",
       "20.000000    1.001453\n",
       "24.494897    1.001024\n",
       "26.457513    1.001023\n",
       "31.622618    1.000484\n",
       "41.231056    1.000847\n",
       "Name: Quantity Ordered, dtype: float64"
      ]
     },
     "execution_count": 415,
     "metadata": {},
     "output_type": "execute_result"
    }
   ],
   "source": [
    "dff.groupby('Price Each')['Quantity Ordered'].apply(np.mean)\n",
    "#dff.groupby('Price Each')['Quantity Ordered'].mean()     # both have same"
   ]
  },
  {
   "cell_type": "code",
   "execution_count": null,
   "metadata": {},
   "outputs": [],
   "source": []
  }
 ],
 "metadata": {
  "kernelspec": {
   "display_name": "Python 3",
   "language": "python",
   "name": "python3"
  },
  "language_info": {
   "codemirror_mode": {
    "name": "ipython",
    "version": 3
   },
   "file_extension": ".py",
   "mimetype": "text/x-python",
   "name": "python",
   "nbconvert_exporter": "python",
   "pygments_lexer": "ipython3",
   "version": "3.12.4"
  }
 },
 "nbformat": 4,
 "nbformat_minor": 2
}
