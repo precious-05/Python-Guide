{
 "cells": [
  {
   "cell_type": "markdown",
   "metadata": {},
   "source": [
    "Suppose that A Person have 20000$ in his wallet and he want to buy a car \n",
    "\n",
    "Perform some steps on the given Dataset, you have to recommend him Car Model List with Color, which suit him in his budget \n",
    "\n",
    "Check for these Ranges (10000-15000, 15000-20000)\n",
    "\n",
    "USE GROUP BY And Filter Function and Sort Function"
   ]
  },
  {
   "cell_type": "code",
   "execution_count": null,
   "metadata": {},
   "outputs": [],
   "source": [
    "import pandas as pd\n",
    "data=pd.read_csv('car-sales-extended.csv')\n",
    "data"
   ]
  },
  {
   "cell_type": "code",
   "execution_count": null,
   "metadata": {},
   "outputs": [],
   "source": [
    "\"\"\"print(data.columns.size)\n",
    "print(len(data.columns))\n",
    "print()\n",
    "print(data.index.size)\n",
    "print(len(data.index))\n",
    "print()\n",
    "print(data.size) #1000*5==5000\n",
    "print()\n",
    "print()\n",
    "print(data.index.to_list())\n",
    "print()\n",
    "print()\n",
    "print(data.columns.to_list())\"\"\""
   ]
  },
  {
   "cell_type": "code",
   "execution_count": null,
   "metadata": {},
   "outputs": [],
   "source": [
    "data"
   ]
  },
  {
   "cell_type": "markdown",
   "metadata": {},
   "source": [
    "### **Filtering Data**\n",
    "- Filter by single Point value"
   ]
  },
  {
   "cell_type": "code",
   "execution_count": null,
   "metadata": {},
   "outputs": [],
   "source": [
    "new_data1=data[data['Doors']>2]\n",
    "#print(new_data)\n",
    "new_data1['Doors']\n",
    "#new_data['Doors'].value_counts()"
   ]
  },
  {
   "cell_type": "code",
   "execution_count": null,
   "metadata": {},
   "outputs": [],
   "source": [
    "data"
   ]
  },
  {
   "cell_type": "markdown",
   "metadata": {},
   "source": [
    "###  **Filter by in a Range of Values**\n"
   ]
  },
  {
   "cell_type": "code",
   "execution_count": null,
   "metadata": {},
   "outputs": [],
   "source": [
    "new_data2=data[data['Price']>=40000]\n",
    "print(new_data2['Price'])\n",
    "#srt=new_data.sort_values(by='Doors',ascending=False)\n",
    "srt=new_data2['Price'].sort_values()\n",
    "print()\n",
    "print(srt)"
   ]
  },
  {
   "cell_type": "markdown",
   "metadata": {},
   "source": [
    "### **Filtering in range between two values**"
   ]
  },
  {
   "cell_type": "code",
   "execution_count": null,
   "metadata": {},
   "outputs": [],
   "source": [
    "\n",
    "# Filter data based on conditions\n",
    "new_data3 = data[(data['Price'] >= 45000) & (data['Doors'] >= 2)]\n",
    "\n",
    "# Print filtered data showing only 'Price' and 'Doors' columns\n",
    "print(new_data3[['Price', 'Doors']].to_string())\n",
    "print(\"\\n\")\n",
    "\n",
    "# Sort the filtered data by 'Doors'\n",
    "srtt = new_data3[['Price','Doors']].sort_values(by='Doors') # type: ignore\n",
    "\n",
    "# Print the sorted data\n",
    "print(\"Sorted are\\n\", srtt.to_string())\n"
   ]
  },
  {
   "cell_type": "markdown",
   "metadata": {},
   "source": [
    "### **Filter Columns using Filter Function**"
   ]
  },
  {
   "cell_type": "code",
   "execution_count": null,
   "metadata": {},
   "outputs": [],
   "source": [
    "List=['Price','Make','Colour']\n",
    "new_data4=data.filter(items=List,axis=1)\n",
    "new_data4"
   ]
  },
  {
   "cell_type": "markdown",
   "metadata": {},
   "source": [
    "### **Filter Rows using filter function**"
   ]
  },
  {
   "cell_type": "code",
   "execution_count": null,
   "metadata": {},
   "outputs": [],
   "source": [
    "Rows=[num for num in range(0,101,1)]\n",
    "df_Rows=data.filter(items=Rows,axis=0)\n",
    "df_Rows"
   ]
  },
  {
   "cell_type": "markdown",
   "metadata": {},
   "source": [
    "### **Filtering the data with loc/iloc**\n",
    "- loc: Access a group of rows and columns by lables or boolean array"
   ]
  },
  {
   "cell_type": "code",
   "execution_count": null,
   "metadata": {},
   "outputs": [],
   "source": []
  },
  {
   "cell_type": "code",
   "execution_count": null,
   "metadata": {},
   "outputs": [],
   "source": []
  }
 ],
 "metadata": {
  "kernelspec": {
   "display_name": "Python 3",
   "language": "python",
   "name": "python3"
  },
  "language_info": {
   "codemirror_mode": {
    "name": "ipython",
    "version": 3
   },
   "file_extension": ".py",
   "mimetype": "text/x-python",
   "name": "python",
   "nbconvert_exporter": "python",
   "pygments_lexer": "ipython3",
   "version": "3.12.4"
  }
 },
 "nbformat": 4,
 "nbformat_minor": 2
}
