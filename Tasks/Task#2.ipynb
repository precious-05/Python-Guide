{
 "cells": [
  {
   "cell_type": "markdown",
   "metadata": {},
   "source": [
    "- Import the necessary libraries\n",
    "- Import the dataset \n",
    "- Assign it to a variable\n",
    "- How many products cost more than $10.00?\n",
    "- What is the price of each item?\n",
    "- Sort by the name of the item\n",
    "- What was the quantity of the most expensive item ordered?\n",
    "- How many times was a Veggie Salad Bowl ordered?\n",
    "- How many times did someone order more than one Canned Soda?\n"
   ]
  },
  {
   "cell_type": "code",
   "execution_count": null,
   "metadata": {},
   "outputs": [],
   "source": [
    "import pandas as pd\n",
    "Thyroid=pd.read_csv('C:\\\\Users\\\\Hp\\\\Desktop\\\\learning\\\\Python-Guide\\\\pandas\\\\Thyroid_Diff.csv')\n",
    "Thyroid"
   ]
  },
  {
   "cell_type": "code",
   "execution_count": null,
   "metadata": {},
   "outputs": [],
   "source": [
    "# How many male patients having age less than 50 have been recurred\n",
    "male=Thyroid[(Thyroid.Age<50) & (Thyroid.Gender=='M') & (Thyroid.Recurred=='Yes') ]\n",
    "male=male.filter(items=['Age','Gender','Recurred'],axis=1)\n",
    "male\n"
   ]
  },
  {
   "cell_type": "code",
   "execution_count": null,
   "metadata": {},
   "outputs": [],
   "source": [
    "print(\"The number of Recurred male patients having age<50 are:\\n\")\n",
    "print(len(male[['Age','Gender','Recurred']]))"
   ]
  },
  {
   "cell_type": "code",
   "execution_count": null,
   "metadata": {},
   "outputs": [],
   "source": [
    "# How many female patients having age less than 50 have been recurred\n",
    "female=Thyroid[(Thyroid.Age<50) & (Thyroid.Gender=='F') & (Thyroid.Recurred=='Yes') ]\n",
    "female[['Age','Gender','Recurred']]"
   ]
  },
  {
   "cell_type": "code",
   "execution_count": null,
   "metadata": {},
   "outputs": [],
   "source": [
    "#Using filter function\n",
    "female=female.filter(items=['Age','Gender','Recurred'],axis=1)\n",
    "female"
   ]
  },
  {
   "cell_type": "code",
   "execution_count": null,
   "metadata": {},
   "outputs": [],
   "source": [
    "print(\"The number of Recurred Female patients having age<50 are:\\n\")\n",
    "print(len(female[['Age','Gender','Recurred']]))"
   ]
  },
  {
   "cell_type": "code",
   "execution_count": null,
   "metadata": {},
   "outputs": [],
   "source": [
    "#what is Age of each male patient who has been recurred\n",
    "male['Age']\n"
   ]
  },
  {
   "cell_type": "code",
   "execution_count": null,
   "metadata": {},
   "outputs": [],
   "source": [
    "#what is Age of each female patient who has been recurred\n",
    "female['Age']"
   ]
  },
  {
   "cell_type": "code",
   "execution_count": null,
   "metadata": {},
   "outputs": [],
   "source": [
    "# Sort by the age of female patients \n",
    "female=female.sort_values(by='Age')\n",
    "female"
   ]
  },
  {
   "cell_type": "code",
   "execution_count": null,
   "metadata": {},
   "outputs": [],
   "source": [
    "# Sort by the age of male patients \n",
    "male=male.sort_values(by='Age')\n",
    "male"
   ]
  },
  {
   "cell_type": "code",
   "execution_count": null,
   "metadata": {},
   "outputs": [],
   "source": [
    "# How many times the  patients with age >50 Recurred?\n",
    "fem_age=Thyroid[(Thyroid.Age>50) & (Thyroid.Recurred=='Yes')]\n",
    "fem_age"
   ]
  },
  {
   "cell_type": "code",
   "execution_count": null,
   "metadata": {},
   "outputs": [],
   "source": [
    "len(fem_age.Age)"
   ]
  },
  {
   "cell_type": "code",
   "execution_count": null,
   "metadata": {},
   "outputs": [],
   "source": [
    "freq=Thyroid[(Thyroid.Age<50) & (Thyroid.Gender=='M') & (Thyroid.Recurred=='Yes')]\n",
    "freq=freq.Age.value_counts(ascending=True)\n",
    "freq"
   ]
  },
  {
   "cell_type": "code",
   "execution_count": null,
   "metadata": {},
   "outputs": [],
   "source": [
    "freq2=Thyroid[(Thyroid.Age<50) & (Thyroid.Gender=='F') & (Thyroid.Recurred=='Yes')]\n",
    "freq2=freq2.Age.value_counts(ascending=True)\n",
    "freq2\n",
    "\n"
   ]
  }
 ],
 "metadata": {
  "kernelspec": {
   "display_name": "Python 3",
   "language": "python",
   "name": "python3"
  },
  "language_info": {
   "codemirror_mode": {
    "name": "ipython",
    "version": 3
   },
   "file_extension": ".py",
   "mimetype": "text/x-python",
   "name": "python",
   "nbconvert_exporter": "python",
   "pygments_lexer": "ipython3",
   "version": "3.12.4"
  }
 },
 "nbformat": 4,
 "nbformat_minor": 2
}
