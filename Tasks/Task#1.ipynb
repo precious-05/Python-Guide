{
 "cells": [
  {
   "cell_type": "code",
   "execution_count": null,
   "metadata": {},
   "outputs": [],
   "source": [
    "import pandas as pd\n",
    "link='https://raw.githubusercontent.com/justmarkham/DAT8/master/data/chipotle.tsv'\n",
    "data=pd.read_csv(link,sep='\\t')\n",
    "data"
   ]
  },
  {
   "cell_type": "markdown",
   "metadata": {},
   "source": [
    "- In a DataFrame, if a column contains non-numeric characters (like $), Python treats the entire column as a string (text). You cannot perform numerical comparisons (like > or <) directly on strings, which is why the conversion is necessary.\n",
    "\n",
    "- Parameters of replace() function\n",
    "  - to_replace  \n",
    "  - limit\n",
    "  - value       \n",
    "  - regex\n",
    "  - inplace    \n",
    "  -  method\n",
    "\n",
    "\n",
    "  - regex=True is necessary when we want to perform replacements based on patterns rather than exact string matches. In my case, it ensures that both the dollar sign and commas are correctly identified and removed from the item_price column.\n",
    "\n",
    "\n",
    "- The astype() function in pandas is used to convert the data type of a Series or DataFrame column to another specified type. This is often necessary when you need to perform operations that require a specific data type, such as numeric calculations, logical operations, or simply ensuring that the data is in the correct format."
   ]
  },
  {
   "cell_type": "code",
   "execution_count": null,
   "metadata": {},
   "outputs": [],
   "source": [
    "#data['item_price'] = data['item_price'].replace('[$,]', '', regex=True).astype(float)\n",
    "data['item_price']=data['item_price'].replace(to_replace='[$]',value='', regex=True).astype(float)\n",
    "#data['item_price'].dtypes\n",
    "data['item_price']"
   ]
  },
  {
   "cell_type": "code",
   "execution_count": null,
   "metadata": {},
   "outputs": [],
   "source": [
    "cost=data[data['item_price']>10.00]\n",
    "cost"
   ]
  },
  {
   "cell_type": "code",
   "execution_count": null,
   "metadata": {},
   "outputs": [],
   "source": [
    "len(cost['item_price'].value_counts())"
   ]
  },
  {
   "cell_type": "code",
   "execution_count": null,
   "metadata": {},
   "outputs": [],
   "source": [
    "data[['item_name','item_price']]"
   ]
  },
  {
   "cell_type": "code",
   "execution_count": null,
   "metadata": {},
   "outputs": [],
   "source": [
    "srt=data.sort_values(by='item_name')\n",
    "srt"
   ]
  },
  {
   "cell_type": "code",
   "execution_count": null,
   "metadata": {},
   "outputs": [],
   "source": []
  }
 ],
 "metadata": {
  "kernelspec": {
   "display_name": "Python 3",
   "language": "python",
   "name": "python3"
  },
  "language_info": {
   "codemirror_mode": {
    "name": "ipython",
    "version": 3
   },
   "file_extension": ".py",
   "mimetype": "text/x-python",
   "name": "python",
   "nbconvert_exporter": "python",
   "pygments_lexer": "ipython3",
   "version": "3.12.4"
  }
 },
 "nbformat": 4,
 "nbformat_minor": 2
}
