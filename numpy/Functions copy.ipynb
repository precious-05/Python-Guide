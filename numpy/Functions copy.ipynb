{
 "cells": [
  {
   "cell_type": "markdown",
   "metadata": {},
   "source": [
    "Numpy array can be used as matrix format and can be more than 1 diemnsional\n",
    "\n",
    "but in python lists enev if we add a list inside a list it is still a single list\n",
    " it means we cannot give it matrix format\n",
    "\n",
    "Most importantly in image processing we have to woek on matrices which is done using numpy array\n",
    "List consume large memory while array consume small memory\n"
   ]
  },
  {
   "cell_type": "code",
   "execution_count": null,
   "metadata": {},
   "outputs": [],
   "source": [
    "\n",
    "%timeit x=[1,2,3,4]\n",
    "\n",
    "import numpy as np\n",
    "%timeit y=np.array([1,2,3,4])"
   ]
  },
  {
   "cell_type": "markdown",
   "metadata": {},
   "source": [
    "-Numpy Array Creation\n",
    "   \n",
    "   The output of list is in the form of commas \n",
    "   \n",
    "   The output of arrays is without commas"
   ]
  },
  {
   "cell_type": "code",
   "execution_count": null,
   "metadata": {},
   "outputs": [],
   "source": [
    "import numpy as np\n",
    "x=[1,2,3,4,5]\n",
    "y=np.array(x)\n",
    "print(\"list is\",x)\n",
    "print(\"array is\",y)\n",
    "print(type(x))\n",
    "print(type(y))\n",
    "\n",
    "l=[]\n",
    "for i in range(1,6,1):\n",
    "    user=int(input(f\"Enter the {i} number: \"))\n",
    "    l.append(user)\n",
    "\n",
    "arr=np.array(l)   \n",
    "print(f\"The array is {arr}\") \n",
    "  "
   ]
  },
  {
   "cell_type": "code",
   "execution_count": null,
   "metadata": {},
   "outputs": [],
   "source": [
    "import numpy as np\n",
    "arr=np.array([[1,2,3],[3,4,5]],ndmin=4)\n",
    "print(f\"2D Array is \\n{arr}\")\n",
    "print(f\"The dimension of array \\n{arr} is {arr.ndim}\")\n",
    "\n",
    "d3=np.array([[[1,2,3],[1,2,3],[1,2,3]]])\n",
    "print(f\"\\n 3D ARRAY IS \\n {d3}\")"
   ]
  },
  {
   "cell_type": "markdown",
   "metadata": {},
   "source": [
    "#Creating Numpy Arrays using functions\n",
    "1.  Zeros\n",
    "2.  Ones\n",
    "3.  Empty Array (The empty array stores the previous data of memory)\n",
    "4.  Eye()\n",
    "5.  Array with linearly spaced elements in specific interval \n",
    "   Syntax of step :   stop-start/num-1\n",
    "\n",
    " IMPORTANT POINTS:\n",
    "> In NumPy, the default formatting for floating-point numbers often omits the trailing zero after the decimal point for simplicity and readability.\n",
    "\n",
    "> Default Behavior in NumPy: By default, NumPy omits trailing zeros when printing floating-point numbers for simplicity. This means 3.0 might be displayed as 3. without the trailing zero.\n",
    "> Control with Formatting: You can control the display of trailing zeros using formatting options in NumPy or Python’s string formatting features.\n",
    "\n",
    ">>Consider the number \n",
    "123.4500\n",
    "123.4500:\n",
    "\n",
    "Without trailing zeros: \n",
    "123.45\n",
    "123.45\n",
    "With trailing zeros: \n",
    "123.4500\n",
    "123.4500\n",
    "Both represent the same value, but the version with trailing zeros might indicate higher precision in a scientific or engineering context.\n",
    "\n",
    "Summary\n",
    "Trailing zeros are zeros that appear after the significant digits in a number. They can convey information about precision in floating-point numbers, but do not affect the numerical value. In programming and data representation, you can control the display of trailing zeros for clarity and precision.\n",
    "\n",
    "\n"
   ]
  },
  {
   "cell_type": "markdown",
   "metadata": {},
   "source": [
    "## Zeros"
   ]
  },
  {
   "cell_type": "code",
   "execution_count": null,
   "metadata": {},
   "outputs": [],
   "source": [
    "#Zeros\n",
    "import numpy as np\n",
    "arr=np.zeros(3) #1D Array\n",
    "print(arr)\n",
    "print(\"\\n \\n\")\n",
    "arrr=np.zeros((4,8)) #2D Array\n",
    "print(arrr)"
   ]
  },
  {
   "cell_type": "markdown",
   "metadata": {},
   "source": [
    "## Ones "
   ]
  },
  {
   "cell_type": "code",
   "execution_count": null,
   "metadata": {},
   "outputs": [],
   "source": [
    "#ones \n",
    "import numpy as np\n",
    "np.set_printoptions(precision=1,floatmode=\"fixed\")\n",
    "arr=np.ones(5) #1D Array\n",
    "print(arr)\n",
    "print(\"\\n \\n\")\n",
    "\n",
    "arrr=np.ones((3,2,4)) #3D Array\n",
    "print(arrr)"
   ]
  },
  {
   "cell_type": "markdown",
   "metadata": {},
   "source": [
    "## Empty"
   ]
  },
  {
   "cell_type": "code",
   "execution_count": null,
   "metadata": {},
   "outputs": [],
   "source": [
    "#empty\n",
    "import numpy as np\n",
    "np.set_printoptions(precision=1,floatmode='fixed')\n",
    "arr=np.empty(5)\n",
    "print(f\"{arr} \\n\")\n",
    "arrr=np.empty((3,2,4))\n",
    "print(arrr)"
   ]
  },
  {
   "cell_type": "markdown",
   "metadata": {},
   "source": [
    "## Eye"
   ]
  },
  {
   "cell_type": "code",
   "execution_count": 5,
   "metadata": {},
   "outputs": [
    {
     "name": "stdout",
     "output_type": "stream",
     "text": [
      "[[1. 0. 0.]\n",
      " [0. 1. 0.]\n",
      " [0. 0. 1.]]\n",
      "\n",
      " \n",
      "\n",
      "[[1. 0. 0. 0. 0.]\n",
      " [0. 1. 0. 0. 0.]\n",
      " [0. 0. 1. 0. 0.]]\n"
     ]
    }
   ],
   "source": [
    "#eye()\n",
    "import numpy as np\n",
    "np.set_printoptions(precision=0, floatmode='fixed')\n",
    "arr=np.eye(3)\n",
    "print(arr)\n",
    "print(\"\\n \\n\")\n",
    "\n",
    "arrr=np.eye(3,5)\n",
    "print(arrr)\n",
    "\n",
    "\n",
    "\n",
    "\n",
    "#numpy.ones(): Creates an array filled entirely with ones. It does not create an identity matrix.\n",
    "#numpy.eye(): Creates a 2-D array with ones on the diagonal and zeros elsewhere, which is an identity matrix if \n",
    "# the array is square."
   ]
  },
  {
   "cell_type": "markdown",
   "metadata": {},
   "source": [
    "# identity()\n",
    "1. numpy.identity(n) always creates an n x n square identity matrix.\n",
    "2. So we cannot specify the no of coloms like (3,4) it will generate error\n",
    "\n",
    "**Similarities:**\n",
    "1. Both numpy.eye and numpy.identity generate 2D matrices with 1's on the diagonal.\n",
    "2. Both numpy.eye and numpy.identity are used to generate identity matrices.\n",
    "\n",
    "**Differences:**\n",
    "1. numpy.identity(n) always generates a square matrix of size n x n.\n",
    "2. numpy.eye(N, M) can generate a matrix of any order, not necessarily square.\n",
    "3. You can specify the number of rows (N) and columns (M)."
   ]
  },
  {
   "cell_type": "code",
   "execution_count": 4,
   "metadata": {},
   "outputs": [
    {
     "name": "stdout",
     "output_type": "stream",
     "text": [
      "[[1. 0. 0.]\n",
      " [0. 1. 0.]\n",
      " [0. 0. 1.]]\n",
      "\n",
      " \n",
      "\n",
      "[[1. 0. 0. 0. 0.]\n",
      " [0. 1. 0. 0. 0.]\n",
      " [0. 0. 1. 0. 0.]\n",
      " [0. 0. 0. 1. 0.]\n",
      " [0. 0. 0. 0. 1.]]\n"
     ]
    }
   ],
   "source": [
    "import numpy as np\n",
    "arr=np.identity(3)\n",
    "print(arr)\n",
    "print(\"\\n \\n\")\n",
    "\n",
    "arrr=np.identity(5)\n",
    "print(arrr)\n",
    "\n",
    "\n"
   ]
  },
  {
   "cell_type": "markdown",
   "metadata": {},
   "source": [
    "## Linspace"
   ]
  },
  {
   "cell_type": "code",
   "execution_count": 1,
   "metadata": {},
   "outputs": [
    {
     "name": "stdout",
     "output_type": "stream",
     "text": [
      "[ 1.    3.25  5.5   7.75 10.  ]\n"
     ]
    }
   ],
   "source": [
    "#Linspace\n",
    "import numpy as np\n",
    "a=np.linspace(1,10,num=5)\n",
    "print(a)"
   ]
  },
  {
   "cell_type": "markdown",
   "metadata": {},
   "source": [
    "## Random Arrays\n",
    " All these are the part of random library so they should be called with random.rand() ...\n",
    "1. rand()   generate random value b/w 0,1\n",
    "2. randn()  generate random value close to 0 can also contain -ve values can also contain values like 1.000 mean 1 can be included\n",
    "\n",
    "rand() and ranf() almost same  \n",
    "\n",
    "3. ranf()   generate the floating random numbers from 0.0 - 1.0 but not 1 itself \n",
    "4. randint() generates random numbers in given range"
   ]
  },
  {
   "cell_type": "markdown",
   "metadata": {},
   "source": [
    "# rand()"
   ]
  },
  {
   "cell_type": "code",
   "execution_count": 46,
   "metadata": {},
   "outputs": [
    {
     "name": "stdout",
     "output_type": "stream",
     "text": [
      "[0.48004738 0.88890521 0.59134908 0.96280535]\n"
     ]
    }
   ],
   "source": [
    "import numpy as np\n",
    "n=np.random.rand(4)\n",
    "print(n)"
   ]
  },
  {
   "cell_type": "markdown",
   "metadata": {},
   "source": [
    "# randn()"
   ]
  },
  {
   "cell_type": "code",
   "execution_count": 4,
   "metadata": {},
   "outputs": [
    {
     "name": "stdout",
     "output_type": "stream",
     "text": [
      "[-0.35135669  1.94772514 -1.68130926  1.06656499 -0.34101453]\n"
     ]
    }
   ],
   "source": [
    "import numpy as np\n",
    "n=np.random.randn(5)\n",
    "print(n)"
   ]
  },
  {
   "cell_type": "markdown",
   "metadata": {},
   "source": [
    "# ranf()"
   ]
  },
  {
   "cell_type": "code",
   "execution_count": 49,
   "metadata": {},
   "outputs": [
    {
     "name": "stdout",
     "output_type": "stream",
     "text": [
      "[0.7683695  0.43753169 0.25152134 0.35901478 0.51959415 0.13520307]\n"
     ]
    }
   ],
   "source": [
    "import numpy as np\n",
    "n=np.random.ranf(6)\n",
    "print(n)\n"
   ]
  },
  {
   "cell_type": "markdown",
   "metadata": {},
   "source": [
    "# randint()"
   ]
  },
  {
   "cell_type": "code",
   "execution_count": 56,
   "metadata": {},
   "outputs": [
    {
     "name": "stdout",
     "output_type": "stream",
     "text": [
      "[6 6 4 7 7 8]\n"
     ]
    }
   ],
   "source": [
    "import numpy as np\n",
    "x=np.random.randint(3,10,6)  #(min,max,total)\n",
    "print(x)"
   ]
  },
  {
   "cell_type": "markdown",
   "metadata": {},
   "source": [
    "# Data Type\n",
    "\n",
    "Points to remember\n",
    "\n",
    "Use type() to determine the type of the entire object.\n",
    "\n",
    "Use dtype to determine the data type of the elements within a NumPy array.\n",
    "\n",
    "# Type promotion in Numpy\n",
    "\n",
    "When you try to create a NumPy array with mixed data types, NumPy automatically promotes the data types to a common type that can represent all the elements. This process is known as type promotion."
   ]
  },
  {
   "cell_type": "code",
   "execution_count": 64,
   "metadata": {},
   "outputs": [
    {
     "name": "stdout",
     "output_type": "stream",
     "text": [
      "Array is \n",
      " [ 0.  1.  2.  3.  4.  5.  6.  7.  8.  9. 10.]\n",
      "\n",
      " Data type of array is: float32\n",
      "\n",
      " Data type of array is: <U1\n"
     ]
    }
   ],
   "source": [
    "import numpy as np\n",
    "x=np.arange(0,11,1,dtype=\"f\") #Here instead of writing np.float we simply wrote \"f\" for float data type\n",
    "print(f\"Array is \\n {x}\")\n",
    "print(f\"\\n Data type of array is: {x.dtype}\")  #dtype is an attribute\n",
    "\n",
    "s=np.array(['s','t','r','i','n','g'])\n",
    "print(f\"\\n Data type of array is: {s.dtype}\")\n",
    "\n",
    "\n",
    "\n",
    "#Remember taht we use type to check that wether its array or list or tuple e.t.c\n",
    "# But we use dtype to check the data type of the array"
   ]
  },
  {
   "cell_type": "markdown",
   "metadata": {},
   "source": [
    "Converting the data type of an array without dtype attribute just by using function as follow:"
   ]
  },
  {
   "cell_type": "code",
   "execution_count": 66,
   "metadata": {},
   "outputs": [
    {
     "name": "stdout",
     "output_type": "stream",
     "text": [
      "Array is \n",
      " [1 2 3 4 5]\n",
      "Converted array is: [1. 2. 3. 4. 5.]\n",
      "[1. 2. 3. 4. 5.]: float32\n",
      "[1 2 3 4 5]: int64\n"
     ]
    }
   ],
   "source": [
    "import numpy as np\n",
    "x=np.array([1,2,3,4,5])\n",
    "new=np.float32(x)    # Here array is passed as an argument\n",
    "print(f\"Array is \\n {x}\")\n",
    "print(f\"Converted array is: {new}\")\n",
    "print(f\"{new}: {new.dtype}\")\n",
    "print(f\"{x}: {x.dtype}\")\n"
   ]
  },
  {
   "cell_type": "markdown",
   "metadata": {},
   "source": [
    "# astype Function\n",
    "\n",
    "Yes, the astype method in NumPy is used to explicitly convert the data type of an array.\n",
    "\n",
    " This is useful when you want to change the data type of an array to a specific type."
   ]
  },
  {
   "cell_type": "code",
   "execution_count": 67,
   "metadata": {},
   "outputs": [
    {
     "name": "stdout",
     "output_type": "stream",
     "text": [
      "[1 2 3 4 5]\n",
      "\n",
      " \n",
      "\n",
      "[1. 2. 3. 4. 5.]\n"
     ]
    }
   ],
   "source": [
    "import numpy as np\n",
    "x=np.array([1,2,3,4,5])\n",
    "new=x.astype(float)   #Here data type is passed as an argument\n",
    "\n",
    "print(x)\n",
    "print(\"\\n \\n\")\n",
    "print(new)\n"
   ]
  }
 ],
 "metadata": {
  "kernelspec": {
   "display_name": "Python 3",
   "language": "python",
   "name": "python3"
  },
  "language_info": {
   "codemirror_mode": {
    "name": "ipython",
    "version": 3
   },
   "file_extension": ".py",
   "mimetype": "text/x-python",
   "name": "python",
   "nbconvert_exporter": "python",
   "pygments_lexer": "ipython3",
   "version": "3.12.4"
  }
 },
 "nbformat": 4,
 "nbformat_minor": 2
}
