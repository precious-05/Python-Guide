{
 "cells": [
  {
   "cell_type": "markdown",
   "metadata": {},
   "source": [
    "# Copy vs view\n",
    "\n",
    "Changing copy array will not affect the original array:"
   ]
  },
  {
   "cell_type": "code",
   "execution_count": 2,
   "metadata": {},
   "outputs": [
    {
     "name": "stdout",
     "output_type": "stream",
     "text": [
      "original array is [1 2 3 4]\n",
      "Copy array is [1 2 3 4]\n",
      "Copy array after change is [6 7 8 9]\n",
      "original array after change in copy is [1 2 3 4]\n"
     ]
    }
   ],
   "source": [
    "import numpy as np\n",
    "org=np.array([1,2,3,4])\n",
    "co=org.copy()\n",
    "print(f\"original array is {org}\")\n",
    "print(f\"Copy array is {co}\")\n",
    "co[0:4:1]=[6,7,8,9]\n",
    "print(f\"Copy array after change is {co}\")\n",
    "print(f\"original array after change in copy is {org}\")\n"
   ]
  },
  {
   "cell_type": "markdown",
   "metadata": {},
   "source": [
    "Changing Original Array will not affect the copy array\n"
   ]
  },
  {
   "cell_type": "code",
   "execution_count": 3,
   "metadata": {},
   "outputs": [
    {
     "name": "stdout",
     "output_type": "stream",
     "text": [
      "original array is [1 2 3 4 5]\n",
      "Copy array is [1 2 3 4 5]\n",
      "Original array after change is [6 7 8 9 5]\n",
      "copy array after change in original is [1 2 3 4 5]\n"
     ]
    }
   ],
   "source": [
    "import numpy as np\n",
    "org=np.array([1,2,3,4,5])\n",
    "co=org.copy()\n",
    "print(f\"original array is {org}\")\n",
    "print(f\"Copy array is {co}\")\n",
    "org[0:4:1]=[6,7,8,9]\n",
    "print(f\"Original array after change is {org}\")\n",
    "print(f\"copy array after change in original is {co}\")\n"
   ]
  },
  {
   "cell_type": "markdown",
   "metadata": {},
   "source": [
    "Changing the view will affect the original array"
   ]
  },
  {
   "cell_type": "code",
   "execution_count": 4,
   "metadata": {},
   "outputs": [
    {
     "name": "stdout",
     "output_type": "stream",
     "text": [
      "Original array is[  0   7   8   9   5  99 100 400 500]\n",
      "The View array is [  0   7   8   9   5  99 100 400 500]\n",
      "View array after change is [ 0  1  1  2  3  5  8 13 21]\n",
      "Original array after change in view is [ 0  1  1  2  3  5  8 13 21]\n"
     ]
    }
   ],
   "source": [
    "import numpy as np\n",
    "org=np.array([0,7,8,9,5,99,100,400,500])\n",
    "vi=org.view()\n",
    "print(f\"Original array is{org}\")\n",
    "print(f\"The View array is {vi}\")\n",
    "vi[1:len(org):1]=[1,1,2,3,5,8,13,21]\n",
    "print(f\"View array after change is {vi}\")\n",
    "print(f\"Original array after change in view is {org}\")\n"
   ]
  },
  {
   "cell_type": "markdown",
   "metadata": {},
   "source": [
    "Changing Original array will affect the view"
   ]
  },
  {
   "cell_type": "code",
   "execution_count": 5,
   "metadata": {},
   "outputs": [
    {
     "name": "stdout",
     "output_type": "stream",
     "text": [
      "Original array is[  0   7   8   9   5  99 100 400 500]\n",
      "The View array is [  0   7   8   9   5  99 100 400 500]\n",
      "Original array after change is [ 0 22 22 22 22 22 22 22 22]\n",
      "View array after change in Original is [ 0 22 22 22 22 22 22 22 22]\n"
     ]
    }
   ],
   "source": [
    "import numpy as np\n",
    "org=np.array([0,7,8,9,5,99,100,400,500])\n",
    "vi=org.view()\n",
    "print(f\"Original array is{org}\")\n",
    "print(f\"The View array is {vi}\")\n",
    "org[1:len(org):1]=[22,22,22,22,22,22,22,22]\n",
    "print(f\"Original array after change is {org}\")\n",
    "print(f\"View array after change in Original is {vi}\")\n"
   ]
  },
  {
   "cell_type": "markdown",
   "metadata": {},
   "source": [
    "# Joining Numpy Arrays:\n",
    "Using Concatenate Function:\n",
    "\n",
    "Joining means putting contents of two or more arrays in a single array.\n",
    "\n",
    " We pass a sequence of arrays that we want to join to the concatenate() function, along with the axis. If axis is not explicitly passed, it is taken as 0.\n"
   ]
  },
  {
   "cell_type": "code",
   "execution_count": 6,
   "metadata": {},
   "outputs": [
    {
     "name": "stdout",
     "output_type": "stream",
     "text": [
      "[[1 2 5 6]\n",
      " [3 4 7 8]]\n"
     ]
    }
   ],
   "source": [
    "import numpy as np\n",
    "arr1 = np.array([[1, 2], [3, 4]])\n",
    "arr2 = np.array([[5, 6], [7, 8]])\n",
    "arr = np.concatenate((arr1, arr2), axis=1)\n",
    "print(arr)\n"
   ]
  },
  {
   "cell_type": "markdown",
   "metadata": {},
   "source": [
    "# stack()\n",
    "\n",
    "Stacking is same as concatenation, the only difference is that stacking is done along a new axis.\n",
    "We pass a sequence of arrays that we want to join to the stack() method along with the axis.\n",
    " If  axis is not explicitly passed it is taken as 0.\n"
   ]
  },
  {
   "cell_type": "code",
   "execution_count": 7,
   "metadata": {},
   "outputs": [
    {
     "name": "stdout",
     "output_type": "stream",
     "text": [
      "[[1 4]\n",
      " [2 5]\n",
      " [3 6]]\n"
     ]
    }
   ],
   "source": [
    "import numpy as np\n",
    "arr1 = np.array([1, 2, 3])\n",
    "arr2 = np.array([4, 5, 6])\n",
    "arr = np.stack((arr1, arr2), axis=1)\n",
    "print(arr)\n"
   ]
  },
  {
   "cell_type": "markdown",
   "metadata": {},
   "source": [
    "# hstack()"
   ]
  },
  {
   "cell_type": "code",
   "execution_count": 8,
   "metadata": {},
   "outputs": [
    {
     "name": "stdout",
     "output_type": "stream",
     "text": [
      "[1 2 3 4 5 6]\n"
     ]
    }
   ],
   "source": [
    "import numpy as np\n",
    "arr1 = np.array([1, 2, 3])\n",
    "arr2 = np.array([4, 5, 6])\n",
    "arr = np.hstack((arr1, arr2))\n",
    "print(arr)\n",
    "\n"
   ]
  },
  {
   "cell_type": "markdown",
   "metadata": {},
   "source": [
    "# vstack()"
   ]
  },
  {
   "cell_type": "code",
   "execution_count": 9,
   "metadata": {},
   "outputs": [
    {
     "name": "stdout",
     "output_type": "stream",
     "text": [
      "[[1 2 3]\n",
      " [4 5 6]]\n"
     ]
    }
   ],
   "source": [
    "import numpy as np\n",
    "arr1 = np.array([1, 2, 3])\n",
    "arr2 = np.array([4, 5, 6])\n",
    "arr = np.vstack((arr1, arr2))\n",
    "print(arr)\n"
   ]
  },
  {
   "cell_type": "markdown",
   "metadata": {},
   "source": [
    "# dstack()"
   ]
  },
  {
   "cell_type": "code",
   "execution_count": 10,
   "metadata": {},
   "outputs": [
    {
     "name": "stdout",
     "output_type": "stream",
     "text": [
      "[[[1 4]\n",
      "  [2 5]\n",
      "  [3 6]]]\n"
     ]
    }
   ],
   "source": [
    "import numpy as np\n",
    "arr1 = np.array([1, 2, 3])\n",
    "arr2 = np.array([4, 5, 6])\n",
    "arr = np.dstack((arr1, arr2))\n",
    "print(arr)\n"
   ]
  }
 ],
 "metadata": {
  "kernelspec": {
   "display_name": "Python 3",
   "language": "python",
   "name": "python3"
  },
  "language_info": {
   "codemirror_mode": {
    "name": "ipython",
    "version": 3
   },
   "file_extension": ".py",
   "mimetype": "text/x-python",
   "name": "python",
   "nbconvert_exporter": "python",
   "pygments_lexer": "ipython3",
   "version": "3.12.4"
  }
 },
 "nbformat": 4,
 "nbformat_minor": 2
}
