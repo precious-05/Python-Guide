{
 "cells": [
  {
   "cell_type": "code",
   "execution_count": 4,
   "metadata": {},
   "outputs": [
    {
     "name": "stdout",
     "output_type": "stream",
     "text": [
      "1D Array is: [0 1 2 3 4 5 6 7 8 9]\n",
      "Odd numbers are: [1 3 5 7 9]\n",
      "Replaced array with -1: [ 0 -1  2 -1  4 -1  6 -1  8 -1]\n",
      "Converted 1D to 2D Array is:\n",
      " [[ 0 -1  2 -1  4]\n",
      " [-1  6 -1  8 -1]]\n",
      "Vertically stacked arrays are:\n",
      " [[  1   3   5]\n",
      " [  4   6   7]\n",
      " [ 66  77  88]\n",
      " [ 33  79 100]]\n",
      "Horizontally stacked arrays are:\n",
      " [[  1   3   5  66  77  88]\n",
      " [  4   6   7  33  79 100]]\n"
     ]
    }
   ],
   "source": [
    "import numpy as np\n",
    "\n",
    "# Creating a 1D array \n",
    "\n",
    "arr = np.arange(10)\n",
    "print(\"1D Array is:\", arr) \n",
    "# Extracting odds from the array\n",
    "odds = arr[arr % 2 != 0]\n",
    "print(\"Odd numbers are:\", odds)\n",
    "\n",
    "# Replacing odds with -1\n",
    "arr[arr % 2 != 0] = -1                                                        \n",
    "print(\"Replaced array with -1:\", arr)\n",
    "\n",
    "# Creating a 2D array\n",
    "new2Darr = arr.reshape(2, 5) #-1 indicates total no of elements remain unchanged\n",
    "\"\"\"Reshape to 2D array: The method call arr.reshape(2, -1) is asking NumPy to reshape the array into 2 rows. \n",
    "The -1 tells NumPy to automatically calculate the number of columns that will be needed to fit all the elements.\n",
    "\n",
    "The original array has 10 elements.\n",
    "When reshaping to 2 rows, each row will need to have 10 / 2 = 5 columns.\n",
    "So, arr.reshape(2, -1) results in a 2x5 array.\n",
    "\"\"\"\n",
    "print(\"Converted 1D to 2D Array is:\\n\", new2Darr)\n",
    "\n",
    "# Creating lists\n",
    "List1 = [1, 3, 5]\n",
    "List2 = [4, 6, 7]\n",
    "List3 = [66, 77, 88]\n",
    "List4 = [33, 79, 100]\n",
    "\n",
    "# Creating 2D arrays\n",
    "x = np.array([List1, List2])\n",
    "y = np.array([List3, List4])\n",
    "\n",
    "# Stacking arrays vertically and horizontally\n",
    "vertical = np.vstack((x, y))\n",
    "horizontal = np.hstack((x, y))\n",
    "\n",
    "print(\"Vertically stacked arrays are:\\n\", vertical)\n",
    "print(\"Horizontally stacked arrays are:\\n\", horizontal)\n",
    "\n",
    "\n"
   ]
  },
  {
   "cell_type": "markdown",
   "metadata": {},
   "source": [
    "Part#2"
   ]
  },
  {
   "cell_type": "code",
   "execution_count": 24,
   "metadata": {},
   "outputs": [
    {
     "name": "stdout",
     "output_type": "stream",
     "text": [
      "Intersection of array 1 and array 2 is [2 3 4 5]\n",
      "Difference of array 1 and array 2 is [1]\n",
      "2D array with reversed coloums is:\n",
      " [[5 4 3]\n",
      " [1 2 1]\n",
      " [4 6 4]]\n",
      "2D array with random decimal numbers between 5 and 10 are :  [[7.66208539 7.29043815 7.11074849]\n",
      " [5.64104147 5.9440869  9.95704072]\n",
      " [8.47774492 5.81456166 7.51547818]\n",
      " [5.28897306 7.76250391 6.48687814]\n",
      " [6.95529722 9.22760694 9.457577  ]]\n",
      "5x5 matrix with values 1, 2, 3, 4 just below the diagonal:\n",
      " [[0 0 0 0 0]\n",
      " [1 0 0 0 0]\n",
      " [0 2 0 0 0]\n",
      " [0 0 3 0 0]\n",
      " [0 0 0 4 0]]\n"
     ]
    }
   ],
   "source": [
    "import numpy as np\n",
    "\n",
    "arr1=np.array([1,2,3,4,5])\n",
    "arr2=np.array([2,3,4,5,6])\n",
    "\n",
    "common=np.intersect1d(arr1,arr2)\n",
    "print(\"Intersection of array 1 and array 2 is\",common)\n",
    "\n",
    "#From array a remove all items present in array b\n",
    "diff=np.setdiff1d(arr1,arr2)\n",
    "print(\"Difference of array 1 and array 2 is\",diff)\n",
    "\n",
    "#Reverse the columns of a 2D array arr\n",
    "Arr2d=np.array([[3,4,5],[1,2,1],[4,6,4]])\n",
    "reColom=Arr2d[:,::-1]\n",
    "print(\"2D array with reversed coloums is:\\n\",reColom)\n",
    "\n",
    "randarr = np.random.uniform(5, 10, (5, 3))\n",
    "print(\"2D array with random decimal numbers between 5 and 10 are : \", randarr)\n",
    "\n",
    "#  Create a 5x5 matrix with values 1, 2, 3, 4 just below the diagonal\n",
    "matrix = np.diag(np.arange(1,5,1), k=-1)\n",
    "print(\"5x5 matrix with values 1, 2, 3, 4 just below the diagonal:\\n\", matrix)\n",
    "\n",
    "\n"
   ]
  },
  {
   "cell_type": "markdown",
   "metadata": {},
   "source": [
    "Part 3"
   ]
  },
  {
   "cell_type": "code",
   "execution_count": 25,
   "metadata": {},
   "outputs": [
    {
     "name": "stdout",
     "output_type": "stream",
     "text": [
      "Output pattern:\n",
      "[1 1 1 2 2 2 3 3 3] [1 2 3 1 2 3 1 2 3]\n"
     ]
    },
    {
     "data": {
      "text/plain": [
       "'Tiling is a concept in mathematics and computer science, particularly in the context\\nof arrays and matrices. In mathematics, tiling refers to covering a plane with one or more geometric \\nshapes without any gaps or overlaps. Similarly, in NumPy (and other programming contexts), tiling refers to the \\nprocess of repeating an array along specified dimensions to create a larger array.'"
      ]
     },
     "execution_count": 25,
     "metadata": {},
     "output_type": "execute_result"
    }
   ],
   "source": [
    "import numpy as np\n",
    "\n",
    "# Input array\n",
    "a = np.array([1, 2, 3])\n",
    "\n",
    "# Tile the array 'a' three times\n",
    "rep=np.repeat(a,3)\n",
    "output = np.tile(a, 3)\n",
    "\n",
    "print(\"Output pattern:\")\n",
    "print(rep,output)\n",
    "\n",
    "\n",
    "\"\"\"Tiling is a concept in mathematics and computer science, particularly in the context\n",
    "of arrays and matrices. In mathematics, tiling refers to covering a plane with one or more geometric \n",
    "shapes without any gaps or overlaps. Similarly, in NumPy (and other programming contexts), tiling refers to the \n",
    "process of repeating an array along specified dimensions to create a larger array.\"\"\""
   ]
  }
 ],
 "metadata": {
  "kernelspec": {
   "display_name": "Python 3",
   "language": "python",
   "name": "python3"
  },
  "language_info": {
   "codemirror_mode": {
    "name": "ipython",
    "version": 3
   },
   "file_extension": ".py",
   "mimetype": "text/x-python",
   "name": "python",
   "nbconvert_exporter": "python",
   "pygments_lexer": "ipython3",
   "version": "3.12.4"
  }
 },
 "nbformat": 4,
 "nbformat_minor": 2
}
