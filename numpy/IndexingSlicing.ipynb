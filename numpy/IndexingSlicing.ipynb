{
 "cells": [
  {
   "cell_type": "markdown",
   "metadata": {},
   "source": [
    "# Indexing of 1D Array\n",
    "Remember while catching the element in 1D array through index this is indexing and contain one value only no loop such as below example\n",
    "\n",
    "a[1] or a[2] e.t.c  or a[-1] to get elemnt in reverse\n",
    "\n",
    "There is only one value of index in indexing also there is no start, stop, step\n"
   ]
  },
  {
   "cell_type": "code",
   "execution_count": 7,
   "metadata": {},
   "outputs": [
    {
     "name": "stdout",
     "output_type": "stream",
     "text": [
      "With +ve indexing the array is [1 2 3 4 5]\n",
      "3\n"
     ]
    }
   ],
   "source": [
    "import numpy as np\n",
    "x=np.arange(1,6,1)\n",
    "print(f\"With +ve indexing the array is {x}\")\n",
    "print(x[2])\n",
    "\n",
    "#Remember while catching the element in 1D array through index this is indexing and contain one value only no loop such as above example"
   ]
  },
  {
   "cell_type": "markdown",
   "metadata": {},
   "source": [
    "# Indexing of 2D Array\n",
    "\n",
    "In 2D Array's Indexing there is indexing but no start stop step \n",
    "\n",
    "1st index is for row and 2nd index is for coloum\n",
    "\n",
    "Example: x[0,1]  \n",
    "\n",
    "# In slicing there is [1:1]  Colon b/w row and column while in Indexing there is [1,2] comma"
   ]
  },
  {
   "cell_type": "code",
   "execution_count": 2,
   "metadata": {},
   "outputs": [
    {
     "name": "stdout",
     "output_type": "stream",
     "text": [
      "[[9 8 7]\n",
      " [1 2 3]]\n",
      "9\n",
      "8\n",
      "7\n",
      "1\n",
      "2\n",
      "3\n"
     ]
    }
   ],
   "source": [
    "import numpy as np\n",
    "x=np.array([[9,8,7],[1,2,3]])\n",
    "print(x)\n",
    "print(x[0,0])\n",
    "print(x[0,1])\n",
    "print(x[0,2])\n",
    "print(x[1,0])\n",
    "print(x[1,1])\n",
    "print(x[1,2])"
   ]
  },
  {
   "cell_type": "markdown",
   "metadata": {},
   "source": [
    "# Indexing of 3D Array\n"
   ]
  },
  {
   "cell_type": "code",
   "execution_count": 2,
   "metadata": {},
   "outputs": [
    {
     "name": "stdout",
     "output_type": "stream",
     "text": [
      "[[[ 1  2  3]\n",
      "  [ 4  5  6]\n",
      "  [ 9 67 45]]]\n",
      "67\n"
     ]
    }
   ],
   "source": [
    "import numpy as np\n",
    "x=np.array([  [[1,2,3],\n",
    "              [4,5,6],\n",
    "              [9,67,45]] ])\n",
    "print(x)\n",
    "\n",
    "print(x[0,2,1])"
   ]
  },
  {
   "cell_type": "code",
   "execution_count": 4,
   "metadata": {},
   "outputs": [
    {
     "name": "stdout",
     "output_type": "stream",
     "text": [
      "[ 2  4  6  8 10]\n"
     ]
    }
   ],
   "source": [
    "import numpy as np\n",
    "x=np.array([1,2,3,4,5,6,7,8,9,10,11,12,13,14,15])\n",
    "x2=x[1:11:2]\n",
    "print(x2)"
   ]
  },
  {
   "cell_type": "code",
   "execution_count": 5,
   "metadata": {},
   "outputs": [
    {
     "name": "stdout",
     "output_type": "stream",
     "text": [
      "[[12 13 14]]\n"
     ]
    }
   ],
   "source": [
    "import numpy as np\n",
    "x=np.array([[1,2,3,4,5],\n",
    "            [6,7,8,9,10],\n",
    "            [11,12,13,14,15]])\n",
    "x2=x[2:3:1,1:4:1]\n",
    "print(x2)"
   ]
  },
  {
   "cell_type": "code",
   "execution_count": 16,
   "metadata": {},
   "outputs": [
    {
     "name": "stdout",
     "output_type": "stream",
     "text": [
      "[[[ 2  3  4]\n",
      "  [ 7  8  9]\n",
      "  [12 13 14]]]\n"
     ]
    }
   ],
   "source": [
    "import numpy as np\n",
    "x=np.array([[[1,2,3,4,5],\n",
    "             [6,7,8,9,10],\n",
    "             [11,12,13,14,15]]])\n",
    "x2=x[0:3:1,0:4:1,1:4:1]\n",
    "print(x2)"
   ]
  }
 ],
 "metadata": {
  "kernelspec": {
   "display_name": "Python 3",
   "language": "python",
   "name": "python3"
  },
  "language_info": {
   "codemirror_mode": {
    "name": "ipython",
    "version": 3
   },
   "file_extension": ".py",
   "mimetype": "text/x-python",
   "name": "python",
   "nbconvert_exporter": "python",
   "pygments_lexer": "ipython3",
   "version": "3.12.4"
  }
 },
 "nbformat": 4,
 "nbformat_minor": 2
}
