{
 "cells": [
  {
   "cell_type": "markdown",
   "metadata": {},
   "source": [
    "----------------------------------------------------Arrays in Numpy----------------------------------------------------------"
   ]
  },
  {
   "cell_type": "code",
   "execution_count": 6,
   "metadata": {},
   "outputs": [
    {
     "name": "stdout",
     "output_type": "stream",
     "text": [
      "[1 2 3]\n",
      "<class 'numpy.ndarray'>\n",
      "<class 'list'>\n",
      "<class 'module'>\n"
     ]
    }
   ],
   "source": [
    "import numpy as np\n",
    "x=[1,2,3]\n",
    "y=np.array(x)\n",
    "print(y)\n",
    "#Just writing y will show that it is an array it is a method to chk wether its an array or not\n",
    "print(type(y)) #Using type function will also tell the type of variable\n",
    "print(type(x))\n",
    "print(type(np))"
   ]
  },
  {
   "cell_type": "code",
   "execution_count": 31,
   "metadata": {},
   "outputs": [
    {
     "name": "stdout",
     "output_type": "stream",
     "text": [
      "List is [5, 5, 5, 5]\n",
      "Array is: [5 5 5 5]\n",
      "Shape of array is: (4,)\n",
      "Dimension of array is: 1\n"
     ]
    }
   ],
   "source": [
    "#Repeating the ame above program by taking user input\n",
    "import numpy as np\n",
    "L=[]\n",
    "for i in range(1,5):\n",
    "     num=int(input(f\"Enter the {i} value of list: \"))\n",
    "     #we write int with input function bcz it gives data as string\n",
    "     L.append(num)\n",
    "    \n",
    "print(\"List is\",L)   \n",
    "\n",
    "x=np.array(L)\n",
    "print(f\"Array is: {np.array(L)}\")\n",
    "print(f\"Shape of array is: {x.shape}\")#To see the no of rows & coloms\n",
    "print(f\"Dimension of array is: {x.ndim}\") #To see the dimensions of array\n",
    "\n",
    " \n",
    " "
   ]
  },
  {
   "cell_type": "code",
   "execution_count": 29,
   "metadata": {},
   "outputs": [
    {
     "name": "stdout",
     "output_type": "stream",
     "text": [
      "2d array is \n",
      " [[1 2 3]\n",
      " [4 7 8]]\n",
      "type is <class 'numpy.ndarray'>\n",
      "Shape is (2, 3)\n",
      "Dimension of arrray is 2\n"
     ]
    }
   ],
   "source": [
    "#Creating a 2D array\n",
    "import numpy as np\n",
    "d2=np.array([[1,2,3],[4,7,8]])\n",
    "print(f\"2d array is \\n {d2}\")\n",
    "print(f\"type is {type(d2)}\")\n",
    "print(f\"Shape is {d2.shape}\")\n",
    "print(f\"Dimension of arrray is {d2.ndim}\")\n"
   ]
  },
  {
   "cell_type": "code",
   "execution_count": 35,
   "metadata": {},
   "outputs": [
    {
     "name": "stdout",
     "output_type": "stream",
     "text": [
      "3D array is \n",
      " [[[1 2 3 4]]\n",
      "\n",
      " [[2 1 3 4]]\n",
      "\n",
      " [[2 3 1 4]]]\n",
      "Dimension of arrray is 3\n",
      "type is <class 'numpy.ndarray'>\n",
      "Shape is (3, 1, 4)\n"
     ]
    }
   ],
   "source": [
    "#3d array \n",
    "l1=[1,2,3,4]\n",
    "l2=[2,1,3,4]\n",
    "l3=[2,3,1,4]\n",
    "d3=np.array([[l1],[l2],[l3]])\n",
    "print(f\"3D array is \\n {d3}\")\n",
    "print(f\"Dimension of arrray is {d3.ndim}\")\n",
    "print(f\"type is {type(d3)}\")\n",
    "print(f\"Shape is {d3.shape}\")\n",
    "#Shape will be (3,1,4) where 3 is no of rows and 4 is no of columns \n",
    "\n"
   ]
  },
  {
   "cell_type": "code",
   "execution_count": 22,
   "metadata": {},
   "outputs": [
    {
     "name": "stdout",
     "output_type": "stream",
     "text": [
      "[1 2]\n"
     ]
    }
   ],
   "source": [
    "\n",
    "import numpy as np\n",
    "x=np.arange(0,8,1)\n",
    "print(x[1:3])\n"
   ]
  },
  {
   "cell_type": "code",
   "execution_count": 6,
   "metadata": {},
   "outputs": [
    {
     "name": "stdout",
     "output_type": "stream",
     "text": [
      "3\n"
     ]
    }
   ],
   "source": [
    "import numpy as np\n",
    "y=np.array([[[1,2,3],[4,5,6]],[[3,5,7],[4,6,8]],[[7,7,7],[9,9,9]]])\n",
    "print(y.ndim)"
   ]
  },
  {
   "cell_type": "code",
   "execution_count": 30,
   "metadata": {},
   "outputs": [
    {
     "name": "stdout",
     "output_type": "stream",
     "text": [
      "4\n"
     ]
    }
   ],
   "source": [
    "import numpy as np\n",
    "y=np.array([[[[1,2],[1,2]]] ,[[[1,2],[1,2]]],[[[1,2],[1,2]]],[[[1,2],[1,2]]]])\n",
    "print(y.ndim)"
   ]
  },
  {
   "cell_type": "markdown",
   "metadata": {},
   "source": [
    "-----------------------------------------------Reshaping & Shape in Arrays-----------------------------------------------"
   ]
  },
  {
   "cell_type": "code",
   "execution_count": 21,
   "metadata": {},
   "outputs": [
    {
     "name": "stdout",
     "output_type": "stream",
     "text": [
      "Array is\n",
      " [[1 2 4 5]\n",
      " [1 2 5 6]]\n",
      "Shape of array is (2, 4)\n"
     ]
    }
   ],
   "source": [
    "import numpy as np\n",
    "aray=np.array([[1,2,4,5],[1,2,5,6]])\n",
    "print(f\"Array is\\n {aray}\")\n",
    "print(f\"Shape of array is {aray.shape}\") #To see the no of rows & column\n",
    "\n",
    "\n"
   ]
  },
  {
   "cell_type": "code",
   "execution_count": 31,
   "metadata": {},
   "outputs": [
    {
     "name": "stdout",
     "output_type": "stream",
     "text": [
      "Multidimensional array is:\n",
      " [[[[0 0 0]]]]\n",
      "The shape of array is:\n",
      " (1, 1, 1, 3)\n",
      "The dimension of array is: 4\n"
     ]
    }
   ],
   "source": [
    "#Creating a Multi-Dimensional array using ndim attribute\n",
    "import numpy as np\n",
    "arr=np.array([0,0,0],ndmin=4)\n",
    "print(f\"Multidimensional array is:\\n {arr}\")\n",
    "print(f\"The shape of array is:\\n {arr.shape}\")\n",
    "print(f\"The dimension of array is: {arr.ndim}\")"
   ]
  },
  {
   "cell_type": "code",
   "execution_count": 40,
   "metadata": {},
   "outputs": [
    {
     "name": "stdout",
     "output_type": "stream",
     "text": [
      "Array before rehaping is:\n",
      "[1 2 3 4 5 6]\n",
      "Dimension is: 1\n",
      "Shape is (6,)\n",
      "array after reshaping\n",
      "[[1 2 3 4 5 6]]\n",
      "Dimension of array after reshaping 2\n"
     ]
    }
   ],
   "source": [
    "#Reshape \n",
    "import numpy as np\n",
    "arr=np.array([1,2,3,4,5,6])\n",
    "print(f\"Array before rehaping is:\\n{arr}\")\n",
    "print(f\"Dimension is: {arr.ndim}\")\n",
    "print(f\"Shape is {arr.shape}\")\n",
    "re=arr.reshape(1,6)\n",
    "print(f\"array after reshaping\\n{re}\")\n",
    "print(f\"Dimension of array after reshaping {re.ndim}\")\n"
   ]
  },
  {
   "cell_type": "code",
   "execution_count": 53,
   "metadata": {},
   "outputs": [
    {
     "name": "stdout",
     "output_type": "stream",
     "text": [
      "Array before rehaping is:\n",
      "[1 2 3 4 5 6]\n",
      "Dimension is: 1\n",
      "Shape is (6,)\n",
      "array after reshaping into 3D: \n",
      "[[[1 2]]\n",
      "\n",
      " [[3 4]]\n",
      "\n",
      " [[5 6]]]\n",
      "\n",
      "Dimension of array after reshaping 3\n",
      "\n",
      "array after reshaping [1 2 3 4 5 6]\n",
      "Dimension of array after reshaping 1\n"
     ]
    }
   ],
   "source": [
    "#3D array by 1D array using reshape Function\n",
    "import numpy as np\n",
    "arr=np.array([1,2,3,4,5,6])\n",
    "print(f\"Array before rehaping is:\\n{arr}\")\n",
    "print(f\"Dimension is: {arr.ndim}\")\n",
    "print(f\"Shape is {arr.shape}\")\n",
    "re=arr.reshape(3,1,2)\n",
    "print(f\"array after reshaping into 3D: \\n{re}\")\n",
    "print(f\"Dimension of array after reshaping {re.ndim}\\n\")\n",
    "\n",
    "#Recreating 1D array to 1D Array\n",
    "re=arr.reshape(6,)\n",
    "print(f\"array after reshaping {re}\")\n",
    "print(f\"Dimension of array after reshaping {re.ndim}\")\n"
   ]
  },
  {
   "cell_type": "code",
   "execution_count": 54,
   "metadata": {},
   "outputs": [
    {
     "name": "stdout",
     "output_type": "stream",
     "text": [
      "Array before rehaping is:\n",
      "[1 2 3 4 5 6]\n",
      "Dimension is: 1\n",
      "Shape is (6,)\n",
      "array after reshaping into 3D: \n",
      "[[[1 2]]\n",
      "\n",
      " [[3 4]]\n",
      "\n",
      " [[5 6]]]\n",
      "Dimension of array after reshaping 3\n",
      "\n",
      "array after reshaping [1 2 3 4 5 6]\n",
      "Dimension of array after reshaping 1\n",
      "Shape of array after reshaping (6,)\n"
     ]
    }
   ],
   "source": [
    "#3D array by 1D array using reshape Function\n",
    "import numpy as np\n",
    "arr=np.array([1,2,3,4,5,6])\n",
    "print(f\"Array before rehaping is:\\n{arr}\")\n",
    "print(f\"Dimension is: {arr.ndim}\")\n",
    "print(f\"Shape is {arr.shape}\")\n",
    "re=arr.reshape(3,1,2)\n",
    "print(f\"array after reshaping into 3D: \\n{re}\")\n",
    "print(f\"Dimension of array after reshaping {re.ndim}\\n\")\n",
    "\n",
    "#Recreating 1D array to 1D Array\n",
    "re=arr.reshape(6,)\n",
    "print(f\"array after reshaping {re}\")\n",
    "print(f\"Dimension of array after reshaping {re.ndim}\")\n",
    "print(f\"Shape of array after reshaping {re.shape}\")\n"
   ]
  },
  {
   "cell_type": "markdown",
   "metadata": {},
   "source": [
    "-------------------------------------------------Slicing & -ve indexing of arrays----------------------------------------"
   ]
  },
  {
   "cell_type": "code",
   "execution_count": 12,
   "metadata": {},
   "outputs": [
    {
     "name": "stdout",
     "output_type": "stream",
     "text": [
      "[1 0 0 0 0 6 7 8 9]\n",
      "[9 7 5 3 1]\n"
     ]
    }
   ],
   "source": [
    "import numpy as np\n",
    "list=[1,2,3,4,5,6,7,8,9]\n",
    "a=np.array(list)\n",
    "#Modifying elements using slicing\n",
    "a[1:5]=0\n",
    "print(a)\n",
    "#print(a[0:2:1])\n",
    "#print(a[-3])\n",
    "#print(a[-1])\n",
    "#print(a[-2])    import numpy as np\n",
    "x=np.arange(10)\n",
    "print(x[-1:-10:-2])\n"
   ]
  },
  {
   "cell_type": "code",
   "execution_count": 41,
   "metadata": {},
   "outputs": [
    {
     "name": "stdout",
     "output_type": "stream",
     "text": [
      "[ 1  2  3  4  5  6  7  9 55 33]\n",
      "[ 1  3  5  7 55]\n",
      "[           6            7            9           55           33\n",
      "           44           56           12          347         7623\n",
      "           74          768          847          838           56\n",
      "          888         9574      2787348       552355    343433443\n",
      " 282227637763      8733782]\n",
      "[        1         3         5         7        55        44        12\n",
      "      7623       768       838       888   2787348 343433443   8733782] \n",
      "\n",
      "\n",
      "[           1            2            3            4            5\n",
      "            6            7            9           55           33\n",
      "           44           56           12          347         7623\n",
      "           74          768          847          838           56\n",
      "          888         9574      2787348       552355    343433443\n",
      " 282227637763      8733782]\n"
     ]
    }
   ],
   "source": [
    "import numpy as np\n",
    "#Slicing\n",
    "a=np.array([1,2,3,4,5,6,7,9,55,33,44,56,12,347,7623,74,768,847,838,56,888,9574,2787348,552355,343433443,282227637763,8733782])\n",
    "x=a[0:10] #Sart,Stop \n",
    "y=a[0:10:2] #Start, Stop , Step\n",
    "z=a[5:]#Starting from 5 to end of the array\n",
    "b=a[::2]#Start and stop are not specified bcz we want to add start + end value by stepping with 2\n",
    "print(x)\n",
    "print(y)\n",
    "print(z)\n",
    "#print(b,\"\\n\\n\")\n",
    "#print(a)"
   ]
  },
  {
   "cell_type": "markdown",
   "metadata": {},
   "source": [
    "-----------------------------------------------------Slicing in 2D Array----------------------------------------------------"
   ]
  },
  {
   "cell_type": "code",
   "execution_count": 31,
   "metadata": {},
   "outputs": [
    {
     "name": "stdout",
     "output_type": "stream",
     "text": [
      "Dimension is: 2\n",
      "\n",
      "[[1 2 3 4 5]\n",
      " [4 5 6 8 3]\n",
      " [7 8 9 0 0]]\n",
      "From 5-8:\n",
      " [[3 8 6 5]]\n",
      "index of 3rd coloumn is: 7\n"
     ]
    }
   ],
   "source": [
    "import numpy as np\n",
    "a=np.array([[1,2,3,4,5],[4,5,6,8,3],[7,8,9,0,0]])\n",
    "print(f\"Dimension is: {a.ndim}\\n\")\n",
    "print(a)\n",
    "\n",
    "print(f\"From 5-8:\\n {a[1:2:1,-1:-5:-1]}\") \n",
    "print(\"index of 3rd coloumn is:\",a[2,0])\n",
    "#Syntax\n",
    "# array[row_start : row_stop : row_step,  col_start:col_stop : col_step]\n",
    "\n",
    "#Remember in 2D Array when slicing.... in 1st part specify the indexes with comma as we know\n",
    "#in 2D array row & colom index is specified... So, 1,1 means Start from the value at index 1,1"
   ]
  },
  {
   "cell_type": "markdown",
   "metadata": {},
   "source": [
    "------------------------------------------Reversing Rows & Coloums of 2D Arrays--------------------------------------------"
   ]
  },
  {
   "cell_type": "code",
   "execution_count": 4,
   "metadata": {},
   "outputs": [
    {
     "name": "stdout",
     "output_type": "stream",
     "text": [
      "Array is:\n",
      "[[ 1  2  3  4  5]\n",
      " [ 5  4  3  2  1]\n",
      " [ 6  7  8  9 10]\n",
      " [10  9  8  7  6]]\n",
      "Array with reversed rows is:\n",
      " [[10  9  8  7  6]\n",
      " [ 6  7  8  9 10]\n",
      " [ 5  4  3  2  1]\n",
      " [ 1  2  3  4  5]] \n",
      "Array is:\n",
      " [[[3 4 5]]\n",
      "\n",
      " [[1 2 1]]\n",
      "\n",
      " [[4 6 4]]]\n",
      "Array is:\n",
      " [[5 4 3]\n",
      " [1 2 1]\n",
      " [4 6 4]]\n"
     ]
    }
   ],
   "source": [
    "import numpy as np\n",
    "arr=np.array([[1,2,3,4,5],[5,4,3,2,1],[6,7,8,9,10],[10,9,8,7,6]])\n",
    "print(f\"Array is:\\n{arr}\")\n",
    "print(f\"Array with reversed rows is:\\n {arr[-1:-5:-1,::1]} \")\n",
    "\n",
    "\n",
    "\n",
    "\n",
    "\n",
    "List1=[3,4,5] \n",
    "List2=[1,2,1] \n",
    "List3=[4,6,4]\n",
    "Arr2d=np.array([[List1],[List2],[List3]])\n",
    "reColom=Arr2d[:,::-1]\n",
    "print(\"Array is:\\n\",reColom)   \n",
    "\n",
    "\n",
    "\n",
    "\n",
    "Arr1=np.array([[3,4,5],\n",
    "               [1,2,1],\n",
    "               [4,6,4]])\n",
    "re1=Arr1[:,::-1]\n",
    "print(\"Array is:\\n\",re1)   "
   ]
  },
  {
   "cell_type": "code",
   "execution_count": 37,
   "metadata": {},
   "outputs": [
    {
     "name": "stdout",
     "output_type": "stream",
     "text": [
      "[1 2 3 4]\n",
      "int32\n"
     ]
    }
   ],
   "source": [
    "import numpy as np\n",
    "\n",
    "arr = np.array([1, 2, 3, 4], dtype='i')\n",
    "\n",
    "print(arr)\n",
    "print(arr.dtype)\n"
   ]
  },
  {
   "cell_type": "code",
   "execution_count": 58,
   "metadata": {},
   "outputs": [
    {
     "name": "stdout",
     "output_type": "stream",
     "text": [
      "[1 2 3 4 5 6]\n"
     ]
    }
   ],
   "source": [
    "import numpy as np\n",
    "\n",
    "arr = np.array([[[1, 2, 3]], [[4, 5, 6]]])\n",
    "\n",
    "narr = arr.reshape(-1)\n",
    "\n",
    "print(narr) #Flatterring is converting multidimensional array into 1d array"
   ]
  }
 ],
 "metadata": {
  "kernelspec": {
   "display_name": "Python 3",
   "language": "python",
   "name": "python3"
  },
  "language_info": {
   "codemirror_mode": {
    "name": "ipython",
    "version": 3
   },
   "file_extension": ".py",
   "mimetype": "text/x-python",
   "name": "python",
   "nbconvert_exporter": "python",
   "pygments_lexer": "ipython3",
   "version": "3.12.4"
  }
 },
 "nbformat": 4,
 "nbformat_minor": 2
}
