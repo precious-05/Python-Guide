{
 "cells": [
  {
   "cell_type": "markdown",
   "metadata": {},
   "source": [
    "----------------------------------------------------Arrays in Numpy----------------------------------------------------------"
   ]
  },
  {
   "cell_type": "code",
   "execution_count": null,
   "metadata": {},
   "outputs": [],
   "source": [
    "import numpy as np\n",
    "x=[1.,2.,3.]\n",
    "y=np.array(x)\n",
    "print(y)\n",
    "#Just writing y will show that it is an array it is a method to chk wether its an array or not\n",
    "print(type(y)) #Using type function will also tell the type of variable\n",
    "print(type(x))\n",
    "print(type(np))\n",
    "print(y.dtype)"
   ]
  },
  {
   "cell_type": "code",
   "execution_count": null,
   "metadata": {},
   "outputs": [],
   "source": [
    "import numpy as np\n",
    "#Ceate a numpy array using tuple and check its type and array dtype\n",
    "tup=(1,2,3,4,5)\n",
    "arr=np.array((tup))\n",
    "print(arr)\n",
    "print(f\"Dimension is {arr.ndim}\")\n",
    "\n",
    "print(\"\\n\")\n",
    "\n",
    "L=[1,2,3,4,5]\n",
    "aray=np.array([L])\n",
    "z=np.array(((1, 2, 3, 4),))\n",
    "print(z)\n",
    "print(z.ndim)\n",
    "print(aray)\n",
    "print(f\"Dimesnsion is {aray.ndim}\")\n",
    "\n",
    "#arr3=np.array(((1,2,3)))\n",
    "#print(arr3.ndim)\n"
   ]
  },
  {
   "cell_type": "code",
   "execution_count": null,
   "metadata": {},
   "outputs": [],
   "source": [
    "import numpy as np\n",
    "#Creating 1D array using List\n",
    "aray1=np.array([1,2,3,4,5])\n",
    "\n",
    "\n",
    "#Creating array using tuple\n",
    "aray2=np.array((1,2,3.,4,5.))\n",
    "\n",
    "\n",
    "#Checking the data-types and types  of array oject and arrays\n",
    "print(type(aray1))\n",
    "print(type(aray2))\n",
    "\n",
    "print(aray1.dtype)\n",
    "print(aray2.dtype)\n",
    "\n",
    "\n",
    "# Creating a 2D array using List\n",
    "L=[1,2,3,4,5]\n",
    "aray3=np.array([L])\n",
    "print(aray3)\n",
    "\n",
    "\n",
    "#Creating a 2d Array using Tuple\n",
    "t=((1,2,3,4,5),)\n",
    "#To separate a tuple inside a tuple we hae to put comma inside it\n",
    "aray4=np.array((t,))\n",
    "print(aray4)\n"
   ]
  },
  {
   "cell_type": "code",
   "execution_count": null,
   "metadata": {},
   "outputs": [],
   "source": [
    "import numpy as np\n",
    "#Creating arrays using tuples\n",
    "\n",
    "a=np.array((1,2,3,4,5))\n",
    "b=np.array(((1,2,3,4,5),))\n",
    "c=np.array(  (((1,2,3,4,5),(1,2,3,4,5)),)   )\n",
    "d=np.array(    ((  ((1,2,3,4,5)  )),)   )\n",
    "print(a.ndim)\n",
    "print(b.ndim)\n",
    "print(c.ndim)\n",
    "print(d.ndim)\n",
    "\n",
    "\n",
    "#In tuples we cannot determine the dimension by counting the number of brackets"
   ]
  },
  {
   "cell_type": "code",
   "execution_count": null,
   "metadata": {},
   "outputs": [],
   "source": [
    "#Repeating the same above program by taking user input\n",
    "import numpy as np\n",
    "L=[]\n",
    "for i in range(1,5):\n",
    "     num=int(input(f\"Enter the {i} value of list: \"))\n",
    "     #we write int with input function bcz it gives data as string\n",
    "     L.append(num)\n",
    "    \n",
    "print(\"List is\",L)   \n",
    "\n",
    "x=np.array(L)\n",
    "print(f\"Array is: {np.array(L)}\")\n",
    "print(f\"Shape of array is: {x.shape}\")#To see the no of rows & coloms\n",
    "print(f\"Dimension of array is: {x.ndim}\") #To see the dimensions of array\n",
    "\n",
    " \n",
    " "
   ]
  },
  {
   "cell_type": "code",
   "execution_count": null,
   "metadata": {},
   "outputs": [],
   "source": [
    "#Creating a 2D array\n",
    "import numpy as np\n",
    "d2=np.array([[1,2,3],[4,7,8]])\n",
    "print(f\"2d array is \\n {d2}\")\n",
    "print(f\"type is {type(d2)}\")\n",
    "print(f\"Shape is {d2.shape}\")\n",
    "print(f\"Dimension of arrray is {d2.ndim}\")\n"
   ]
  },
  {
   "cell_type": "code",
   "execution_count": null,
   "metadata": {},
   "outputs": [],
   "source": [
    "#3d array \n",
    "import  numpy as np\n",
    "l1=[1,2,3,4]\n",
    "l2=[2,1,3,4]\n",
    "l3=[2,3,1,4]\n",
    "d3=np.array([[l1],[l2],[l3]])\n",
    "print(f\"3D array is \\n {d3}\")\n",
    "print(f\"Dimension of arrray is {d3.ndim}\")\n",
    "print(f\"type is {type(d3)}\")\n",
    "print(f\"Shape is {d3.shape}\")\n",
    "#Shape will be (3,1,4) where\n",
    "#3: Represents the number of slices (or depth), so there are 3 separate 2D arrays.\n",
    "#1: Represents the number of rows in each slice, so each slice contains 1 row.\n",
    "#4: Represents the number of columns in each row, so each row has 4 columns.\n",
    "\n",
    "\n",
    "\n",
    "#Example in a shape of 3D array\n",
    "\n",
    "#(2,3,4)\n",
    "#2 is the number of \"slices\" or depth,\n",
    "#3 is the number of rows in each slice,\n",
    "#4 is the number of columns in each row.\n",
    "\n"
   ]
  },
  {
   "cell_type": "code",
   "execution_count": null,
   "metadata": {},
   "outputs": [],
   "source": [
    "import numpy as np\n",
    "\n",
    "# Create a 1D array\n",
    "array = np.arange(24)  # Array with 24 elements\n",
    "\n",
    "# Reshape to a 3D array with shape (2, 3, 4)\n",
    "reshaped_array = array.reshape((2, 3, 4))\n",
    "\n",
    "print(reshaped_array)\n",
    "print(f\"Shape is {reshaped_array.shape}\")\n"
   ]
  },
  {
   "cell_type": "code",
   "execution_count": null,
   "metadata": {},
   "outputs": [],
   "source": [
    "import numpy as np #Reshaping 1D Array to 2D Array & 3D array\n",
    "arr=np.array([1,2,3,4,5])\n",
    "#print(arr.reshape(5,2))\n",
    "#AS Here there are 5 elements in 1D array so when reshaping  as (5*2)!=5 so it generates error\n",
    "\n",
    "print(arr.reshape(5,1,1))"
   ]
  },
  {
   "cell_type": "code",
   "execution_count": null,
   "metadata": {},
   "outputs": [],
   "source": [
    "#Reshaping a 2D array in 3D array and 1D array\n",
    "import numpy as np\n",
    "a=np.array([[1,2,3],[1,2,3],[1,2,3],[1,2,3],[1,2,3],[16,17,18]])\n",
    "print(a.reshape(2,3,3))\n",
    "\n",
    "#Reshaping 2D in 1D\n",
    "print(f\"\\n{a.reshape(18,)}\")\n",
    "\n",
    "\n",
    "#Comma represents that it is a tuple not a single integer   :)"
   ]
  },
  {
   "cell_type": "code",
   "execution_count": null,
   "metadata": {},
   "outputs": [],
   "source": [
    "#Reshaping a 3D array in 1D and 2D Array\n",
    "import numpy as np\n",
    "a=np.array([[[1,2,3,4,5]],[[1,2,3,4,5]],[[1,2,3,4,5]]])\n",
    "print(a.reshape(3,5))\n",
    "\n",
    "print(\"\\n\")\n",
    "\n",
    "print(a.reshape(15,))"
   ]
  },
  {
   "cell_type": "code",
   "execution_count": null,
   "metadata": {},
   "outputs": [],
   "source": [
    "\n",
    "import numpy as np\n",
    "x=np.arange(0,8,1)\n",
    "print(x[1:3])\n"
   ]
  },
  {
   "cell_type": "code",
   "execution_count": null,
   "metadata": {},
   "outputs": [],
   "source": [
    "import numpy as np\n",
    "y=np.array([[[1,2,3],[4,5,6]],[[3,5,7],[4,6,8]],[[7,7,7],[9,9,9]]])\n",
    "print(y.ndim)"
   ]
  },
  {
   "cell_type": "code",
   "execution_count": null,
   "metadata": {},
   "outputs": [],
   "source": [
    "import numpy as np\n",
    "y=np.array([[[[1,2],[1,2]]] ,[[[1,2],[1,2]]],[[[1,2],[1,2]]],[[[1,2],[1,2]]]])\n",
    "print(y.ndim)"
   ]
  },
  {
   "cell_type": "markdown",
   "metadata": {},
   "source": [
    "               -----------------------------------------------Reshaping & Shape in Arrays-----------------------------------------------"
   ]
  },
  {
   "cell_type": "code",
   "execution_count": null,
   "metadata": {},
   "outputs": [],
   "source": [
    "import numpy as np\n",
    "aray=np.array([[1,2,4,5],[1,2,5,6]])\n",
    "print(f\"Array is\\n {aray}\")\n",
    "print(f\"Shape of array is {aray.shape}\") #To see the no of rows & column\n",
    "\n",
    "\n"
   ]
  },
  {
   "cell_type": "code",
   "execution_count": null,
   "metadata": {},
   "outputs": [],
   "source": [
    "#Creating a Multi-Dimensional array using ndim attribute\n",
    "import numpy as np\n",
    "arr=np.array([0,0,0],ndmin=4)\n",
    "print(f\"Multidimensional array is:\\n {arr}\")\n",
    "print(f\"The shape of array is:\\n {arr.shape}\")\n",
    "print(f\"The dimension of array is: {arr.ndim}\")"
   ]
  },
  {
   "cell_type": "code",
   "execution_count": null,
   "metadata": {},
   "outputs": [],
   "source": [
    "#Reshape \n",
    "import numpy as np\n",
    "arr=np.array([1,2,3,4,5,6])\n",
    "print(f\"Array before rehaping is:\\n{arr}\")\n",
    "print(f\"Dimension is: {arr.ndim}\")\n",
    "print(f\"Shape is {arr.shape}\")\n",
    "re=arr.reshape(2,3)\n",
    "print(f\"array after reshaping\\n{re}\")\n",
    "print(f\"Dimension of array after reshaping {re.ndim}\")\n"
   ]
  },
  {
   "cell_type": "code",
   "execution_count": null,
   "metadata": {},
   "outputs": [],
   "source": [
    "#3D array by 1D array using reshape Function\n",
    "import numpy as np\n",
    "arr=np.array([1,2,3,4,5,6])\n",
    "print(f\"Array before rehaping is:\\n{arr}\")\n",
    "print(f\"Dimension is: {arr.ndim}\")\n",
    "print(f\"Shape is {arr.shape}\")\n",
    "re=arr.reshape(3,1,2)\n",
    "print(f\"array after reshaping into 3D: \\n{re}\")\n",
    "print(f\"Dimension of array after reshaping {re.ndim}\\n\")\n",
    "\n",
    "#Recreating 1D array to 1D Array\n",
    "re=arr.reshape(6,)\n",
    "print(f\"array after reshaping {re}\")\n",
    "print(f\"Dimension of array after reshaping {re.ndim}\")\n"
   ]
  },
  {
   "cell_type": "code",
   "execution_count": null,
   "metadata": {},
   "outputs": [],
   "source": [
    "#3D array by 1D array using reshape Function\n",
    "import numpy as np\n",
    "arr=np.array([1,2,3,4,5,6])\n",
    "print(f\"Array before rehaping is:\\n{arr}\")\n",
    "print(f\"Dimension is: {arr.ndim}\")\n",
    "print(f\"Shape is {arr.shape}\")\n",
    "re=arr.reshape(3,1,2)\n",
    "print(f\"array after reshaping into 3D: \\n{re}\")\n",
    "print(f\"Dimension of array after reshaping {re.ndim}\\n\")\n",
    "\n",
    "#Recreating 1D array to 1D Array\n",
    "re=arr.reshape(6,)\n",
    "print(f\"array after reshaping {re}\")\n",
    "print(f\"Dimension of array after reshaping {re.ndim}\")\n",
    "print(f\"Shape of array after reshaping {re.shape}\")\n",
    "\n",
    "#reshape: Changes the shape of an existing array while keeping the number of elements constant.\n",
    "#ndmin: Ensures a new array has a minimum number of dimensions, potentially adding extra dimensions if needed.\n",
    "\n",
    "\n"
   ]
  },
  {
   "cell_type": "markdown",
   "metadata": {},
   "source": [
    "-------------------------------------------------Slicing & -ve indexing of arrays----------------------------------------"
   ]
  },
  {
   "cell_type": "code",
   "execution_count": null,
   "metadata": {},
   "outputs": [],
   "source": [
    "import numpy as np\n",
    "list=[1,2,3,4,5,6,7,8,9]\n",
    "a=np.array(list)\n",
    "#Modifying elements using slicing\n",
    "a[1:5]=0\n",
    "print(a)\n",
    "#print(a[0:2:1])\n",
    "#print(a[-3])\n",
    "#print(a[-1])\n",
    "#print(a[-2])    import numpy as np\n",
    "x=np.arange(10)\n",
    "print(x[-1:-10:-2])\n"
   ]
  },
  {
   "cell_type": "code",
   "execution_count": null,
   "metadata": {},
   "outputs": [],
   "source": [
    "#Indexing of 1D array\n",
    "import numpy as np\n",
    "n=np.array([1,2,3,4,5])\n",
    "print(n[0])\n",
    "print(n[1])\n",
    "print(n[2])\n",
    "print(n[3])\n",
    "print(n[4])"
   ]
  },
  {
   "cell_type": "code",
   "execution_count": null,
   "metadata": {},
   "outputs": [],
   "source": [
    "#Indexing of 2D Array\n",
    "#In a 2D array, indexing by a single index (like n[0]) returns the entire row at that index:\n",
    "import numpy as np\n",
    "n=np.array([[1,2,3,4,5],\n",
    "            [1,2,3,4,5],\n",
    "            [1,2,3,4,5],\n",
    "            [1,2,3,4,5],\n",
    "            [1,2,3,4,5]])\n",
    "\n",
    "print(n[0])\n",
    "print(n[1])\n",
    "print(n[2])\n",
    "print(n[3])\n",
    "print(n[4])\n",
    "\n",
    "\n",
    "print(\"\\n To access elements of each row\")\n",
    "print(n[0,0])\n",
    "print(n[1,0])\n",
    "print(n[2,0])\n",
    "print(n[3,4])\n",
    "print(n[4,0])\n",
    "\n",
    "\n"
   ]
  },
  {
   "cell_type": "code",
   "execution_count": null,
   "metadata": {},
   "outputs": [],
   "source": [
    "#Indexing of 3D Array\n",
    "import numpy as np\n",
    "n=np.array([[[1,2,3]],[[1,2,9]],[[1,2,2]]])\n",
    "print(n[0,0]) #0 indx slice with 0 index row\n",
    "print(n[1])\n",
    "print(n[2])\n",
    "\n",
    "print(\"\\n\")\n",
    "#Here 0 is the index of 1st slice , within this slice there is only one row so this row has index 0, and foe this row the last elelment 3 has indx 2\n",
    "print(n[1,0,2])"
   ]
  },
  {
   "cell_type": "markdown",
   "metadata": {},
   "source": [
    "----------------------------------------------------Slicing of 1D Array---------------------------------------------------------"
   ]
  },
  {
   "cell_type": "code",
   "execution_count": null,
   "metadata": {},
   "outputs": [],
   "source": [
    "import numpy as np\n",
    "#Slicing\n",
    "a=np.array([1,2,3,4,5,6,7,9,55,33,44,56,12,347,7623,74,768,847,838,56,888,9574,2787348,552355,343433443,282227637763,8733782])\n",
    "x=a[0:10] #Sart,Stop \n",
    "y=a[0:10:2] #Start, Stop , Step\n",
    "z=a[5:]#Starting from 5 to end of the array\n",
    "b=a[::2]#Start and stop are not specified bcz we want to add start + end value by stepping with 2\n",
    "print(x)\n",
    "print(y)\n",
    "print(z)\n",
    "#print(b,\"\\n\\n\")\n",
    "#print(a)"
   ]
  },
  {
   "cell_type": "code",
   "execution_count": null,
   "metadata": {},
   "outputs": [],
   "source": [
    "import numpy as np\n",
    "n=np.array([1,2,3,4,5,6,7,8,9,0,100,64,6785,765755])\n",
    "#start,stop,step\n",
    "y=n[1:13:1]\n",
    "print(y)\n",
    "\n"
   ]
  },
  {
   "cell_type": "markdown",
   "metadata": {},
   "source": [
    "-----------------------------------------------------Slicing in 2D Array----------------------------------------------------"
   ]
  },
  {
   "cell_type": "code",
   "execution_count": null,
   "metadata": {},
   "outputs": [],
   "source": [
    "import numpy as np\n",
    "a=np.array([[1,2,3,4,5],[4,5,6,8,3],[7,8,9,0,0]])\n",
    "print(f\"Dimension is: {a.ndim}\\n\")\n",
    "print(a)\n",
    "\n",
    "print(f\"From 5-8:\\n {a[1:2:1,-1:-5:-1]}\") \n",
    "print(\"index of 3rd coloumn is:\",a[2,0])\n",
    "#Syntax\n",
    "# array[row_start : row_stop : row_step,  col_start:col_stop : col_step]\n",
    "\n",
    "#Remember in 2D Array when slicing.... in 1st part specify the indexes with comma as we know\n",
    "#in 2D array row & colom index is specified... So, 1,1 means Start from the value at index 1,1"
   ]
  },
  {
   "cell_type": "code",
   "execution_count": null,
   "metadata": {},
   "outputs": [],
   "source": [
    "#Slicing of 2D arrays\n",
    "import numpy as np\n",
    "x=np.array([[1,2,3,4],\n",
    "            [5,6,7,81],\n",
    "            [9,10,11,12]])\n",
    "\n",
    "#Fetching the 3 elements of 1st row\n",
    "y=x[0:1:1,0:3:1]\n",
    "print(y)\n",
    "\n",
    "#Fetching the elements of 3rd column\n",
    "yy=x[0:3:1,3:4:1]\n",
    "print(yy)\n",
    "\n",
    "\n",
    "\n"
   ]
  },
  {
   "cell_type": "code",
   "execution_count": 3,
   "metadata": {},
   "outputs": [
    {
     "name": "stdout",
     "output_type": "stream",
     "text": [
      "[[[ 3  4  5]]\n",
      "\n",
      " [[ 8  9 10]]\n",
      "\n",
      " [[ 9  5  6]]]\n",
      "\n",
      "[[[9 5 6]]]\n"
     ]
    }
   ],
   "source": [
    "#Slicing of 3D Arrays\n",
    "import numpy as np\n",
    "c=np.array([[[1,2,3,4,5]],\n",
    "            [[6,7,8,9,10]],\n",
    "            [[7,8,9,5,6]]])\n",
    "\n",
    "#Fetching the last 3 elements of 2nd slice\n",
    "v=c[0:3:1,0:1:1,2:5:1]\n",
    "print(v)\n",
    "print(f\"\\n{c[2:3:1,0:1:1,2:5:1]}\")"
   ]
  },
  {
   "cell_type": "markdown",
   "metadata": {},
   "source": [
    "------------------------------------------Reversing Rows & Coloums of 2D Arrays--------------------------------------------"
   ]
  },
  {
   "cell_type": "code",
   "execution_count": null,
   "metadata": {},
   "outputs": [],
   "source": [
    "import numpy as np\n",
    "arr=np.array([[1,2,3,4,5],[5,4,3,2,1],[6,7,8,9,10],[10,9,8,7,6]])\n",
    "print(f\"Array is:\\n{arr}\")\n",
    "print(f\"Array with reversed rows is:\\n {arr[-1:-5:-1,::1]} \")\n",
    "\n",
    "\n",
    "\n",
    "\n",
    "\n",
    "List1=[3,4,5] \n",
    "List2=[1,2,1] \n",
    "List3=[4,6,4]\n",
    "Arr2d=np.array([[List1],[List2],[List3]])\n",
    "reColom=Arr2d[:,:,::-1]\n",
    "print(\"Array is:\\n\",reColom)   \n",
    "\n",
    "\n",
    "\n",
    "\n",
    "Arr1=np.array([[3,4,5],\n",
    "               [1,2,1],\n",
    "               [4,6,4]])\n",
    "re1=Arr1[:,::-1]\n",
    "print(\"Array is:\\n\",re1)   "
   ]
  },
  {
   "cell_type": "code",
   "execution_count": 17,
   "metadata": {},
   "outputs": [
    {
     "name": "stdout",
     "output_type": "stream",
     "text": [
      "[[ 1  1  1]\n",
      " [63 64 65]\n",
      " [43 44 45]\n",
      " [33 34 35]]\n",
      "\n",
      " [[35 34 33]\n",
      " [45 44 43]\n",
      " [65 64 63]\n",
      " [ 1  1  1]]\n"
     ]
    }
   ],
   "source": [
    "#Reversing rows and columns in numpy array\n",
    "import numpy as np\n",
    "o=np.array([[33,34,35],\n",
    "            [43,44,45],\n",
    "            [63,64,65],\n",
    "            [1,  1,  1]])\n",
    "#reversing rows\n",
    "r=o[-1:-5:-1,0:4:1]\n",
    "print(r)\n",
    "\n",
    "#reversing columns\n",
    "rc=o[0:4:1,-1:-4:-1]\n",
    "print(f\"\\n {rc}\")\n"
   ]
  },
  {
   "cell_type": "code",
   "execution_count": 11,
   "metadata": {},
   "outputs": [
    {
     "name": "stdout",
     "output_type": "stream",
     "text": [
      "[[[ 5  9  3  2  1]\n",
      "  [ 1  0  3  4  5]]\n",
      "\n",
      " [[10  9  8  7  6]\n",
      "  [ 6  7  8  9 10]]\n",
      "\n",
      " [[ 6  5  9  8  7]\n",
      "  [ 7  8  9  5  6]]]\n",
      "\n",
      "\n",
      "[[[ 5  4  3  0  1]\n",
      "  [ 1  2  3  9  5]]\n",
      "\n",
      " [[10  9  8  7  6]\n",
      "  [ 6  7  8  9 10]]\n",
      "\n",
      " [[ 6  5  9  8  7]\n",
      "  [ 7  8  9  5  6]]]\n"
     ]
    }
   ],
   "source": [
    "#Reversing rows Of 3D array\n",
    "import numpy as np\n",
    "c=np.array([[[1,0,3,4,5],\n",
    "             [5,9,3,2,1]],\n",
    "            [[6,7,8,9,10],\n",
    "             [10,9,8,7,6]],\n",
    "            [[7,8,9,5,6],\n",
    "             [6,5,9,8,7]]])\n",
    "\n",
    "s=c[0:3:1,-1:-3:-1,0:5:1]\n",
    "print(s)\n",
    "print(\"\\n\")\n",
    "\n",
    "#Reversing columns of 3D Array\n",
    "s2=c[0:3:1,0:3:1,-1:-6:-1]\n",
    "print(s2)\n"
   ]
  },
  {
   "cell_type": "code",
   "execution_count": 12,
   "metadata": {},
   "outputs": [
    {
     "name": "stdout",
     "output_type": "stream",
     "text": [
      "[1 2 3 4]\n",
      "int32\n"
     ]
    }
   ],
   "source": [
    "import numpy as np\n",
    "\n",
    "arr = np.array([1, 2, 3, 4], dtype='i')\n",
    "\n",
    "print(arr)\n",
    "print(arr.dtype)\n"
   ]
  },
  {
   "cell_type": "code",
   "execution_count": 13,
   "metadata": {},
   "outputs": [
    {
     "name": "stdout",
     "output_type": "stream",
     "text": [
      "[1. 9. 3. 5.]\n",
      "float64\n"
     ]
    }
   ],
   "source": [
    "import numpy as np\n",
    "\n",
    "ar=np.array([1.0,9.0,3.0,5.0],dtype='float')\n",
    "print(ar)\n",
    "print(ar.dtype)"
   ]
  },
  {
   "cell_type": "code",
   "execution_count": null,
   "metadata": {},
   "outputs": [],
   "source": [
    "import numpy as np\n",
    "\n",
    "arr = np.array([[[1, 2, 3]], [[4, 5, 6]]])\n",
    "\n",
    "narr = arr.reshape(-1)\n",
    "\n",
    "print(narr) #Flatterring is converting multidimensional array into 1d array"
   ]
  }
 ],
 "metadata": {
  "kernelspec": {
   "display_name": "Python 3",
   "language": "python",
   "name": "python3"
  },
  "language_info": {
   "codemirror_mode": {
    "name": "ipython",
    "version": 3
   },
   "file_extension": ".py",
   "mimetype": "text/x-python",
   "name": "python",
   "nbconvert_exporter": "python",
   "pygments_lexer": "ipython3",
   "version": "3.12.4"
  }
 },
 "nbformat": 4,
 "nbformat_minor": 2
}
