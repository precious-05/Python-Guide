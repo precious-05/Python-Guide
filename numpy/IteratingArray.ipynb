{
 "cells": [
  {
   "cell_type": "markdown",
   "metadata": {},
   "source": [
    "NumPy Array Iterating\n",
    "1. Iterating means going through elements one by one.\n",
    "\n"
   ]
  },
  {
   "cell_type": "markdown",
   "metadata": {},
   "source": [
    "# 1D Array Iteration\n",
    "1. If we iterate on a 1-D array it will go through each element one by one."
   ]
  },
  {
   "cell_type": "code",
   "execution_count": null,
   "metadata": {},
   "outputs": [],
   "source": [
    "import numpy as np\n",
    "x=np.array([100,200,300,400,500,600,700,800,900,1000])\n",
    "print(f\"{x}\\n\")\n",
    "\n",
    "for i in x:\n",
    "    print(i)\n"
   ]
  },
  {
   "cell_type": "markdown",
   "metadata": {},
   "source": [
    "# 2D Array iteration\n",
    "1.In a 2-D array it will go through all the rows.\n",
    "2. In the context of arrays, a scalar is a single value. When you access individual elements in an array, \n",
    "3. those elements are scalars because they are not arrays themselves—they are simple, single values like 1, 2, 3, etc.\n",
    "\n",
    "4.Scalars: Single purely numerical values with magnitude but no direction. For example, 5 or -3.14.\n",
    "\n",
    "5. Arrays: Collections of scalars arranged in one or more dimensions. \n",
    "6. Arrays have structure and can be multi-dimensional. For example, a 2D array like [[1, 2], [3, 4]] contains multiple scalars organized in a grid."
   ]
  },
  {
   "cell_type": "code",
   "execution_count": null,
   "metadata": {},
   "outputs": [],
   "source": [
    "import numpy as np\n",
    "x=np.array([[1,2,3,4,5],[6,7,8,9,10],[11,12,13,14,15]])\n",
    "print(f\"{x}\\n\")\n",
    "\n",
    "#If we want to go through all the rows\n",
    "for i in x:\n",
    "    print(i)\n",
    "print(\"\\n\")   \n",
    "\n",
    "#To return the actual values we have to iterate the arrays in each dimension\n",
    "for j in x:  # iterates through the rows of the 2D array (x). Here, j represents each row of the array.\n",
    "    for k in j:  #for k in j: iterates through the elements of the current row (j). \n",
    "        print(k)            #Here, k represents each scalar value in that row.\n",
    "                    \n"
   ]
  },
  {
   "cell_type": "markdown",
   "metadata": {},
   "source": [
    "# 3D Array iteration\n",
    "1. In a 3-D array it will go through all the 2-D arrays."
   ]
  },
  {
   "cell_type": "code",
   "execution_count": null,
   "metadata": {},
   "outputs": [],
   "source": [
    "import numpy as np\n",
    "arr=np.array([[[1,2,3,4,5],\n",
    "               [9,8,7,6,5],\n",
    "               [0,3,4,5,6]]])\n",
    "for i in arr: #It will go through 2D Arrays\n",
    "    print(i)\n",
    "print(f\"\\n\\n\")     \n",
    "\n",
    "\n",
    "   \n",
    "for x in arr: #This line iterates through the first axis (axis 0) of the 3D array. Here, x represents each 2D slice of the array.\n",
    "    for y in x: #This line iterates through the second axis (axis 1) of the 3D array. Here, y represents each row within the current 2D slice.\n",
    "        for z in y: #This line iterates through the third axis (axis 2) of the 3D array. Here, z represents each scalar value within the current row.\n",
    "            print(z)\n"
   ]
  },
  {
   "cell_type": "markdown",
   "metadata": {},
   "source": [
    "# nditer() Function\n",
    "\n",
    "1. The `nditer()` function is beneficial because it provides a more efficient and flexible way to iterate over arrays than using nested `for` loops.\n",
    "2. In basic for loops, iterating through each scalar of an array we need to use n for\n",
    "   loops which can be difficult to write for arrays with very high dimensionality.\n",
    "3. It optimizes performance and simplifies the code by handling multi-dimensional indexing internally."
   ]
  },
  {
   "cell_type": "code",
   "execution_count": null,
   "metadata": {},
   "outputs": [],
   "source": [
    "import numpy as np\n",
    "arr=np.array([[[1,2,3,4,5],\n",
    "               [9,8,7,6,5],\n",
    "               [0,3,4,5,6]]])\n",
    "  \n",
    "\n",
    "for x in np.nditer(arr):\n",
    "    print(x)\n",
    "    "
   ]
  },
  {
   "cell_type": "code",
   "execution_count": 1,
   "metadata": {},
   "outputs": [
    {
     "name": "stdout",
     "output_type": "stream",
     "text": [
      "np.bytes_(b'1')\n",
      "np.bytes_(b'2')\n",
      "np.bytes_(b'3')\n",
      "np.bytes_(b'4')\n",
      "np.bytes_(b'5')\n",
      "np.bytes_(b'9')\n",
      "np.bytes_(b'8')\n",
      "np.bytes_(b'7')\n",
      "np.bytes_(b'6')\n",
      "np.bytes_(b'5')\n",
      "np.bytes_(b'0')\n",
      "np.bytes_(b'3')\n",
      "np.bytes_(b'4')\n",
      "np.bytes_(b'5')\n",
      "np.bytes_(b'6')\n"
     ]
    }
   ],
   "source": [
    "import numpy as np\n",
    "arr=np.array([[[1,2,3,4,5],\n",
    "               [9,8,7,6,5],\n",
    "               [0,3,4,5,6]]])\n",
    "  \n",
    "#There are many parameters in this function by passing the values of those parameters we can change iteration\n",
    "#Example: as there was the iteration of numbers but we can iterate from different datatype too\n",
    "for z in np.nditer(arr, flags=['buffered'], op_dtypes=['S']):\n",
    "  print(z)\n",
    "    #Buffer provides us an extra space where we can store the iterated data  "
   ]
  },
  {
   "cell_type": "markdown",
   "metadata": {},
   "source": [
    "1. When we have large amount of data & we dont know that what is the index of specific value/data\n",
    "2. If we want the iteration along with the indexes we use ndenumerate() function\n",
    "3. This function returns the data along with the index"
   ]
  },
  {
   "cell_type": "code",
   "execution_count": 2,
   "metadata": {},
   "outputs": [
    {
     "name": "stdout",
     "output_type": "stream",
     "text": [
      "(0, 0) 1\n",
      "(0, 1) 2\n",
      "(0, 2) 3\n",
      "(0, 3) 4\n",
      "(0, 4) 5\n",
      "(1, 0) 9\n",
      "(1, 1) 8\n",
      "(1, 2) 7\n",
      "(1, 3) 6\n",
      "(1, 4) 5\n",
      "(2, 0) 0\n",
      "(2, 1) 3\n",
      "(2, 2) 4\n",
      "(2, 3) 5\n",
      "(2, 4) 6\n"
     ]
    }
   ],
   "source": [
    "import numpy as np\n",
    "arr=np.array([[1,2,3,4,5],\n",
    "               [9,8,7,6,5],\n",
    "               [0,3,4,5,6]])\n",
    "\n",
    "\n",
    "for data,indx in np.ndenumerate(arr): #It makes the searching process easier with large data when we know index\n",
    "  print(data,indx)"
   ]
  }
 ],
 "metadata": {
  "kernelspec": {
   "display_name": "Python 3",
   "language": "python",
   "name": "python3"
  },
  "language_info": {
   "codemirror_mode": {
    "name": "ipython",
    "version": 3
   },
   "file_extension": ".py",
   "mimetype": "text/x-python",
   "name": "python",
   "nbconvert_exporter": "python",
   "pygments_lexer": "ipython3",
   "version": "3.12.4"
  }
 },
 "nbformat": 4,
 "nbformat_minor": 2
}
