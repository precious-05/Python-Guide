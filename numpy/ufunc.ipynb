{
 "cells": [
  {
   "cell_type": "markdown",
   "metadata": {},
   "source": [
    "# Universal Functions\n",
    "1. NumPy functions that operate on the ndarray object\n",
    "2. ufuncs are used to implement vectorization in NumPy which is way faster than iterating over elements.\n",
    "3. **Vectorization** allows more efficient and readable numerical computations by applying operations to entire arrays or matrices at once."
   ]
  },
  {
   "cell_type": "markdown",
   "metadata": {},
   "source": [
    "# add()"
   ]
  },
  {
   "cell_type": "code",
   "execution_count": 2,
   "metadata": {},
   "outputs": [
    {
     "name": "stdout",
     "output_type": "stream",
     "text": [
      "[ 5  7  9 11]\n",
      "<class 'numpy.ufunc'>\n"
     ]
    }
   ],
   "source": [
    "import numpy as np\n",
    "\n",
    "arr1 = [1, 2, 3, 4]\n",
    "arr2 = [4, 5, 6, 7]\n",
    "sum = np.add(arr1,arr2)  #makes the code shorter and faster \n",
    "\n",
    "print(sum)\n",
    "print(type(np.add))"
   ]
  },
  {
   "cell_type": "markdown",
   "metadata": {},
   "source": [
    "Creating our own ufunc"
   ]
  },
  {
   "cell_type": "code",
   "execution_count": 9,
   "metadata": {},
   "outputs": [
    {
     "name": "stdout",
     "output_type": "stream",
     "text": [
      "[6 7 9]\n",
      "Type is <class 'numpy.ufunc'>\n"
     ]
    }
   ],
   "source": [
    "import numpy as np\n",
    "def addition(L1,L2,L3):\n",
    "    return L1+L2+L3\n",
    "\n",
    "addition=np.frompyfunc(addition,3,1) #(function_name, input_count, output_count)\n",
    "#function_name: The Python function you want to convert into a ufunc.\n",
    "#input_count: The number of input arguments the function takes\n",
    "#output_count: The number of outputs the function returns.\n",
    "\n",
    "\n",
    "\n",
    "L1=[1,2,3]\n",
    "L2=[4,5,6]\n",
    "L3=[1,0,0]\n",
    "result=addition(L1,L2,L3)\n",
    "print(result)\n",
    "print(f\"Type is {type(addition)}\")"
   ]
  },
  {
   "cell_type": "markdown",
   "metadata": {},
   "source": [
    "# Simple Airthemetic\n",
    "1. Addition\n",
    "2. Subtraction\n",
    "3. Multiplication\n",
    "4. Division\n",
    "1. Arithmetic Conditionally: means that we can define conditions where the arithmetic operation should happen"
   ]
  },
  {
   "cell_type": "code",
   "execution_count": 6,
   "metadata": {},
   "outputs": [
    {
     "name": "stdout",
     "output_type": "stream",
     "text": [
      "[-3 -3 -3]\n"
     ]
    }
   ],
   "source": [
    "#We have already seen add() function\n",
    "import numpy as np\n",
    "L1=[1,2,3]\n",
    "L2=[4,5,6]\n",
    "arr1 = np.array(L1)\n",
    "arr2 = np.array(L2)\n",
    "\n",
    "arr3 = np.subtract(arr1, arr2)\n",
    "\n",
    "print(arr3)"
   ]
  },
  {
   "cell_type": "code",
   "execution_count": 7,
   "metadata": {},
   "outputs": [
    {
     "name": "stdout",
     "output_type": "stream",
     "text": [
      "[ 4 10 18]\n"
     ]
    }
   ],
   "source": [
    "#multiply()\n",
    "import numpy as np\n",
    "L1=[1,2,3]\n",
    "L2=[4,5,6]\n",
    "arr1 = np.array(L1)\n",
    "arr2 = np.array(L2)\n",
    "\n",
    "arr3= np.multiply(arr1, arr2)\n",
    "\n",
    "print(arr3)"
   ]
  },
  {
   "cell_type": "code",
   "execution_count": 12,
   "metadata": {},
   "outputs": [
    {
     "name": "stdout",
     "output_type": "stream",
     "text": [
      "[ 1. 10.  3.]\n"
     ]
    }
   ],
   "source": [
    "#divide\n",
    "import numpy as np\n",
    "L1=[4,100,18]\n",
    "L2=[4,10,6]\n",
    "arr1 = np.array(L1)\n",
    "arr2 = np.array(L2)\n",
    "\n",
    "arr3= np.divide(arr1, arr2)\n",
    "\n",
    "print(arr3)"
   ]
  },
  {
   "cell_type": "code",
   "execution_count": 1,
   "metadata": {},
   "outputs": [
    {
     "name": "stdout",
     "output_type": "stream",
     "text": [
      "[ 4 16 49]\n"
     ]
    }
   ],
   "source": [
    "#Power()\n",
    "#Raise the valules in arr1 to the power of values in arr2:\n",
    "import numpy as np\n",
    "L1=[2,4,7]\n",
    "L2=[2,2,2]\n",
    "arr1 = np.array(L1)\n",
    "arr2 = np.array(L2)\n",
    "\n",
    "arr3= np.power(arr1, arr2)\n",
    "\n",
    "print(arr3)"
   ]
  },
  {
   "cell_type": "code",
   "execution_count": 2,
   "metadata": {},
   "outputs": [
    {
     "name": "stdout",
     "output_type": "stream",
     "text": [
      "[0 0 1 0 0 0 0]\n"
     ]
    }
   ],
   "source": [
    "#mod() or Remainder\n",
    "import numpy as np\n",
    "L1=[2,4,7,10,100,24,22]\n",
    "L2=[2,2,2,2,2,4,11]\n",
    "arr1 = np.array(L1)\n",
    "arr2 = np.array(L2)\n",
    "\n",
    "arr3= np.mod(arr1, arr2) #mod() also gives same result\n",
    "\n",
    "print(arr3)"
   ]
  },
  {
   "cell_type": "code",
   "execution_count": 17,
   "metadata": {},
   "outputs": [
    {
     "name": "stdout",
     "output_type": "stream",
     "text": [
      "(array([ 1,  2,  3,  5, 50,  6,  2]), array([0, 0, 1, 0, 0, 0, 0]))\n"
     ]
    }
   ],
   "source": [
    "#The divmod() function returns both the quotient and the the mod. \n",
    "import numpy as np\n",
    "L1=[2,4,7,10,100,24,22]\n",
    "L2=[2,2,2,2,2,4,11]\n",
    "arr1 = np.array(L1)\n",
    "arr2 = np.array(L2)\n",
    "\n",
    "arr3= np.divmod(arr1, arr2) \n",
    "\n",
    "print(arr3)"
   ]
  },
  {
   "cell_type": "markdown",
   "metadata": {},
   "source": [
    "Absolute values\n",
    "1. The absolute value of a number x is denoted as ∣x∣.\n",
    "2. It represents the distance of x from zero on the number line, regardless of direction.\n",
    "3. The absolute value of a number is always non-negative (0 or positive).\n",
    "4.  Example: ∣−3∣ = 3\n"
   ]
  },
  {
   "cell_type": "code",
   "execution_count": 3,
   "metadata": {},
   "outputs": [
    {
     "name": "stdout",
     "output_type": "stream",
     "text": [
      "[1000   20   21   72   93   84]\n"
     ]
    }
   ],
   "source": [
    "#Absolute Values\n",
    "import numpy as np\n",
    "\n",
    "aray = np.array([-1000, -20, 21, 72, 93, -84])\n",
    "\n",
    "newaray = np.absolute(aray)\n",
    "\n",
    "print(newaray)\n"
   ]
  },
  {
   "cell_type": "markdown",
   "metadata": {},
   "source": [
    "# Summuation\n",
    "1. Addition is done between two arguments whereas summation happens over n elements\n"
   ]
  },
  {
   "cell_type": "code",
   "execution_count": 4,
   "metadata": {},
   "outputs": [
    {
     "name": "stdout",
     "output_type": "stream",
     "text": [
      "[40 40 40]\n",
      "[1 3 5 9]\n"
     ]
    }
   ],
   "source": [
    "import numpy as np\n",
    "L1=[30,30,30]\n",
    "L2=[10,10,10]\n",
    "arr1 = np.array(L1)\n",
    "arr2 = np.array(L2)\n",
    "arr3= np.sum([arr1, arr2],axis=0)  #sum can be done along axis too\n",
    "\n",
    "print(arr3)\n",
    "#commulative sum (partially adding the elements in array)\n",
    "aray=np.array([1,2,2,4])  # 1   1+2   1+2+2   1+2+2+4\n",
    "csum=np.cumsum(aray)\n",
    "print(csum)\n",
    "\n"
   ]
  },
  {
   "cell_type": "markdown",
   "metadata": {},
   "source": [
    "# LCM"
   ]
  },
  {
   "cell_type": "code",
   "execution_count": 12,
   "metadata": {},
   "outputs": [
    {
     "name": "stdout",
     "output_type": "stream",
     "text": [
      "28\n",
      "0\n",
      "1\n"
     ]
    }
   ],
   "source": [
    "\n",
    "\n",
    "#num1 = 5 \n",
    "#num2 = 6\n",
    "#LCM = np.lcm(num1, num2)\n",
    "#print(LCM)\n",
    "#LCM of array\n",
    "import numpy as np\n",
    "arr = np.array([4, 14, 2])\n",
    "\n",
    "result= np.lcm.reduce(arr)\n",
    "\n",
    "print(result)\n",
    "print(result.ndim)\n",
    "print(arr.ndim)\n"
   ]
  },
  {
   "cell_type": "markdown",
   "metadata": {},
   "source": [
    "# Trigonometric Functions\n",
    "1. the ufuncs sin(), cos() and tan() that take values in radians and produce the corresponding sin, \n",
    "    cos and tan values."
   ]
  },
  {
   "cell_type": "code",
   "execution_count": 3,
   "metadata": {},
   "outputs": [
    {
     "name": "stdout",
     "output_type": "stream",
     "text": [
      "1.0\n",
      "\n",
      "\n",
      "\n",
      "[1.         0.8660254  0.70710678 0.5       ]\n"
     ]
    }
   ],
   "source": [
    "import numpy as np\n",
    "\n",
    "result = np.sin(np.pi/2)\n",
    "print(result)\n",
    "print(\"\\n\\n\")\n",
    "\n",
    "#sine values for all of the values in array\n",
    "aray = np.array([np.pi/2, np.pi/3, np.pi/4, np.pi/6])\n",
    "\n",
    "result = np.sin(aray)\n",
    "\n",
    "print(result)"
   ]
  },
  {
   "cell_type": "markdown",
   "metadata": {},
   "source": [
    "# Numpy Products\n",
    "1. To find the product of the elements in an array, use the prod() function"
   ]
  },
  {
   "cell_type": "code",
   "execution_count": 8,
   "metadata": {},
   "outputs": [
    {
     "name": "stdout",
     "output_type": "stream",
     "text": [
      "120\n",
      "\n",
      "product of 2 arrays is:\n",
      "40320\n",
      "[  24 1680]\n",
      "[   5   30  210 1680]\n"
     ]
    }
   ],
   "source": [
    "import numpy as np\n",
    "aray=np.array([1,2,3,4,5])\n",
    "p=np.prod(aray)\n",
    "print(p)\n",
    "\n",
    "#product of element of 2 Arrays\n",
    "arr1 = np.array([1, 2, 3, 4])\n",
    "arr2 = np.array([5, 6, 7, 8])\n",
    "x = np.prod([arr1, arr2])\n",
    "print(\"\\nproduct of 2 arrays is:\")\n",
    "print(x)\n",
    "\n",
    "\n",
    "#Product Over an Axis\n",
    "arr3 = np.array([1, 2, 3, 4])\n",
    "arr4 = np.array([5, 6, 7, 8])\n",
    "newarr = np.prod([arr3, arr4], axis=1)\n",
    "print(newarr)\n",
    "\n",
    "#commulative product  ::Same as the comulative sum\n",
    "arr5 = np.array([5, 6, 7, 8])\n",
    "new= np.cumprod(arr5)\n",
    "\n",
    "print(new)\n"
   ]
  },
  {
   "cell_type": "markdown",
   "metadata": {},
   "source": [
    "# NumPy Differences\n",
    "1. A discrete difference means subtracting two successive elements.\n",
    "2. E.g. for [1, 2, 3, 4], the discrete difference would be [2-1, 3-2, 4-3] = [1, 1, 1]\n",
    "3. To find the discrete difference, use the diff() function."
   ]
  },
  {
   "cell_type": "code",
   "execution_count": 11,
   "metadata": {},
   "outputs": [
    {
     "name": "stdout",
     "output_type": "stream",
     "text": [
      "[  5  10 -20]\n",
      "[  5 -30]\n"
     ]
    }
   ],
   "source": [
    "import numpy as np\n",
    "arr = np.array([10, 15, 25, 5])\n",
    "newarr = np.diff(arr)\n",
    "print(newarr)\n",
    "\n",
    "#We can Compute discrete difference of the following array twice:\n",
    "arr2 = np.array([10, 15, 25, 5])\n",
    "#for n=1   15-10   25-15  5-25     = [5 10 -20]\n",
    "#for n=2   10-5    -20-10          =[5 -30]\n",
    "newarr2 = np.diff(arr2,n=2)\n",
    "print(newarr2)"
   ]
  },
  {
   "cell_type": "markdown",
   "metadata": {},
   "source": [
    "# Rounding Decimals\n",
    "There are primarily five ways of rounding off decimals in NumPy:\n",
    "1. truncation\n",
    "2. fix\n",
    "3. rounding\n",
    "4. floor\n",
    "5. ceil"
   ]
  },
  {
   "cell_type": "code",
   "execution_count": 18,
   "metadata": {},
   "outputs": [
    {
     "name": "stdout",
     "output_type": "stream",
     "text": [
      "[-3.  3.]\n",
      "[-3.  3.]\n",
      "3.167\n",
      "[-4.  3.]\n",
      "[-3.  4.]\n"
     ]
    }
   ],
   "source": [
    "#Truncation\n",
    "#Remove the decimals, and return the float number closest to zero. Use the trunc() and fix() functions.\n",
    "import numpy as np\n",
    "arr = np.trunc([-3.1666, 3.6667])\n",
    "arr2 = np.fix([-3.1666, 3.6667])\n",
    "print(arr)\n",
    "print(arr2)\n",
    "\n",
    "#The around() function increments preceding digit or decimal by 1 if >=5 else do nothing.\n",
    "arr3 = np.around(3.1666, 3) #3 indicates that to which decimal place we wanna round off the number\n",
    "print(arr3)\n",
    "\n",
    "#The floor() function rounds off decimal to nearest lower integer.\n",
    "#E.g. floor of 3.166 is 3.\n",
    "arr4 = np.floor([-3.1666, 3.6667])\n",
    "print(arr4)\n",
    "\n",
    "#The ceil() function rounds off decimal to nearest upper integer.\n",
    "#E.g. ceil of 3.166 is 4.\n",
    "arr5 = np.ceil([-3.1666, 3.6667])\n",
    "print(arr5)\n",
    "\n"
   ]
  },
  {
   "cell_type": "markdown",
   "metadata": {},
   "source": [
    "# NumPy Set Operations\n",
    "1. What is a Set\n",
    "2. A set in mathematics is a collection of unique elements.\n",
    "3. Sets are used for operations involving frequent intersection, union and difference operations."
   ]
  },
  {
   "cell_type": "code",
   "execution_count": 23,
   "metadata": {},
   "outputs": [
    {
     "name": "stdout",
     "output_type": "stream",
     "text": [
      "[1 2 3 4 5 6 7]\n",
      "[1 2 3 4 5 6]\n",
      "[3 4]\n",
      "[1 2]\n",
      "[1 2 5 6]\n"
     ]
    }
   ],
   "source": [
    "#There is an optional argument assume_unique, in below sets which if set to True can speed up computation.\n",
    "\n",
    "import numpy as np\n",
    "arr = np.array([1, 1, 1, 2, 3, 4, 5, 5, 6, 7])\n",
    "x = np.unique(arr)\n",
    "print(x)\n",
    "\n",
    "#Finding Union\n",
    "#To find the unique values of two arrays, use the union1d() method.\n",
    "arr1 = np.array([1, 2, 3, 4])\n",
    "arr2 = np.array([3, 4, 5, 6])\n",
    "newarr = np.union1d(arr1, arr2)\n",
    "print(newarr)\n",
    "\n",
    "# Finding Intersection\n",
    "#To find only the values that are present in both arrays, use the intersect1d() method.\n",
    "arr3 = np.array([1, 2, 3, 4])\n",
    "arr4 = np.array([3, 4, 5, 6])\n",
    "newarr2= np.intersect1d(arr3, arr4, assume_unique=True)\n",
    "print(newarr2)\n",
    "\n",
    "\n",
    "#Finding Difference\n",
    "#To find only the values in the first set that is NOT present in the seconds set, use the setdiff1d() method.\n",
    "set1 = np.array([1, 2, 3, 4])\n",
    "set2 = np.array([3, 4, 5, 6])\n",
    "newarr3 = np.setdiff1d(set1, set2, assume_unique=True)\n",
    "print(newarr3)\n",
    "\n",
    "\n",
    "#Finding Symmetric Difference\n",
    "#To find only the values that are NOT present in BOTH sets, use the setxor1d() method.\n",
    "set3 = np.array([1, 2, 3, 4])\n",
    "set4 = np.array([3, 4, 5, 6])\n",
    "newarr5 = np.setxor1d(set1, set2, assume_unique=True)\n",
    "print(newarr5)\n"
   ]
  },
  {
   "cell_type": "markdown",
   "metadata": {},
   "source": [
    "# NumPy GCD Greatest Common Denominator\n",
    "1. Finding GCD (Greatest Common Denominator)\n",
    "2. The GCD (Greatest Common Denominator), also known as HCF (Highest Common Factor) \n",
    "    is the biggest number that is a common factor of both of the numbers."
   ]
  },
  {
   "cell_type": "code",
   "execution_count": 25,
   "metadata": {},
   "outputs": [
    {
     "name": "stdout",
     "output_type": "stream",
     "text": [
      "3\n",
      "4\n"
     ]
    }
   ],
   "source": [
    "import numpy as np\n",
    "\n",
    "num1 = 6\n",
    "num2 = 9\n",
    "x = np.gcd(num1, num2)\n",
    "print(x)\n",
    "#Returns: 3 because that is the highest number both numbers can be divided by (6/3=2 and 9/3=3).\n",
    "\n",
    "#To find the Highest Common Factor of all values in an array, you can use the reduce() method.\n",
    "#The reduce() method will use the ufunc, in this case the gcd() function, on each element, and reduce the array by one dimension.\n",
    "arr = np.array([20, 8, 32, 36, 16])\n",
    "x = np.gcd.reduce(arr)\n",
    "print(x)\n",
    "\n",
    "\n"
   ]
  },
  {
   "cell_type": "markdown",
   "metadata": {},
   "source": [
    "# NumPy Logs\n",
    "1. NumPy provides functions to perform log at the base 2, e and 10.\n",
    "2. We will also explore how we can take log for any base by creating a custom ufunc.\n",
    "3. All of the log functions will place -inf or inf in the elements if the log can not be computed."
   ]
  },
  {
   "cell_type": "code",
   "execution_count": 29,
   "metadata": {},
   "outputs": [
    {
     "name": "stdout",
     "output_type": "stream",
     "text": [
      "[      -inf 0.         1.         1.5849625  2.         2.32192809\n",
      " 2.5849625  2.80735492 3.         3.169925  ]\n",
      "\n",
      "\n",
      "[0.         0.30103    0.47712125 0.60205999 0.69897    0.77815125\n",
      " 0.84509804 0.90308999 0.95424251]\n",
      "\n",
      "\n",
      "[0.         0.69314718 1.09861229 1.38629436 1.60943791 1.79175947\n",
      " 1.94591015 2.07944154 2.19722458]\n",
      "\n",
      "\n",
      "1.7005483074552052\n"
     ]
    },
    {
     "name": "stderr",
     "output_type": "stream",
     "text": [
      "C:\\Users\\Hp\\AppData\\Local\\Temp\\ipykernel_9604\\1860532671.py:6: RuntimeWarning: divide by zero encountered in log2\n",
      "  print(np.log2(arr))\n"
     ]
    }
   ],
   "source": [
    "#Log at Base 2\n",
    "#Use the log2() function to perform log at the base 2.\n",
    "\n",
    "import numpy as np\n",
    "arr = np.array([0,1,2,3,4,5,6,7,8,9])\n",
    "print(np.log2(arr))\n",
    "print(\"\\n\")\n",
    "#Log at Base 10\n",
    "#Use the log10() function to perform log at the base 10.\n",
    "\n",
    "\n",
    "\n",
    "arr1 = np.arange(1, 10)\n",
    "print(np.log10(arr1))\n",
    "print(\"\\n\")\n",
    "#Natural Log, or Log at Base e\n",
    "#Use the log() function to perform log at the base e.\n",
    "\n",
    "arr2 = np.arange(1, 10)\n",
    "print(np.log(arr2))\n",
    "print(\"\\n\")\n",
    "#Log at Any Base\n",
    "#NumPy does not provide any function to take log at any base, so we can use the frompyfunc() function \n",
    "#along with inbuilt function math.log() with two input parameters and one output parameter:\n",
    "\n",
    "from math import log\n",
    "nplog = np.frompyfunc(log, 2, 1)\n",
    "print(nplog(100, 15))"
   ]
  },
  {
   "cell_type": "code",
   "execution_count": 4,
   "metadata": {},
   "outputs": [
    {
     "name": "stdout",
     "output_type": "stream",
     "text": [
      "Original array shape: (2, 3)\n",
      "Reshaped array shape: (3, 2)\n"
     ]
    }
   ],
   "source": [
    "import numpy as np\n",
    "     # Original array\n",
    "arr = np.array([[2,3,4],[5,6,7]])\n",
    "print('Original array shape:', arr.shape)\n",
    "# Reshape array\n",
    "reshaped_arr = arr.reshape(3, -1)\n",
    "print('Reshaped array shape:', reshaped_arr.shape)\n",
    "\n"
   ]
  },
  {
   "cell_type": "code",
   "execution_count": 6,
   "metadata": {},
   "outputs": [
    {
     "name": "stdout",
     "output_type": "stream",
     "text": [
      "[[2 3]\n",
      " [3 4]\n",
      " [4 5]]\n"
     ]
    }
   ],
   "source": [
    "import numpy as np\n",
    "arr1 = np.array([2,3,4])\n",
    "arr2 = np.array([3,4,5])\n",
    "arr = np.stack((arr1, arr2), axis=1)\n",
    "print(arr)\n"
   ]
  }
 ],
 "metadata": {
  "kernelspec": {
   "display_name": "Python 3",
   "language": "python",
   "name": "python3"
  },
  "language_info": {
   "codemirror_mode": {
    "name": "ipython",
    "version": 3
   },
   "file_extension": ".py",
   "mimetype": "text/x-python",
   "name": "python",
   "nbconvert_exporter": "python",
   "pygments_lexer": "ipython3",
   "version": "3.12.4"
  }
 },
 "nbformat": 4,
 "nbformat_minor": 2
}
