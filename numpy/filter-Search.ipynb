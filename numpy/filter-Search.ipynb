{
 "cells": [
  {
   "cell_type": "markdown",
   "metadata": {},
   "source": [
    "# Search Array\n",
    "1. We can search an array for a certain value, and return the indexes that get a match.\n",
    "2. To search an array, use the where() method."
   ]
  },
  {
   "cell_type": "code",
   "execution_count": 1,
   "metadata": {},
   "outputs": [
    {
     "name": "stdout",
     "output_type": "stream",
     "text": [
      "(array([ 2,  4,  6,  8, 12]),)\n",
      "\n",
      " (array([ 0, 10]),)\n"
     ]
    }
   ],
   "source": [
    "import numpy as np\n",
    "arr1=np.array([1,3,566,788,566,874636,566,4344,566,5244,343,33332,566])\n",
    "        #index 0 1  2    3   4   5     6    7   8    9   10   11   12\n",
    "find=np.where(arr1 == 566)\n",
    "print(find)\n",
    "\n",
    "\n",
    "#Searching odd numbers\n",
    "arr2=np.array([1,4,6,8,10,12,14,16,18,20,21])\n",
    "     #index    0 1 2 3  4  5  6  7  8  9  10\n",
    "find2=np.where(arr2 % 2 !=0)\n",
    "print(f\"\\n {find2}\")"
   ]
  },
  {
   "cell_type": "markdown",
   "metadata": {},
   "source": [
    "# Search Sorted Array\n",
    "1. There is a method called searchsorted() which performs a binary search in the array\n",
    " and returns the index where the specified value would be inserted to maintain the search order."
   ]
  },
  {
   "cell_type": "code",
   "execution_count": null,
   "metadata": {},
   "outputs": [],
   "source": [
    "import numpy as np\n",
    "arr1=np.array([1,5,6,7,8,9,10])\n",
    "\n",
    "SS=np.searchsorted(arr1, 11)\n",
    "print(SS)"
   ]
  },
  {
   "cell_type": "markdown",
   "metadata": {},
   "source": [
    "1. Search From the Right Side\n",
    "2. By default the left most index is returned\n",
    "but we can give side='right' parameter to return the right most index instead."
   ]
  },
  {
   "cell_type": "code",
   "execution_count": 15,
   "metadata": {},
   "outputs": [
    {
     "name": "stdout",
     "output_type": "stream",
     "text": [
      "3\n"
     ]
    }
   ],
   "source": [
    "import numpy as np\n",
    "arr1=np.array([1,2,2,3])\n",
    "\n",
    "SS=np.searchsorted(arr1, 2,side='right')\n",
    "print(SS)"
   ]
  },
  {
   "cell_type": "markdown",
   "metadata": {},
   "source": [
    "Working with multiple values by passing a list"
   ]
  },
  {
   "cell_type": "code",
   "execution_count": 12,
   "metadata": {},
   "outputs": [
    {
     "name": "stdout",
     "output_type": "stream",
     "text": [
      "[2 3 4]\n"
     ]
    }
   ],
   "source": [
    "import numpy as np\n",
    "arr1=np.array([0,1,3,5,7,9])\n",
    "\n",
    "SS=np.searchsorted(arr1,[2,4,6],side='right')\n",
    "print(SS)"
   ]
  },
  {
   "cell_type": "markdown",
   "metadata": {},
   "source": [
    "# Sort Array\n",
    "1. Sorting is putting the data in an ordered sequence. \n",
    "2. Using the **sort()** function"
   ]
  },
  {
   "cell_type": "code",
   "execution_count": 2,
   "metadata": {},
   "outputs": [
    {
     "name": "stdout",
     "output_type": "stream",
     "text": [
      "[ 0  1  2  3  4  5  6  7  8  9 10 10]\n"
     ]
    }
   ],
   "source": [
    "import numpy as np\n",
    "arr=np.array([10,10,9,8,5,6,7,3,4,1,2,0])\n",
    "\n",
    "srt=np.sort(arr)\n",
    "print(srt)"
   ]
  },
  {
   "cell_type": "code",
   "execution_count": 3,
   "metadata": {},
   "outputs": [
    {
     "name": "stdout",
     "output_type": "stream",
     "text": [
      "[['A' 'B' 'C' 'a' 'b' 'c']\n",
      " ['AB' 'D' 'V' 'd' 'e' 'v']]\n"
     ]
    }
   ],
   "source": [
    "#Sorting alphabetically\n",
    "import numpy as np\n",
    "arr=np.array([['b','C','A','B','c','a'],['d','e','D','v','V','AB']])\n",
    "\n",
    "srt=np.sort(arr)\n",
    "print(srt)"
   ]
  },
  {
   "cell_type": "markdown",
   "metadata": {},
   "source": [
    "# Filter Array\n",
    "1. Getting some elements out of an existing array and creating a new array out of them is called filtering.\n",
    "2. In NumPy we filter an array using a boolean index list."
   ]
  },
  {
   "cell_type": "code",
   "execution_count": 5,
   "metadata": {},
   "outputs": [
    {
     "name": "stdout",
     "output_type": "stream",
     "text": [
      "['Al Karam Studio' 'Sapphire']\n",
      "<class 'numpy.ndarray'>\n"
     ]
    }
   ],
   "source": [
    "import numpy as np\n",
    "arr=np.array(['Al Karam Studio','Maria B','Sapphire','Bareeze','Ethnic','J.'])\n",
    "# Filtering in NumPy is similar to selecting only specific brands from a list of brands\n",
    "# just like choosing to see dresses from only \"Al Karam\" and \"Sapphire\" on a shopping website.\n",
    "\n",
    "fltr=[True,False,True,False,False,False]\n",
    "new=arr[fltr]\n",
    "print(new)\n",
    "print(type(new))"
   ]
  },
  {
   "cell_type": "code",
   "execution_count": 6,
   "metadata": {},
   "outputs": [
    {
     "name": "stdout",
     "output_type": "stream",
     "text": [
      "[False, True, False, True, False, True]\n",
      "[2000  999 4500]\n"
     ]
    }
   ],
   "source": [
    "import numpy as np\n",
    "\n",
    "product = np.array([10000, 2000, 8000, 999, 5500, 4500])\n",
    "\n",
    "# Create an empty list\n",
    "f_arr = []\n",
    "\n",
    "# go through each product\n",
    "for price in product:\n",
    "  if price < 5000:\n",
    "    f_arr.append(True)\n",
    "  else:\n",
    "    f_arr.append(False)\n",
    "\n",
    "newarr = product[f_arr]\n",
    "\n",
    "print(f_arr)\n",
    "print(newarr)"
   ]
  }
 ],
 "metadata": {
  "kernelspec": {
   "display_name": "Python 3",
   "language": "python",
   "name": "python3"
  },
  "language_info": {
   "codemirror_mode": {
    "name": "ipython",
    "version": 3
   },
   "file_extension": ".py",
   "mimetype": "text/x-python",
   "name": "python",
   "nbconvert_exporter": "python",
   "pygments_lexer": "ipython3",
   "version": "3.12.4"
  }
 },
 "nbformat": 4,
 "nbformat_minor": 2
}
