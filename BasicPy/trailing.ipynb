{
 "cells": [
  {
   "cell_type": "markdown",
   "metadata": {},
   "source": []
  },
  {
   "cell_type": "code",
   "execution_count": 1,
   "metadata": {},
   "outputs": [
    {
     "name": "stdout",
     "output_type": "stream",
     "text": [
      "Total ways are 4\n"
     ]
    }
   ],
   "source": [
    "\n",
    "def denomination(coin, t_amount):\n",
    "    # Base case\n",
    "    solution = [0] * (t_amount + 1)  # This list will keep track of the number of ways\n",
    "    # This additional space is to accommodate the solution for making change for zero amount,\n",
    "    # which is always 1 (there's one way to make zero amount, by using no coins).\n",
    "    #solution[0,0,0,0,0,0]\n",
    "    solution[0] = 1  # To use no coins\n",
    "    #solution[1,0,0,0,0,0]\n",
    "    \n",
    "         #1       1,2,5\n",
    "    for values in denom:\n",
    "        for j in range(values, t_amount + 1,1):\n",
    "            temp = solution[j]  # Store the current number of ways to make amount j\n",
    "            solution[j] = temp + solution[j - values]  # To Update the number of ways to make amount j\n",
    "            #Solution[1,1,1,1,1,1] result for 1st iteration \n",
    "            #solution[1,1,2,2,3,3] result for 2nd iteration\n",
    "            #solution[1,1,2,2,3,4]\n",
    "\n",
    "    return solution[t_amount]\n",
    "    #return solution[5]\n",
    "\n",
    "t_amount = 5\n",
    "denom = [1, 2, 5]\n",
    "result = denomination(denom, t_amount)\n",
    "print(f\"Total ways are {result}\")"
   ]
  },
  {
   "cell_type": "markdown",
   "metadata": {},
   "source": [
    "Trailing zeros in a number are the zeros that appear at the end of the number,\n",
    "after all the non-zero digits. They result from factors of 10 in the number.\n",
    "\n",
    "The Number of 5's after the prime factorization of that number equals to trailing zero\n",
    "Example: in 1004000 the trailing 0's are 3\n",
    "\n",
    "For example, the number 1000 has 3 trailing zeros, because it is divisible by\n",
    "10^3. \n",
    "The number 10000 has 4 trailing zeros, because it is divisible by\n",
    "10^4. \n",
    "\n",
    "Counting factors of 10 directly is impractical as it involves more complex calculations, \n",
    "whereas counting factors of 5 is simpler and provides the exact number of trailing zeros.\n",
    "\n"
   ]
  },
  {
   "cell_type": "code",
   "execution_count": 9,
   "metadata": {},
   "outputs": [
    {
     "name": "stdout",
     "output_type": "stream",
     "text": [
      "Factorial of 28 is 304888344611713860501504000000\n",
      "Trailing zeros in factorial of 28 are 6\n"
     ]
    }
   ],
   "source": [
    "# Way 1\n",
    "def trailing(userInput):\n",
    "     fac= 1\n",
    "     for k in range(2, userInput+ 1,1):\n",
    "        fac=fac*k\n",
    "     print(f\"Factorial of {userInput} is {fac}\")   \n",
    "     convert= str(fac)\n",
    "     trail= 0\n",
    "     for i in range(len(convert)-1,-1,-1):\n",
    "          if convert[i] == '0':\n",
    "            trail=trail + 1\n",
    "          else:\n",
    "               break\n",
    "     print(f\"Trailing zeros in factorial of {userInput} are {trail}\")   \n",
    "    \n",
    "\n",
    "userInput=int(input(\"Enter the number: \"))\n",
    "trailing(userInput)\n",
    "\n"
   ]
  },
  {
   "cell_type": "code",
   "execution_count": 7,
   "metadata": {},
   "outputs": [
    {
     "name": "stdout",
     "output_type": "stream",
     "text": [
      "Factorial of 15 is 1307674368000\n",
      "Trailing zeros in factorial of 15 are 3\n"
     ]
    },
    {
     "data": {
      "text/plain": [
       "\"\\nTo find the number of trailing zeros in \\n23!:\\n\\nCount multiples of 5:\\n\\n5 (contributes 1 factor of 5)\\n\\n10 (contributes 1 factor of 5)\\n\\n15 (contributes 1 factor of 5)\\n\\n20 (contributes 1 factor of 5) \\n\\n\\nSo trailings are 4\\n\\n\\n\\n\\n\\nExample#3\\n\\nfor 15!\\n\\nCount multiples of 5:\\n\\n\\n5 (contributes 1 factor of 5)\\n\\n10 (contributes 1 factor of 5)\\n\\n15 (contributes 1 factor of 5)\\n\\n\\nSo trailing 0's are 3\\n\""
      ]
     },
     "execution_count": 7,
     "metadata": {},
     "output_type": "execute_result"
    }
   ],
   "source": [
    "#Way 2\n",
    "def factorial(userInput):\n",
    "     fac= 1\n",
    "     for k in range(2, userInput+ 1,1):\n",
    "        fac=fac*k\n",
    "     print(f\"Factorial of {userInput} is {fac}\") \n",
    "     \n",
    "     count=0\n",
    "     j=5\n",
    "     while userInput//j !=0:\n",
    "        count = count + userInput//j\n",
    "        j=j*5\n",
    "     print(f\"Trailing zeros in factorial of {userInput} are {count}\")    \n",
    "\n",
    "\n",
    "\n",
    "userInput=int(input(\"Enter the number: \"))\n",
    "factorial(userInput)\n",
    "\n",
    "\n",
    "#Example1:   18*17*16*15*14*13*12*11*10*9*8*7*6*5*4*3*2*1\n",
    "             #2(9)  17  2(8)  3(5)  2(7) 13 2(6)  11  2(5)  3(3) 2(4) 7 2(3) 5 2(2) 3 2 1\n",
    "             \n",
    "             #Multiples of 5 in 18!:\n",
    "    #5 (contributes 1 factor of 5)\n",
    "    #10 (contributes 1 factor of 5)\n",
    "    #15 (contributes 1 factor of 5)\n",
    "    \n",
    "    \n",
    "    \n",
    "\"\"\"\n",
    "To find the number of trailing zeros in \n",
    "23!:\n",
    "\n",
    "Count multiples of 5:\n",
    "\n",
    "5 (contributes 1 factor of 5)\n",
    "\n",
    "10 (contributes 1 factor of 5)\n",
    "\n",
    "15 (contributes 1 factor of 5)\n",
    "\n",
    "20 (contributes 1 factor of 5) \n",
    "\n",
    "\n",
    "So trailings are 4\n",
    "\n",
    "\n",
    "\n",
    "\n",
    "\n",
    "Example#3\n",
    "\n",
    "for 15!\n",
    "\n",
    "Count multiples of 5:\n",
    "\n",
    "\n",
    "5 (contributes 1 factor of 5)\n",
    "\n",
    "10 (contributes 1 factor of 5)\n",
    "\n",
    "15 (contributes 1 factor of 5)\n",
    "\n",
    "\n",
    "So trailing 0's are 3\n",
    "\"\"\""
   ]
  },
  {
   "cell_type": "markdown",
   "metadata": {},
   "source": [
    "Code to find out the mean of a list without using built-in functions\n",
    "\n",
    "Mean (or Average)= Sum of all values / Number of values\n"
   ]
  },
  {
   "cell_type": "code",
   "execution_count": 5,
   "metadata": {},
   "outputs": [
    {
     "name": "stdout",
     "output_type": "stream",
     "text": [
      "mean of the given list is 2.0\n"
     ]
    }
   ],
   "source": [
    "def Mean(List):\n",
    "    #This function calculates the mean of a list of numbers\n",
    "     sum=0\n",
    "     mean=1\n",
    "     for numbers in List:\n",
    "         sum=sum+numbers\n",
    "     mean=sum/len(List)    \n",
    "     print(f\"mean of the given list is {mean}\")\n",
    "\n",
    "\n",
    "\n",
    "\n",
    "         \n",
    "List=[]\n",
    "for x in range(1,6,1):\n",
    "    user=int(input(f\"Enter the {x} element of the list\"))\n",
    "    List.append(user)\n",
    "Mean(List)    "
   ]
  },
  {
   "cell_type": "code",
   "execution_count": 6,
   "metadata": {},
   "outputs": [
    {
     "name": "stdout",
     "output_type": "stream",
     "text": [
      "The mean of the list is: 2.0\n"
     ]
    }
   ],
   "source": [
    "#Mean using Built-in Functions\n",
    "import numpy as np\n",
    "\n",
    "def Mean(numbers):\n",
    "    # Converting the list to a NumPy array\n",
    "    aray= np.array(numbers)   \n",
    "    # Using NumPy's mean function to calculate the mean\n",
    "    mean = np.mean(aray)\n",
    "    \n",
    "    return mean\n",
    "\n",
    "List=[]\n",
    "for x in range(1,6,1):\n",
    "    user=int(input(f\"Enter the {x} element of the list\"))\n",
    "    List.append(user)\n",
    "result=Mean(user)\n",
    "print(f\"The mean of the list is: {result}\")\n"
   ]
  }
 ],
 "metadata": {
  "kernelspec": {
   "display_name": "Python 3",
   "language": "python",
   "name": "python3"
  },
  "language_info": {
   "codemirror_mode": {
    "name": "ipython",
    "version": 3
   },
   "file_extension": ".py",
   "mimetype": "text/x-python",
   "name": "python",
   "nbconvert_exporter": "python",
   "pygments_lexer": "ipython3",
   "version": "3.12.4"
  }
 },
 "nbformat": 4,
 "nbformat_minor": 2
}
