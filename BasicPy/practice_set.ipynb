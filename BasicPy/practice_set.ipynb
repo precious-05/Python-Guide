{
 "cells": [
  {
   "cell_type": "code",
   "execution_count": 9,
   "metadata": {},
   "outputs": [
    {
     "name": "stdout",
     "output_type": "stream",
     "text": [
      "['Changed', 'modified']\n"
     ]
    }
   ],
   "source": [
    "def change_lists(arr: list):\n",
    "    arr[-1]= \"Changed\"\n",
    "    return arr[-1:-3:-1]\n",
    "\n",
    "\n",
    "\n",
    "\n",
    "\n",
    "lst=[\"modified\",\"altered\"]\n",
    "print(change_lists(lst))"
   ]
  },
  {
   "cell_type": "code",
   "execution_count": 14,
   "metadata": {},
   "outputs": [
    {
     "name": "stdout",
     "output_type": "stream",
     "text": [
      "{'a': 5, 'b': 2, 'c': 3}\n"
     ]
    }
   ],
   "source": [
    "d={'a':1, 'b':2, 'c':3}\n",
    "d['a']=d.get('b',0) + d.get('c',0)\n",
    "print(d)"
   ]
  }
 ],
 "metadata": {
  "kernelspec": {
   "display_name": "Python 3",
   "language": "python",
   "name": "python3"
  },
  "language_info": {
   "codemirror_mode": {
    "name": "ipython",
    "version": 3
   },
   "file_extension": ".py",
   "mimetype": "text/x-python",
   "name": "python",
   "nbconvert_exporter": "python",
   "pygments_lexer": "ipython3",
   "version": "3.12.4"
  }
 },
 "nbformat": 4,
 "nbformat_minor": 2
}
